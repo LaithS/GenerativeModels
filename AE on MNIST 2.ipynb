{
 "cells": [
  {
   "cell_type": "code",
   "execution_count": 1,
   "metadata": {},
   "outputs": [],
   "source": [
    "import warnings\n",
    "warnings.filterwarnings('ignore')"
   ]
  },
  {
   "cell_type": "markdown",
   "metadata": {},
   "source": [
    "# Prepare the Dataset"
   ]
  },
  {
   "cell_type": "code",
   "execution_count": 2,
   "metadata": {},
   "outputs": [],
   "source": [
    "dataset_name = 'MNIST'"
   ]
  },
  {
   "cell_type": "code",
   "execution_count": 3,
   "metadata": {
    "scrolled": true
   },
   "outputs": [
    {
     "name": "stderr",
     "output_type": "stream",
     "text": [
      "Using TensorFlow backend.\n"
     ]
    },
    {
     "name": "stdout",
     "output_type": "stream",
     "text": [
      "Dataset size (70000, 28, 28)\n"
     ]
    }
   ],
   "source": [
    "import numpy as np\n",
    "from keras.datasets import mnist\n",
    "(X, y), (X_test, y_test) = mnist.load_data()\n",
    "X = np.concatenate((X, X_test))\n",
    "y = np.concatenate((y, y_test))\n",
    "imgs = X\n",
    "del X_test\n",
    "del y_test\n",
    "\n",
    "print('Dataset size {}'.format(X.shape))\n"
   ]
  },
  {
   "cell_type": "markdown",
   "metadata": {},
   "source": [
    "# AE"
   ]
  },
  {
   "cell_type": "code",
   "execution_count": 4,
   "metadata": {},
   "outputs": [],
   "source": [
    "model_name = 'AE'"
   ]
  },
  {
   "cell_type": "code",
   "execution_count": null,
   "metadata": {},
   "outputs": [],
   "source": [
    "from DL.AE import AE"
   ]
  },
  {
   "cell_type": "code",
   "execution_count": null,
   "metadata": {},
   "outputs": [],
   "source": [
    "ae = AE(dataset_name, epochs=int(2e5), num_layers=3, hidden_dim=500, l_rate=1e-05, batch_size=64, plot=True)"
   ]
  },
  {
   "cell_type": "code",
   "execution_count": null,
   "metadata": {
    "scrolled": true
   },
   "outputs": [
    {
     "name": "stdout",
     "output_type": "stream",
     "text": [
      "\n",
      " Processing data...\n",
      "Scaling dataset\n",
      "Training dataset shape:  (56000, 28, 28, 3)\n",
      "Validation dataset shape:  (14000, 28, 28, 3)\n",
      "\n",
      " building a model...\n",
      "\n",
      "WARNING: The TensorFlow contrib module will not be included in TensorFlow 2.0.\n",
      "For more information, please see:\n",
      "  * https://github.com/tensorflow/community/blob/master/rfcs/20180907-contrib-sunset.md\n",
      "  * https://github.com/tensorflow/addons\n",
      "If you depend on functionality not listed there, please file an issue.\n",
      "\n",
      "WARNING:tensorflow:From C:\\ProgramData\\Anaconda34\\envs\\gpu_env\\lib\\site-packages\\tensorflow\\python\\framework\\op_def_library.py:263: colocate_with (from tensorflow.python.framework.ops) is deprecated and will be removed in a future version.\n",
      "Instructions for updating:\n",
      "Colocations handled automatically by placer.\n",
      "\n",
      "[*] Defining encoder...\n",
      "\n",
      "WARNING:tensorflow:From C:\\Users\\KhalidKahlootBME\\Documents\\projects\\Generative Models\\networks\\dense_net.py:73: dense (from tensorflow.python.layers.core) is deprecated and will be removed in a future version.\n",
      "Instructions for updating:\n",
      "Use keras.layers.dense instead.\n",
      "[*] Layer ( encoder/dense_1/Relu:0 ) output shape: [64, 500]\n",
      "WARNING:tensorflow:From C:\\Users\\KhalidKahlootBME\\Documents\\projects\\Generative Models\\networks\\dense_net.py:88: dropout (from tensorflow.python.layers.core) is deprecated and will be removed in a future version.\n",
      "Instructions for updating:\n",
      "Use keras.layers.dropout instead.\n",
      "[*] Layer ( encoder/dense_1_dropout/Identity:0 ) output shape: [64, 500]\n",
      "[*] Layer ( encoder/dense_2/Relu:0 ) output shape: [64, 500]\n",
      "[*] Layer ( encoder/dense_2_dropout/Identity:0 ) output shape: [64, 500]\n",
      "WARNING:tensorflow:From C:\\Users\\KhalidKahlootBME\\Documents\\projects\\Generative Models\\networks\\dense_net.py:79: batch_normalization (from tensorflow.python.layers.normalization) is deprecated and will be removed in a future version.\n",
      "Instructions for updating:\n",
      "Use keras.layers.batch_normalization instead.\n",
      "[*] Layer ( encoder/H2_batch_norm/batchnorm/add_1:0 ) output shape: [64, 500]\n",
      "[*] Layer ( encoder/dense_3/BiasAdd:0 ) output shape: [64, 10]\n",
      "\n",
      "[*] Defining decoder...\n",
      "\n",
      "[*] Layer ( decoder/dense_1/Relu:0 ) output shape: [64, 500]\n",
      "[*] Layer ( decoder/dense_1_dropout/Identity:0 ) output shape: [64, 500]\n",
      "[*] Layer ( decoder/dense_2/Relu:0 ) output shape: [64, 500]\n",
      "[*] Layer ( decoder/dense_2_dropout/Identity:0 ) output shape: [64, 500]\n",
      "[*] Layer ( decoder/H2_batch_norm/batchnorm/add_1:0 ) output shape: [64, 500]\n",
      "[*] Layer ( decoder/dense_3/Sigmoid:0 ) output shape: [64, 2352]\n",
      "[*] Defining Loss Functions and Optimizer...\n",
      "WARNING:tensorflow:From C:\\ProgramData\\Anaconda34\\envs\\gpu_env\\lib\\site-packages\\tensorflow\\python\\ops\\math_ops.py:3066: to_int32 (from tensorflow.python.ops.math_ops) is deprecated and will be removed in a future version.\n",
      "Instructions for updating:\n",
      "Use tf.cast instead.\n",
      "building AE Model...\n",
      "\n",
      "Number of trainable paramters 2868362\n",
      "\n",
      " training a model...\n",
      "Initizalizing Variables ...\n",
      "EPOCH:  0\n"
     ]
    },
    {
     "name": "stderr",
     "output_type": "stream",
     "text": [
      "100%|████████████████████████████████████████████████████████████████████████████████| 875/875 [00:16<00:00, 53.66it/s]\n",
      "100%|███████████████████████████████████████████████████████████████████████████████| 218/218 [00:01<00:00, 191.28it/s]\n"
     ]
    },
    {
     "name": "stdout",
     "output_type": "stream",
     "text": [
      "TRAIN | AE Loss:  842.425  | Recons:  842.40656  | L2_loss:  1833.8634\n",
      "VALID | AE Loss:  628.8727  | Recons:  628.8545\n",
      "Saving model...\n",
      "Model saved\n",
      "Generating Z Space ...\n",
      "Loading model checkpoint experiments\\checkpoint_dir\\AE_MNIST_latent_dim10_h_dim500_h_nl3\\-875 ...\n",
      "\n",
      "WARNING:tensorflow:From C:\\ProgramData\\Anaconda34\\envs\\gpu_env\\lib\\site-packages\\tensorflow\\python\\training\\saver.py:1266: checkpoint_exists (from tensorflow.python.training.checkpoint_management) is deprecated and will be removed in a future version.\n",
      "Instructions for updating:\n",
      "Use standard file APIs to check for files with this prefix.\n",
      "INFO:tensorflow:Restoring parameters from experiments\\checkpoint_dir\\AE_MNIST_latent_dim10_h_dim500_h_nl3\\-875\n",
      "Model loaded\n",
      "EPOCHS trained:  0\n"
     ]
    },
    {
     "name": "stderr",
     "output_type": "stream",
     "text": [
      "100%|███████████████████████████████████████████████████████████████████████████████| 875/875 [00:01<00:00, 637.44it/s]\n"
     ]
    },
    {
     "name": "stdout",
     "output_type": "stream",
     "text": [
      "Z space dimensions: (56000, 2)\n",
      "Ploting Z space ...\n",
      "data size (56000, 2)\n"
     ]
    },
    {
     "name": "stderr",
     "output_type": "stream",
     "text": [
      "100%|██████████████████████████████████████████████████████████████████████████| 56000/56000 [00:10<00:00, 5193.36it/s]\n"
     ]
    },
    {
     "name": "stdout",
     "output_type": "stream",
     "text": [
      "Saving Image experiments\\log_dir\\AE_MNIST_latent_dim10_h_dim500_h_nl3\\AE_MNIST_latent_dim10_h_dim500_h_nl3 Z space in epoch 0.jpg ...\n",
      "Generating Samples ...\n",
      "Loading model checkpoint experiments\\checkpoint_dir\\AE_MNIST_latent_dim10_h_dim500_h_nl3\\-875 ...\n",
      "\n",
      "INFO:tensorflow:Restoring parameters from experiments\\checkpoint_dir\\AE_MNIST_latent_dim10_h_dim500_h_nl3\\-875\n",
      "Model loaded\n",
      "EPOCHS trained:  0\n"
     ]
    },
    {
     "name": "stderr",
     "output_type": "stream",
     "text": [
      "2it [00:00, 128.03it/s]                                                                                                \n"
     ]
    },
    {
     "name": "stdout",
     "output_type": "stream",
     "text": [
      "Loading model checkpoint experiments\\checkpoint_dir\\AE_MNIST_latent_dim10_h_dim500_h_nl3\\-875 ...\n",
      "\n",
      "INFO:tensorflow:Restoring parameters from experiments\\checkpoint_dir\\AE_MNIST_latent_dim10_h_dim500_h_nl3\\-875\n",
      "Model loaded\n",
      "EPOCHS trained:  0\n"
     ]
    },
    {
     "name": "stderr",
     "output_type": "stream",
     "text": [
      "2it [00:00, 200.56it/s]                                                                                                \n"
     ]
    },
    {
     "name": "stdout",
     "output_type": "stream",
     "text": [
      "Saving Image  experiments\\log_dir\\AE_MNIST_latent_dim10_h_dim500_h_nl3\\AE_MNIST_latent_dim10_h_dim500_h_nl3 samples generation in epoch 0.jpg\n",
      "EPOCH:  1\n"
     ]
    },
    {
     "name": "stderr",
     "output_type": "stream",
     "text": [
      "100%|████████████████████████████████████████████████████████████████████████████████| 875/875 [00:16<00:00, 51.85it/s]\n",
      "100%|███████████████████████████████████████████████████████████████████████████████| 218/218 [00:01<00:00, 181.75it/s]\n"
     ]
    },
    {
     "name": "stdout",
     "output_type": "stream",
     "text": [
      "TRAIN | AE Loss:  611.22974  | Recons:  611.21155  | L2_loss:  1817.5\n",
      "VALID | AE Loss:  585.98364  | Recons:  585.96545\n",
      "EPOCH:  2\n"
     ]
    },
    {
     "name": "stderr",
     "output_type": "stream",
     "text": [
      "100%|████████████████████████████████████████████████████████████████████████████████| 875/875 [00:17<00:00, 51.09it/s]\n",
      "100%|███████████████████████████████████████████████████████████████████████████████| 218/218 [00:01<00:00, 183.41it/s]\n"
     ]
    },
    {
     "name": "stdout",
     "output_type": "stream",
     "text": [
      "TRAIN | AE Loss:  552.7186  | Recons:  552.70044  | L2_loss:  1820.2909\n",
      "VALID | AE Loss:  519.1727  | Recons:  519.1545\n",
      "EPOCH:  3\n"
     ]
    },
    {
     "name": "stderr",
     "output_type": "stream",
     "text": [
      "100%|████████████████████████████████████████████████████████████████████████████████| 875/875 [00:16<00:00, 52.49it/s]\n",
      "100%|███████████████████████████████████████████████████████████████████████████████| 218/218 [00:01<00:00, 183.41it/s]\n"
     ]
    },
    {
     "name": "stdout",
     "output_type": "stream",
     "text": [
      "TRAIN | AE Loss:  486.33163  | Recons:  486.31326  | L2_loss:  1835.7091\n",
      "VALID | AE Loss:  458.74142  | Recons:  458.723\n",
      "EPOCH:  4\n"
     ]
    },
    {
     "name": "stderr",
     "output_type": "stream",
     "text": [
      "100%|████████████████████████████████████████████████████████████████████████████████| 875/875 [00:17<00:00, 51.36it/s]\n",
      "100%|███████████████████████████████████████████████████████████████████████████████| 218/218 [00:01<00:00, 171.48it/s]\n"
     ]
    },
    {
     "name": "stdout",
     "output_type": "stream",
     "text": [
      "TRAIN | AE Loss:  441.6193  | Recons:  441.60074  | L2_loss:  1851.7407\n",
      "VALID | AE Loss:  426.9768  | Recons:  426.95822\n",
      "EPOCH:  5\n"
     ]
    },
    {
     "name": "stderr",
     "output_type": "stream",
     "text": [
      "100%|████████████████████████████████████████████████████████████████████████████████| 875/875 [00:17<00:00, 36.35it/s]\n",
      "100%|███████████████████████████████████████████████████████████████████████████████| 218/218 [00:01<00:00, 115.13it/s]\n"
     ]
    },
    {
     "name": "stdout",
     "output_type": "stream",
     "text": [
      "TRAIN | AE Loss:  416.41824  | Recons:  416.39954  | L2_loss:  1867.9557\n",
      "VALID | AE Loss:  407.61603  | Recons:  407.59726\n",
      "EPOCH:  6\n"
     ]
    },
    {
     "name": "stderr",
     "output_type": "stream",
     "text": [
      "100%|████████████████████████████████████████████████████████████████████████████████| 875/875 [00:16<00:00, 54.67it/s]\n",
      "100%|███████████████████████████████████████████████████████████████████████████████| 218/218 [00:01<00:00, 188.26it/s]\n"
     ]
    },
    {
     "name": "stdout",
     "output_type": "stream",
     "text": [
      "TRAIN | AE Loss:  400.05383  | Recons:  400.035  | L2_loss:  1883.7917\n",
      "VALID | AE Loss:  392.6731  | Recons:  392.65417\n",
      "EPOCH:  7\n"
     ]
    },
    {
     "name": "stderr",
     "output_type": "stream",
     "text": [
      "100%|████████████████████████████████████████████████████████████████████████████████| 875/875 [00:16<00:00, 54.71it/s]\n",
      "100%|███████████████████████████████████████████████████████████████████████████████| 218/218 [00:01<00:00, 194.53it/s]\n"
     ]
    },
    {
     "name": "stdout",
     "output_type": "stream",
     "text": [
      "TRAIN | AE Loss:  386.01837  | Recons:  385.99936  | L2_loss:  1899.3011\n",
      "VALID | AE Loss:  379.2323  | Recons:  379.21323\n",
      "EPOCH:  8\n"
     ]
    },
    {
     "name": "stderr",
     "output_type": "stream",
     "text": [
      "100%|████████████████████████████████████████████████████████████████████████████████| 875/875 [00:16<00:00, 52.97it/s]\n",
      "100%|███████████████████████████████████████████████████████████████████████████████| 218/218 [00:01<00:00, 182.55it/s]\n"
     ]
    },
    {
     "name": "stdout",
     "output_type": "stream",
     "text": [
      "TRAIN | AE Loss:  371.99292  | Recons:  371.97375  | L2_loss:  1914.3129\n",
      "VALID | AE Loss:  365.08405  | Recons:  365.06488\n",
      "EPOCH:  9\n"
     ]
    },
    {
     "name": "stderr",
     "output_type": "stream",
     "text": [
      "100%|████████████████████████████████████████████████████████████████████████████████| 875/875 [00:17<00:00, 51.21it/s]\n",
      "100%|███████████████████████████████████████████████████████████████████████████████| 218/218 [00:01<00:00, 179.18it/s]\n"
     ]
    },
    {
     "name": "stdout",
     "output_type": "stream",
     "text": [
      "TRAIN | AE Loss:  359.24127  | Recons:  359.22205  | L2_loss:  1927.5447\n",
      "VALID | AE Loss:  353.88962  | Recons:  353.87027\n",
      "EPOCH:  10\n"
     ]
    },
    {
     "name": "stderr",
     "output_type": "stream",
     "text": [
      "100%|████████████████████████████████████████████████████████████████████████████████| 875/875 [00:17<00:00, 51.44it/s]\n",
      "100%|███████████████████████████████████████████████████████████████████████████████| 218/218 [00:01<00:00, 191.02it/s]\n"
     ]
    },
    {
     "name": "stdout",
     "output_type": "stream",
     "text": [
      "TRAIN | AE Loss:  349.7467  | Recons:  349.72736  | L2_loss:  1938.5842\n",
      "VALID | AE Loss:  345.6519  | Recons:  345.63242\n",
      "EPOCH:  11\n"
     ]
    },
    {
     "name": "stderr",
     "output_type": "stream",
     "text": [
      "100%|████████████████████████████████████████████████████████████████████████████████| 875/875 [00:16<00:00, 53.81it/s]\n",
      "100%|███████████████████████████████████████████████████████████████████████████████| 218/218 [00:01<00:00, 187.09it/s]\n"
     ]
    },
    {
     "name": "stdout",
     "output_type": "stream",
     "text": [
      "TRAIN | AE Loss:  342.9851  | Recons:  342.96564  | L2_loss:  1948.0565\n",
      "VALID | AE Loss:  340.71585  | Recons:  340.69632\n",
      "EPOCH:  12\n"
     ]
    },
    {
     "name": "stderr",
     "output_type": "stream",
     "text": [
      "100%|████████████████████████████████████████████████████████████████████████████████| 875/875 [00:16<00:00, 52.48it/s]\n",
      "100%|███████████████████████████████████████████████████████████████████████████████| 218/218 [00:01<00:00, 170.10it/s]\n"
     ]
    },
    {
     "name": "stdout",
     "output_type": "stream",
     "text": [
      "TRAIN | AE Loss:  337.72244  | Recons:  337.70285  | L2_loss:  1956.422\n",
      "VALID | AE Loss:  335.10226  | Recons:  335.0827\n",
      "EPOCH:  13\n"
     ]
    },
    {
     "name": "stderr",
     "output_type": "stream",
     "text": [
      "100%|████████████████████████████████████████████████████████████████████████████████| 875/875 [00:17<00:00, 51.08it/s]\n",
      "100%|███████████████████████████████████████████████████████████████████████████████| 218/218 [00:01<00:00, 178.04it/s]\n"
     ]
    },
    {
     "name": "stdout",
     "output_type": "stream",
     "text": [
      "TRAIN | AE Loss:  333.3151  | Recons:  333.29547  | L2_loss:  1963.9583\n",
      "VALID | AE Loss:  331.25143  | Recons:  331.23172\n",
      "EPOCH:  14\n"
     ]
    },
    {
     "name": "stderr",
     "output_type": "stream",
     "text": [
      "100%|████████████████████████████████████████████████████████████████████████████████| 875/875 [00:17<00:00, 49.04it/s]\n",
      "100%|███████████████████████████████████████████████████████████████████████████████| 218/218 [00:01<00:00, 190.24it/s]\n"
     ]
    },
    {
     "name": "stdout",
     "output_type": "stream",
     "text": [
      "TRAIN | AE Loss:  329.43942  | Recons:  329.4197  | L2_loss:  1970.7249\n",
      "VALID | AE Loss:  328.12845  | Recons:  328.1087\n",
      "EPOCH:  15\n"
     ]
    },
    {
     "name": "stderr",
     "output_type": "stream",
     "text": [
      "100%|████████████████████████████████████████████████████████████████████████████████| 875/875 [00:15<00:00, 55.20it/s]\n",
      "100%|███████████████████████████████████████████████████████████████████████████████| 218/218 [00:01<00:00, 187.30it/s]\n"
     ]
    },
    {
     "name": "stdout",
     "output_type": "stream",
     "text": [
      "TRAIN | AE Loss:  325.94693  | Recons:  325.92715  | L2_loss:  1976.9219\n",
      "VALID | AE Loss:  324.252  | Recons:  324.23224\n",
      "Saving model...\n",
      "Model saved\n",
      "Generating Z Space ...\n",
      "Loading model checkpoint experiments\\checkpoint_dir\\AE_MNIST_latent_dim10_h_dim500_h_nl3\\-14000 ...\n",
      "\n",
      "INFO:tensorflow:Restoring parameters from experiments\\checkpoint_dir\\AE_MNIST_latent_dim10_h_dim500_h_nl3\\-14000\n",
      "Model loaded\n",
      "EPOCHS trained:  15\n"
     ]
    },
    {
     "name": "stderr",
     "output_type": "stream",
     "text": [
      "100%|███████████████████████████████████████████████████████████████████████████████| 875/875 [00:01<00:00, 581.79it/s]\n"
     ]
    },
    {
     "name": "stdout",
     "output_type": "stream",
     "text": [
      "Z space dimensions: (56000, 2)\n",
      "Ploting Z space ...\n",
      "data size (56000, 2)\n"
     ]
    },
    {
     "name": "stderr",
     "output_type": "stream",
     "text": [
      "100%|██████████████████████████████████████████████████████████████████████████| 56000/56000 [00:11<00:00, 4820.78it/s]\n"
     ]
    },
    {
     "name": "stdout",
     "output_type": "stream",
     "text": [
      "Saving Image experiments\\log_dir\\AE_MNIST_latent_dim10_h_dim500_h_nl3\\AE_MNIST_latent_dim10_h_dim500_h_nl3 Z space in epoch 15.jpg ...\n",
      "Generating Samples ...\n",
      "Loading model checkpoint experiments\\checkpoint_dir\\AE_MNIST_latent_dim10_h_dim500_h_nl3\\-14000 ...\n",
      "\n",
      "INFO:tensorflow:Restoring parameters from experiments\\checkpoint_dir\\AE_MNIST_latent_dim10_h_dim500_h_nl3\\-14000\n",
      "Model loaded\n",
      "EPOCHS trained:  15\n"
     ]
    },
    {
     "name": "stderr",
     "output_type": "stream",
     "text": [
      "2it [00:00, 87.19it/s]                                                                                                 \n"
     ]
    },
    {
     "name": "stdout",
     "output_type": "stream",
     "text": [
      "Loading model checkpoint experiments\\checkpoint_dir\\AE_MNIST_latent_dim10_h_dim500_h_nl3\\-14000 ...\n",
      "\n",
      "INFO:tensorflow:Restoring parameters from experiments\\checkpoint_dir\\AE_MNIST_latent_dim10_h_dim500_h_nl3\\-14000\n",
      "Model loaded\n",
      "EPOCHS trained:  15\n"
     ]
    },
    {
     "name": "stderr",
     "output_type": "stream",
     "text": [
      "2it [00:00, 153.90it/s]                                                                                                \n"
     ]
    },
    {
     "name": "stdout",
     "output_type": "stream",
     "text": [
      "Saving Image  experiments\\log_dir\\AE_MNIST_latent_dim10_h_dim500_h_nl3\\AE_MNIST_latent_dim10_h_dim500_h_nl3 samples generation in epoch 15.jpg\n",
      "EPOCH:  16\n"
     ]
    },
    {
     "name": "stderr",
     "output_type": "stream",
     "text": [
      "100%|████████████████████████████████████████████████████████████████████████████████| 875/875 [00:16<00:00, 52.51it/s]\n",
      "100%|███████████████████████████████████████████████████████████████████████████████| 218/218 [00:01<00:00, 187.23it/s]\n"
     ]
    },
    {
     "name": "stdout",
     "output_type": "stream",
     "text": [
      "TRAIN | AE Loss:  322.71945  | Recons:  322.69965  | L2_loss:  1982.7701\n",
      "VALID | AE Loss:  321.34497  | Recons:  321.3251\n",
      "EPOCH:  17\n"
     ]
    },
    {
     "name": "stderr",
     "output_type": "stream",
     "text": [
      "100%|████████████████████████████████████████████████████████████████████████████████| 875/875 [00:16<00:00, 53.74it/s]\n",
      "100%|███████████████████████████████████████████████████████████████████████████████| 218/218 [00:01<00:00, 193.13it/s]\n"
     ]
    },
    {
     "name": "stdout",
     "output_type": "stream",
     "text": [
      "TRAIN | AE Loss:  319.77237  | Recons:  319.75244  | L2_loss:  1988.313\n",
      "VALID | AE Loss:  318.60107  | Recons:  318.58115\n",
      "EPOCH:  18\n"
     ]
    },
    {
     "name": "stderr",
     "output_type": "stream",
     "text": [
      "100%|████████████████████████████████████████████████████████████████████████████████| 875/875 [00:16<00:00, 52.13it/s]\n",
      "100%|███████████████████████████████████████████████████████████████████████████████| 218/218 [00:01<00:00, 175.26it/s]\n"
     ]
    },
    {
     "name": "stdout",
     "output_type": "stream",
     "text": [
      "TRAIN | AE Loss:  317.04993  | Recons:  317.03  | L2_loss:  1993.6332\n",
      "VALID | AE Loss:  316.10767  | Recons:  316.08765\n",
      "EPOCH:  19\n"
     ]
    },
    {
     "name": "stderr",
     "output_type": "stream",
     "text": [
      "100%|████████████████████████████████████████████████████████████████████████████████| 875/875 [00:17<00:00, 50.54it/s]\n",
      "100%|███████████████████████████████████████████████████████████████████████████████| 218/218 [00:01<00:00, 177.90it/s]\n"
     ]
    },
    {
     "name": "stdout",
     "output_type": "stream",
     "text": [
      "TRAIN | AE Loss:  314.53143  | Recons:  314.5114  | L2_loss:  1998.8508\n",
      "VALID | AE Loss:  313.441  | Recons:  313.42102\n",
      "EPOCH:  20\n"
     ]
    },
    {
     "name": "stderr",
     "output_type": "stream",
     "text": [
      "100%|████████████████████████████████████████████████████████████████████████████████| 875/875 [00:16<00:00, 52.86it/s]\n",
      "100%|███████████████████████████████████████████████████████████████████████████████| 218/218 [00:01<00:00, 188.76it/s]\n"
     ]
    },
    {
     "name": "stdout",
     "output_type": "stream",
     "text": [
      "TRAIN | AE Loss:  312.17285  | Recons:  312.15286  | L2_loss:  2004.136\n",
      "VALID | AE Loss:  311.6406  | Recons:  311.62048\n",
      "EPOCH:  21\n"
     ]
    },
    {
     "name": "stderr",
     "output_type": "stream",
     "text": [
      "100%|████████████████████████████████████████████████████████████████████████████████| 875/875 [00:16<00:00, 53.49it/s]\n",
      "100%|███████████████████████████████████████████████████████████████████████████████| 218/218 [00:01<00:00, 189.84it/s]\n"
     ]
    },
    {
     "name": "stdout",
     "output_type": "stream",
     "text": [
      "TRAIN | AE Loss:  309.97064  | Recons:  309.95053  | L2_loss:  2009.2151\n",
      "VALID | AE Loss:  309.16357  | Recons:  309.14343\n",
      "EPOCH:  22\n"
     ]
    },
    {
     "name": "stderr",
     "output_type": "stream",
     "text": [
      "100%|████████████████████████████████████████████████████████████████████████████████| 875/875 [00:16<00:00, 52.08it/s]\n",
      "100%|███████████████████████████████████████████████████████████████████████████████| 218/218 [00:01<00:00, 175.74it/s]\n"
     ]
    },
    {
     "name": "stdout",
     "output_type": "stream",
     "text": [
      "TRAIN | AE Loss:  307.8927  | Recons:  307.87253  | L2_loss:  2014.4158\n",
      "VALID | AE Loss:  307.17633  | Recons:  307.1562\n",
      "EPOCH:  23\n"
     ]
    },
    {
     "name": "stderr",
     "output_type": "stream",
     "text": [
      "100%|████████████████████████████████████████████████████████████████████████████████| 875/875 [00:17<00:00, 50.92it/s]\n",
      "100%|███████████████████████████████████████████████████████████████████████████████| 218/218 [00:01<00:00, 185.57it/s]\n"
     ]
    },
    {
     "name": "stdout",
     "output_type": "stream",
     "text": [
      "TRAIN | AE Loss:  305.95004  | Recons:  305.92987  | L2_loss:  2019.3295\n",
      "VALID | AE Loss:  305.9904  | Recons:  305.97018\n",
      "EPOCH:  24\n"
     ]
    },
    {
     "name": "stderr",
     "output_type": "stream",
     "text": [
      "100%|████████████████████████████████████████████████████████████████████████████████| 875/875 [00:21<00:00, 39.82it/s]\n",
      "100%|███████████████████████████████████████████████████████████████████████████████| 218/218 [00:01<00:00, 117.03it/s]\n"
     ]
    },
    {
     "name": "stdout",
     "output_type": "stream",
     "text": [
      "TRAIN | AE Loss:  304.09372  | Recons:  304.07346  | L2_loss:  2023.721\n",
      "VALID | AE Loss:  303.92108  | Recons:  303.90082\n",
      "EPOCH:  25\n"
     ]
    },
    {
     "name": "stderr",
     "output_type": "stream",
     "text": [
      "100%|████████████████████████████████████████████████████████████████████████████████| 875/875 [00:23<00:00, 38.28it/s]\n",
      "100%|███████████████████████████████████████████████████████████████████████████████| 218/218 [00:02<00:00, 107.11it/s]\n"
     ]
    },
    {
     "name": "stdout",
     "output_type": "stream",
     "text": [
      "TRAIN | AE Loss:  302.3575  | Recons:  302.33722  | L2_loss:  2028.1729\n",
      "VALID | AE Loss:  301.4731  | Recons:  301.45285\n",
      "EPOCH:  26\n"
     ]
    },
    {
     "name": "stderr",
     "output_type": "stream",
     "text": [
      "100%|████████████████████████████████████████████████████████████████████████████████| 875/875 [00:23<00:00, 36.46it/s]\n",
      "100%|███████████████████████████████████████████████████████████████████████████████| 218/218 [00:01<00:00, 116.01it/s]\n"
     ]
    },
    {
     "name": "stdout",
     "output_type": "stream",
     "text": [
      "TRAIN | AE Loss:  300.68057  | Recons:  300.66028  | L2_loss:  2032.3348\n",
      "VALID | AE Loss:  300.33365  | Recons:  300.31326\n",
      "EPOCH:  27\n"
     ]
    },
    {
     "name": "stderr",
     "output_type": "stream",
     "text": [
      "100%|████████████████████████████████████████████████████████████████████████████████| 875/875 [00:23<00:00, 36.61it/s]\n",
      "100%|███████████████████████████████████████████████████████████████████████████████| 218/218 [00:01<00:00, 113.59it/s]\n"
     ]
    },
    {
     "name": "stdout",
     "output_type": "stream",
     "text": [
      "TRAIN | AE Loss:  299.09546  | Recons:  299.0751  | L2_loss:  2036.2067\n",
      "VALID | AE Loss:  299.07864  | Recons:  299.05826\n",
      "EPOCH:  28\n"
     ]
    },
    {
     "name": "stderr",
     "output_type": "stream",
     "text": [
      "100%|████████████████████████████████████████████████████████████████████████████████| 875/875 [00:23<00:00, 36.69it/s]\n",
      "100%|███████████████████████████████████████████████████████████████████████████████| 218/218 [00:01<00:00, 114.75it/s]\n"
     ]
    },
    {
     "name": "stdout",
     "output_type": "stream",
     "text": [
      "TRAIN | AE Loss:  297.62604  | Recons:  297.60565  | L2_loss:  2040.0659\n",
      "VALID | AE Loss:  296.89456  | Recons:  296.87415\n",
      "EPOCH:  29\n"
     ]
    },
    {
     "name": "stderr",
     "output_type": "stream",
     "text": [
      "100%|████████████████████████████████████████████████████████████████████████████████| 875/875 [00:23<00:00, 36.80it/s]\n",
      "100%|███████████████████████████████████████████████████████████████████████████████| 218/218 [00:01<00:00, 111.70it/s]\n"
     ]
    },
    {
     "name": "stdout",
     "output_type": "stream",
     "text": [
      "TRAIN | AE Loss:  296.21063  | Recons:  296.1902  | L2_loss:  2044.1921\n",
      "VALID | AE Loss:  296.7004  | Recons:  296.67993\n",
      "EPOCH:  30\n"
     ]
    },
    {
     "name": "stderr",
     "output_type": "stream",
     "text": [
      "100%|████████████████████████████████████████████████████████████████████████████████| 875/875 [00:22<00:00, 38.48it/s]\n",
      "100%|███████████████████████████████████████████████████████████████████████████████| 218/218 [00:01<00:00, 180.96it/s]\n"
     ]
    },
    {
     "name": "stdout",
     "output_type": "stream",
     "text": [
      "TRAIN | AE Loss:  294.8516  | Recons:  294.83112  | L2_loss:  2048.7075\n",
      "VALID | AE Loss:  295.08926  | Recons:  295.06873\n",
      "Saving model...\n",
      "Model saved\n",
      "Generating Z Space ...\n",
      "Loading model checkpoint experiments\\checkpoint_dir\\AE_MNIST_latent_dim10_h_dim500_h_nl3\\-27125 ...\n",
      "\n",
      "INFO:tensorflow:Restoring parameters from experiments\\checkpoint_dir\\AE_MNIST_latent_dim10_h_dim500_h_nl3\\-27125\n",
      "Model loaded\n",
      "EPOCHS trained:  30\n"
     ]
    },
    {
     "name": "stderr",
     "output_type": "stream",
     "text": [
      "100%|███████████████████████████████████████████████████████████████████████████████| 875/875 [00:01<00:00, 500.84it/s]\n"
     ]
    },
    {
     "name": "stdout",
     "output_type": "stream",
     "text": [
      "Z space dimensions: (56000, 2)\n",
      "Ploting Z space ...\n",
      "data size (56000, 2)\n"
     ]
    },
    {
     "name": "stderr",
     "output_type": "stream",
     "text": [
      "100%|██████████████████████████████████████████████████████████████████████████| 56000/56000 [00:11<00:00, 4869.85it/s]\n"
     ]
    },
    {
     "name": "stdout",
     "output_type": "stream",
     "text": [
      "Saving Image experiments\\log_dir\\AE_MNIST_latent_dim10_h_dim500_h_nl3\\AE_MNIST_latent_dim10_h_dim500_h_nl3 Z space in epoch 30.jpg ...\n",
      "Generating Samples ...\n",
      "Loading model checkpoint experiments\\checkpoint_dir\\AE_MNIST_latent_dim10_h_dim500_h_nl3\\-27125 ...\n",
      "\n",
      "INFO:tensorflow:Restoring parameters from experiments\\checkpoint_dir\\AE_MNIST_latent_dim10_h_dim500_h_nl3\\-27125\n",
      "Model loaded\n",
      "EPOCHS trained:  30\n"
     ]
    },
    {
     "name": "stderr",
     "output_type": "stream",
     "text": [
      "2it [00:00, 83.56it/s]                                                                                                 \n"
     ]
    },
    {
     "name": "stdout",
     "output_type": "stream",
     "text": [
      "Loading model checkpoint experiments\\checkpoint_dir\\AE_MNIST_latent_dim10_h_dim500_h_nl3\\-27125 ...\n",
      "\n",
      "INFO:tensorflow:Restoring parameters from experiments\\checkpoint_dir\\AE_MNIST_latent_dim10_h_dim500_h_nl3\\-27125\n",
      "Model loaded\n",
      "EPOCHS trained:  30\n"
     ]
    },
    {
     "name": "stderr",
     "output_type": "stream",
     "text": [
      "2it [00:00, 154.26it/s]                                                                                                \n"
     ]
    },
    {
     "name": "stdout",
     "output_type": "stream",
     "text": [
      "Saving Image  experiments\\log_dir\\AE_MNIST_latent_dim10_h_dim500_h_nl3\\AE_MNIST_latent_dim10_h_dim500_h_nl3 samples generation in epoch 30.jpg\n",
      "EPOCH:  31\n"
     ]
    },
    {
     "name": "stderr",
     "output_type": "stream",
     "text": [
      "100%|████████████████████████████████████████████████████████████████████████████████| 875/875 [00:16<00:00, 54.20it/s]\n",
      "100%|███████████████████████████████████████████████████████████████████████████████| 218/218 [00:01<00:00, 192.08it/s]\n"
     ]
    },
    {
     "name": "stdout",
     "output_type": "stream",
     "text": [
      "TRAIN | AE Loss:  293.5778  | Recons:  293.55725  | L2_loss:  2053.6934\n",
      "VALID | AE Loss:  293.38583  | Recons:  293.3653\n",
      "EPOCH:  32\n"
     ]
    },
    {
     "name": "stderr",
     "output_type": "stream",
     "text": [
      "100%|████████████████████████████████████████████████████████████████████████████████| 875/875 [00:15<00:00, 54.99it/s]\n",
      "100%|███████████████████████████████████████████████████████████████████████████████| 218/218 [00:01<00:00, 187.07it/s]\n"
     ]
    },
    {
     "name": "stdout",
     "output_type": "stream",
     "text": [
      "TRAIN | AE Loss:  292.34973  | Recons:  292.32913  | L2_loss:  2059.3994\n",
      "VALID | AE Loss:  291.93427  | Recons:  291.9136\n",
      "EPOCH:  33\n"
     ]
    },
    {
     "name": "stderr",
     "output_type": "stream",
     "text": [
      "100%|████████████████████████████████████████████████████████████████████████████████| 875/875 [00:15<00:00, 54.88it/s]\n",
      "100%|███████████████████████████████████████████████████████████████████████████████| 218/218 [00:01<00:00, 187.03it/s]\n"
     ]
    },
    {
     "name": "stdout",
     "output_type": "stream",
     "text": [
      "TRAIN | AE Loss:  291.18228  | Recons:  291.16162  | L2_loss:  2065.4106\n",
      "VALID | AE Loss:  291.6851  | Recons:  291.66443\n",
      "EPOCH:  34\n"
     ]
    },
    {
     "name": "stderr",
     "output_type": "stream",
     "text": [
      "100%|████████████████████████████████████████████████████████████████████████████████| 875/875 [00:15<00:00, 54.72it/s]\n",
      "100%|███████████████████████████████████████████████████████████████████████████████| 218/218 [00:01<00:00, 181.97it/s]\n"
     ]
    },
    {
     "name": "stdout",
     "output_type": "stream",
     "text": [
      "TRAIN | AE Loss:  290.0526  | Recons:  290.0319  | L2_loss:  2072.0095\n",
      "VALID | AE Loss:  289.7265  | Recons:  289.70575\n",
      "EPOCH:  35\n"
     ]
    },
    {
     "name": "stderr",
     "output_type": "stream",
     "text": [
      "100%|████████████████████████████████████████████████████████████████████████████████| 875/875 [00:16<00:00, 53.87it/s]\n",
      "100%|███████████████████████████████████████████████████████████████████████████████| 218/218 [00:01<00:00, 185.83it/s]\n"
     ]
    },
    {
     "name": "stdout",
     "output_type": "stream",
     "text": [
      "TRAIN | AE Loss:  288.98135  | Recons:  288.96054  | L2_loss:  2078.703\n",
      "VALID | AE Loss:  289.71667  | Recons:  289.69586\n",
      "EPOCH:  36\n"
     ]
    },
    {
     "name": "stderr",
     "output_type": "stream",
     "text": [
      "100%|████████████████████████████████████████████████████████████████████████████████| 875/875 [00:16<00:00, 51.19it/s]\n",
      "100%|███████████████████████████████████████████████████████████████████████████████| 218/218 [00:01<00:00, 175.31it/s]\n"
     ]
    },
    {
     "name": "stdout",
     "output_type": "stream",
     "text": [
      "TRAIN | AE Loss:  287.95078  | Recons:  287.92993  | L2_loss:  2085.5718\n",
      "VALID | AE Loss:  288.4577  | Recons:  288.43683\n",
      "EPOCH:  37\n"
     ]
    },
    {
     "name": "stderr",
     "output_type": "stream",
     "text": [
      "100%|████████████████████████████████████████████████████████████████████████████████| 875/875 [00:17<00:00, 51.10it/s]\n",
      "100%|███████████████████████████████████████████████████████████████████████████████| 218/218 [00:01<00:00, 167.62it/s]\n"
     ]
    },
    {
     "name": "stdout",
     "output_type": "stream",
     "text": [
      "TRAIN | AE Loss:  286.96097  | Recons:  286.94006  | L2_loss:  2092.7566\n",
      "VALID | AE Loss:  287.22684  | Recons:  287.20584\n",
      "EPOCH:  38\n"
     ]
    },
    {
     "name": "stderr",
     "output_type": "stream",
     "text": [
      "100%|████████████████████████████████████████████████████████████████████████████████| 875/875 [00:17<00:00, 50.66it/s]\n",
      "100%|███████████████████████████████████████████████████████████████████████████████| 218/218 [00:01<00:00, 171.28it/s]\n"
     ]
    },
    {
     "name": "stdout",
     "output_type": "stream",
     "text": [
      "TRAIN | AE Loss:  286.00534  | Recons:  285.98434  | L2_loss:  2099.835\n",
      "VALID | AE Loss:  286.08508  | Recons:  286.06403\n",
      "EPOCH:  39\n"
     ]
    },
    {
     "name": "stderr",
     "output_type": "stream",
     "text": [
      "100%|████████████████████████████████████████████████████████████████████████████████| 875/875 [00:21<00:00, 40.62it/s]\n",
      "100%|███████████████████████████████████████████████████████████████████████████████| 218/218 [00:01<00:00, 117.44it/s]\n"
     ]
    },
    {
     "name": "stdout",
     "output_type": "stream",
     "text": [
      "TRAIN | AE Loss:  285.08643  | Recons:  285.06537  | L2_loss:  2106.943\n",
      "VALID | AE Loss:  285.8419  | Recons:  285.82077\n",
      "EPOCH:  40\n"
     ]
    },
    {
     "name": "stderr",
     "output_type": "stream",
     "text": [
      "100%|████████████████████████████████████████████████████████████████████████████████| 875/875 [00:23<00:00, 37.29it/s]\n",
      "100%|███████████████████████████████████████████████████████████████████████████████| 218/218 [00:01<00:00, 113.21it/s]\n"
     ]
    },
    {
     "name": "stdout",
     "output_type": "stream",
     "text": [
      "TRAIN | AE Loss:  284.21692  | Recons:  284.1958  | L2_loss:  2114.0166\n",
      "VALID | AE Loss:  284.0483  | Recons:  284.0271\n",
      "EPOCH:  41\n"
     ]
    },
    {
     "name": "stderr",
     "output_type": "stream",
     "text": [
      "100%|████████████████████████████████████████████████████████████████████████████████| 875/875 [00:23<00:00, 39.30it/s]\n",
      "100%|███████████████████████████████████████████████████████████████████████████████| 218/218 [00:01<00:00, 110.22it/s]\n"
     ]
    },
    {
     "name": "stdout",
     "output_type": "stream",
     "text": [
      "TRAIN | AE Loss:  283.34912  | Recons:  283.32788  | L2_loss:  2121.254\n",
      "VALID | AE Loss:  284.12604  | Recons:  284.10483\n",
      "total loss Patience count:  1\n",
      "EPOCH:  42\n"
     ]
    },
    {
     "name": "stderr",
     "output_type": "stream",
     "text": [
      "100%|████████████████████████████████████████████████████████████████████████████████| 875/875 [00:24<00:00, 36.24it/s]\n",
      "100%|███████████████████████████████████████████████████████████████████████████████| 218/218 [00:02<00:00, 108.87it/s]\n"
     ]
    },
    {
     "name": "stdout",
     "output_type": "stream",
     "text": [
      "TRAIN | AE Loss:  282.545  | Recons:  282.52374  | L2_loss:  2128.483\n",
      "VALID | AE Loss:  283.3923  | Recons:  283.37097\n",
      "EPOCH:  43\n"
     ]
    },
    {
     "name": "stderr",
     "output_type": "stream",
     "text": [
      "100%|████████████████████████████████████████████████████████████████████████████████| 875/875 [00:24<00:00, 36.13it/s]\n",
      "100%|███████████████████████████████████████████████████████████████████████████████| 218/218 [00:01<00:00, 112.88it/s]\n"
     ]
    },
    {
     "name": "stdout",
     "output_type": "stream",
     "text": [
      "TRAIN | AE Loss:  281.7485  | Recons:  281.72717  | L2_loss:  2135.489\n",
      "VALID | AE Loss:  282.14386  | Recons:  282.12244\n",
      "EPOCH:  44\n"
     ]
    },
    {
     "name": "stderr",
     "output_type": "stream",
     "text": [
      "100%|████████████████████████████████████████████████████████████████████████████████| 875/875 [00:24<00:00, 35.01it/s]\n",
      "100%|███████████████████████████████████████████████████████████████████████████████| 218/218 [00:02<00:00, 103.22it/s]\n"
     ]
    },
    {
     "name": "stdout",
     "output_type": "stream",
     "text": [
      "TRAIN | AE Loss:  280.9831  | Recons:  280.96167  | L2_loss:  2142.7063\n",
      "VALID | AE Loss:  280.7622  | Recons:  280.74075\n",
      "EPOCH:  45\n"
     ]
    },
    {
     "name": "stderr",
     "output_type": "stream",
     "text": [
      "100%|████████████████████████████████████████████████████████████████████████████████| 875/875 [00:24<00:00, 38.28it/s]\n",
      "100%|███████████████████████████████████████████████████████████████████████████████| 218/218 [00:01<00:00, 111.80it/s]\n"
     ]
    },
    {
     "name": "stdout",
     "output_type": "stream",
     "text": [
      "TRAIN | AE Loss:  280.2344  | Recons:  280.21292  | L2_loss:  2149.6587\n",
      "VALID | AE Loss:  281.54282  | Recons:  281.52124\n",
      "Saving model...\n",
      "Model saved\n",
      "Generating Z Space ...\n",
      "Loading model checkpoint experiments\\checkpoint_dir\\AE_MNIST_latent_dim10_h_dim500_h_nl3\\-40250 ...\n",
      "\n",
      "INFO:tensorflow:Restoring parameters from experiments\\checkpoint_dir\\AE_MNIST_latent_dim10_h_dim500_h_nl3\\-40250\n",
      "Model loaded\n",
      "EPOCHS trained:  45\n"
     ]
    },
    {
     "name": "stderr",
     "output_type": "stream",
     "text": [
      "100%|███████████████████████████████████████████████████████████████████████████████| 875/875 [00:03<00:00, 273.01it/s]\n"
     ]
    },
    {
     "name": "stdout",
     "output_type": "stream",
     "text": [
      "Z space dimensions: (56000, 2)\n",
      "Ploting Z space ...\n",
      "data size (56000, 2)\n"
     ]
    },
    {
     "name": "stderr",
     "output_type": "stream",
     "text": [
      "100%|██████████████████████████████████████████████████████████████████████████| 56000/56000 [00:18<00:00, 2984.75it/s]\n"
     ]
    },
    {
     "name": "stdout",
     "output_type": "stream",
     "text": [
      "Saving Image experiments\\log_dir\\AE_MNIST_latent_dim10_h_dim500_h_nl3\\AE_MNIST_latent_dim10_h_dim500_h_nl3 Z space in epoch 45.jpg ...\n",
      "Generating Samples ...\n",
      "Loading model checkpoint experiments\\checkpoint_dir\\AE_MNIST_latent_dim10_h_dim500_h_nl3\\-40250 ...\n",
      "\n",
      "INFO:tensorflow:Restoring parameters from experiments\\checkpoint_dir\\AE_MNIST_latent_dim10_h_dim500_h_nl3\\-40250\n",
      "Model loaded\n",
      "EPOCHS trained:  45\n"
     ]
    },
    {
     "name": "stderr",
     "output_type": "stream",
     "text": [
      "2it [00:00, 74.27it/s]                                                                                                 \n"
     ]
    },
    {
     "name": "stdout",
     "output_type": "stream",
     "text": [
      "Loading model checkpoint experiments\\checkpoint_dir\\AE_MNIST_latent_dim10_h_dim500_h_nl3\\-40250 ...\n",
      "\n",
      "INFO:tensorflow:Restoring parameters from experiments\\checkpoint_dir\\AE_MNIST_latent_dim10_h_dim500_h_nl3\\-40250\n",
      "Model loaded\n",
      "EPOCHS trained:  45\n"
     ]
    },
    {
     "name": "stderr",
     "output_type": "stream",
     "text": [
      "2it [00:00, 133.44it/s]                                                                                                \n"
     ]
    },
    {
     "name": "stdout",
     "output_type": "stream",
     "text": [
      "Saving Image  experiments\\log_dir\\AE_MNIST_latent_dim10_h_dim500_h_nl3\\AE_MNIST_latent_dim10_h_dim500_h_nl3 samples generation in epoch 45.jpg\n",
      "total loss Patience count:  1\n",
      "EPOCH:  46\n"
     ]
    },
    {
     "name": "stderr",
     "output_type": "stream",
     "text": [
      "100%|████████████████████████████████████████████████████████████████████████████████| 875/875 [00:16<00:00, 55.48it/s]\n",
      "100%|███████████████████████████████████████████████████████████████████████████████| 218/218 [00:01<00:00, 186.07it/s]\n"
     ]
    },
    {
     "name": "stdout",
     "output_type": "stream",
     "text": [
      "TRAIN | AE Loss:  279.51328  | Recons:  279.4917  | L2_loss:  2156.8076\n",
      "VALID | AE Loss:  280.0806  | Recons:  280.059\n",
      "EPOCH:  47\n"
     ]
    },
    {
     "name": "stderr",
     "output_type": "stream",
     "text": [
      "100%|████████████████████████████████████████████████████████████████████████████████| 875/875 [00:16<00:00, 52.68it/s]\n",
      "100%|███████████████████████████████████████████████████████████████████████████████| 218/218 [00:01<00:00, 182.96it/s]\n"
     ]
    },
    {
     "name": "stdout",
     "output_type": "stream",
     "text": [
      "TRAIN | AE Loss:  278.82336  | Recons:  278.80173  | L2_loss:  2163.699\n",
      "VALID | AE Loss:  279.34793  | Recons:  279.32626\n",
      "EPOCH:  48\n"
     ]
    },
    {
     "name": "stderr",
     "output_type": "stream",
     "text": [
      "100%|████████████████████████████████████████████████████████████████████████████████| 875/875 [00:16<00:00, 53.78it/s]\n",
      "100%|███████████████████████████████████████████████████████████████████████████████| 218/218 [00:01<00:00, 186.05it/s]\n"
     ]
    },
    {
     "name": "stdout",
     "output_type": "stream",
     "text": [
      "TRAIN | AE Loss:  278.1434  | Recons:  278.1217  | L2_loss:  2170.5479\n",
      "VALID | AE Loss:  279.11755  | Recons:  279.09583\n",
      "EPOCH:  49\n"
     ]
    },
    {
     "name": "stderr",
     "output_type": "stream",
     "text": [
      "100%|████████████████████████████████████████████████████████████████████████████████| 875/875 [00:16<00:00, 48.59it/s]\n",
      "100%|███████████████████████████████████████████████████████████████████████████████| 218/218 [00:01<00:00, 175.86it/s]\n"
     ]
    },
    {
     "name": "stdout",
     "output_type": "stream",
     "text": [
      "TRAIN | AE Loss:  277.47815  | Recons:  277.4564  | L2_loss:  2177.617\n",
      "VALID | AE Loss:  278.74466  | Recons:  278.72284\n",
      "EPOCH:  50\n"
     ]
    },
    {
     "name": "stderr",
     "output_type": "stream",
     "text": [
      "100%|████████████████████████████████████████████████████████████████████████████████| 875/875 [00:19<00:00, 37.92it/s]\n",
      "100%|███████████████████████████████████████████████████████████████████████████████| 218/218 [00:01<00:00, 110.60it/s]\n"
     ]
    },
    {
     "name": "stdout",
     "output_type": "stream",
     "text": [
      "TRAIN | AE Loss:  276.8396  | Recons:  276.81778  | L2_loss:  2184.543\n",
      "VALID | AE Loss:  276.66968  | Recons:  276.64783\n",
      "EPOCH:  51\n"
     ]
    },
    {
     "name": "stderr",
     "output_type": "stream",
     "text": [
      "100%|████████████████████████████████████████████████████████████████████████████████| 875/875 [00:23<00:00, 37.35it/s]\n",
      "100%|███████████████████████████████████████████████████████████████████████████████| 218/218 [00:01<00:00, 113.24it/s]\n"
     ]
    },
    {
     "name": "stdout",
     "output_type": "stream",
     "text": [
      "TRAIN | AE Loss:  276.23083  | Recons:  276.20892  | L2_loss:  2191.1938\n",
      "VALID | AE Loss:  277.39816  | Recons:  277.37622\n",
      "total loss Patience count:  1\n",
      "EPOCH:  52\n"
     ]
    },
    {
     "name": "stderr",
     "output_type": "stream",
     "text": [
      "100%|████████████████████████████████████████████████████████████████████████████████| 875/875 [00:23<00:00, 37.32it/s]\n",
      "100%|███████████████████████████████████████████████████████████████████████████████| 218/218 [00:01<00:00, 114.82it/s]\n"
     ]
    },
    {
     "name": "stdout",
     "output_type": "stream",
     "text": [
      "TRAIN | AE Loss:  275.61646  | Recons:  275.5945  | L2_loss:  2197.9468\n",
      "VALID | AE Loss:  276.53116  | Recons:  276.50912\n",
      "EPOCH:  53\n"
     ]
    },
    {
     "name": "stderr",
     "output_type": "stream",
     "text": [
      "100%|████████████████████████████████████████████████████████████████████████████████| 875/875 [00:23<00:00, 37.72it/s]\n",
      "100%|███████████████████████████████████████████████████████████████████████████████| 218/218 [00:01<00:00, 114.33it/s]\n"
     ]
    },
    {
     "name": "stdout",
     "output_type": "stream",
     "text": [
      "TRAIN | AE Loss:  275.03256  | Recons:  275.01053  | L2_loss:  2204.8052\n",
      "VALID | AE Loss:  275.85028  | Recons:  275.8282\n",
      "EPOCH:  54\n"
     ]
    },
    {
     "name": "stderr",
     "output_type": "stream",
     "text": [
      "100%|████████████████████████████████████████████████████████████████████████████████| 875/875 [00:23<00:00, 37.23it/s]\n",
      "100%|███████████████████████████████████████████████████████████████████████████████| 218/218 [00:01<00:00, 113.47it/s]\n"
     ]
    },
    {
     "name": "stdout",
     "output_type": "stream",
     "text": [
      "TRAIN | AE Loss:  274.46536  | Recons:  274.44324  | L2_loss:  2211.3215\n",
      "VALID | AE Loss:  274.5032  | Recons:  274.48102\n",
      "EPOCH:  55\n"
     ]
    },
    {
     "name": "stderr",
     "output_type": "stream",
     "text": [
      "100%|████████████████████████████████████████████████████████████████████████████████| 875/875 [00:23<00:00, 37.21it/s]\n",
      "100%|███████████████████████████████████████████████████████████████████████████████| 218/218 [00:01<00:00, 113.56it/s]\n"
     ]
    },
    {
     "name": "stdout",
     "output_type": "stream",
     "text": [
      "TRAIN | AE Loss:  273.9045  | Recons:  273.88232  | L2_loss:  2217.89\n",
      "VALID | AE Loss:  275.74017  | Recons:  275.71796\n",
      "total loss Patience count:  1\n",
      "EPOCH:  56\n"
     ]
    },
    {
     "name": "stderr",
     "output_type": "stream",
     "text": [
      "100%|████████████████████████████████████████████████████████████████████████████████| 875/875 [00:23<00:00, 37.00it/s]\n",
      "100%|███████████████████████████████████████████████████████████████████████████████| 218/218 [00:01<00:00, 117.89it/s]\n"
     ]
    },
    {
     "name": "stdout",
     "output_type": "stream",
     "text": [
      "TRAIN | AE Loss:  273.36206  | Recons:  273.3398  | L2_loss:  2224.2551\n",
      "VALID | AE Loss:  274.15936  | Recons:  274.1371\n",
      "EPOCH:  57\n"
     ]
    },
    {
     "name": "stderr",
     "output_type": "stream",
     "text": [
      "100%|████████████████████████████████████████████████████████████████████████████████| 875/875 [00:23<00:00, 39.57it/s]\n",
      "100%|███████████████████████████████████████████████████████████████████████████████| 218/218 [00:01<00:00, 110.96it/s]\n"
     ]
    },
    {
     "name": "stdout",
     "output_type": "stream",
     "text": [
      "TRAIN | AE Loss:  272.83182  | Recons:  272.8095  | L2_loss:  2230.7615\n",
      "VALID | AE Loss:  273.31253  | Recons:  273.2902\n",
      "EPOCH:  58\n"
     ]
    },
    {
     "name": "stderr",
     "output_type": "stream",
     "text": [
      "100%|████████████████████████████████████████████████████████████████████████████████| 875/875 [00:23<00:00, 38.20it/s]\n",
      "100%|███████████████████████████████████████████████████████████████████████████████| 218/218 [00:01<00:00, 115.55it/s]\n"
     ]
    },
    {
     "name": "stdout",
     "output_type": "stream",
     "text": [
      "TRAIN | AE Loss:  272.30884  | Recons:  272.28647  | L2_loss:  2237.2136\n",
      "VALID | AE Loss:  273.67624  | Recons:  273.65387\n",
      "total loss Patience count:  1\n",
      "EPOCH:  59\n"
     ]
    },
    {
     "name": "stderr",
     "output_type": "stream",
     "text": [
      "100%|████████████████████████████████████████████████████████████████████████████████| 875/875 [00:23<00:00, 37.35it/s]\n",
      "100%|███████████████████████████████████████████████████████████████████████████████| 218/218 [00:01<00:00, 111.81it/s]\n"
     ]
    },
    {
     "name": "stdout",
     "output_type": "stream",
     "text": [
      "TRAIN | AE Loss:  271.81015  | Recons:  271.7877  | L2_loss:  2243.5623\n",
      "VALID | AE Loss:  272.38068  | Recons:  272.3582\n",
      "EPOCH:  60\n"
     ]
    },
    {
     "name": "stderr",
     "output_type": "stream",
     "text": [
      "100%|████████████████████████████████████████████████████████████████████████████████| 875/875 [00:24<00:00, 36.26it/s]\n",
      "100%|███████████████████████████████████████████████████████████████████████████████| 218/218 [00:01<00:00, 113.54it/s]\n"
     ]
    },
    {
     "name": "stdout",
     "output_type": "stream",
     "text": [
      "TRAIN | AE Loss:  271.3065  | Recons:  271.284  | L2_loss:  2249.952\n",
      "VALID | AE Loss:  273.68616  | Recons:  273.66364\n",
      "Saving model...\n",
      "Model saved\n",
      "Generating Z Space ...\n",
      "Loading model checkpoint experiments\\checkpoint_dir\\AE_MNIST_latent_dim10_h_dim500_h_nl3\\-53375 ...\n",
      "\n",
      "INFO:tensorflow:Restoring parameters from experiments\\checkpoint_dir\\AE_MNIST_latent_dim10_h_dim500_h_nl3\\-53375\n",
      "Model loaded\n",
      "EPOCHS trained:  60\n"
     ]
    },
    {
     "name": "stderr",
     "output_type": "stream",
     "text": [
      "100%|███████████████████████████████████████████████████████████████████████████████| 875/875 [00:03<00:00, 282.39it/s]\n"
     ]
    },
    {
     "name": "stdout",
     "output_type": "stream",
     "text": [
      "Z space dimensions: (56000, 2)\n",
      "Ploting Z space ...\n",
      "data size (56000, 2)\n"
     ]
    },
    {
     "name": "stderr",
     "output_type": "stream",
     "text": [
      "100%|██████████████████████████████████████████████████████████████████████████| 56000/56000 [00:15<00:00, 3673.38it/s]\n"
     ]
    },
    {
     "name": "stdout",
     "output_type": "stream",
     "text": [
      "Saving Image experiments\\log_dir\\AE_MNIST_latent_dim10_h_dim500_h_nl3\\AE_MNIST_latent_dim10_h_dim500_h_nl3 Z space in epoch 60.jpg ...\n",
      "Generating Samples ...\n",
      "Loading model checkpoint experiments\\checkpoint_dir\\AE_MNIST_latent_dim10_h_dim500_h_nl3\\-53375 ...\n",
      "\n",
      "INFO:tensorflow:Restoring parameters from experiments\\checkpoint_dir\\AE_MNIST_latent_dim10_h_dim500_h_nl3\\-53375\n",
      "Model loaded\n",
      "EPOCHS trained:  60\n"
     ]
    },
    {
     "name": "stderr",
     "output_type": "stream",
     "text": [
      "2it [00:00, 52.99it/s]                                                                                                 \n"
     ]
    },
    {
     "name": "stdout",
     "output_type": "stream",
     "text": [
      "Loading model checkpoint experiments\\checkpoint_dir\\AE_MNIST_latent_dim10_h_dim500_h_nl3\\-53375 ...\n",
      "\n",
      "INFO:tensorflow:Restoring parameters from experiments\\checkpoint_dir\\AE_MNIST_latent_dim10_h_dim500_h_nl3\\-53375\n",
      "Model loaded\n",
      "EPOCHS trained:  60\n"
     ]
    },
    {
     "name": "stderr",
     "output_type": "stream",
     "text": [
      "2it [00:00, 107.35it/s]                                                                                                \n"
     ]
    },
    {
     "name": "stdout",
     "output_type": "stream",
     "text": [
      "Saving Image  experiments\\log_dir\\AE_MNIST_latent_dim10_h_dim500_h_nl3\\AE_MNIST_latent_dim10_h_dim500_h_nl3 samples generation in epoch 60.jpg\n",
      "total loss Patience count:  1\n",
      "EPOCH:  61\n"
     ]
    },
    {
     "name": "stderr",
     "output_type": "stream",
     "text": [
      "100%|████████████████████████████████████████████████████████████████████████████████| 875/875 [00:23<00:00, 36.49it/s]\n",
      "100%|███████████████████████████████████████████████████████████████████████████████| 218/218 [00:01<00:00, 113.61it/s]\n"
     ]
    },
    {
     "name": "stdout",
     "output_type": "stream",
     "text": [
      "TRAIN | AE Loss:  270.83188  | Recons:  270.80933  | L2_loss:  2256.107\n",
      "VALID | AE Loss:  271.181  | Recons:  271.15845\n",
      "EPOCH:  62\n"
     ]
    },
    {
     "name": "stderr",
     "output_type": "stream",
     "text": [
      "100%|████████████████████████████████████████████████████████████████████████████████| 875/875 [00:24<00:00, 36.06it/s]\n",
      "100%|███████████████████████████████████████████████████████████████████████████████| 218/218 [00:01<00:00, 111.42it/s]\n"
     ]
    },
    {
     "name": "stdout",
     "output_type": "stream",
     "text": [
      "TRAIN | AE Loss:  270.36346  | Recons:  270.34085  | L2_loss:  2262.4688\n",
      "VALID | AE Loss:  271.00662  | Recons:  270.98398\n",
      "EPOCH:  63\n"
     ]
    },
    {
     "name": "stderr",
     "output_type": "stream",
     "text": [
      "100%|████████████████████████████████████████████████████████████████████████████████| 875/875 [00:24<00:00, 35.43it/s]\n",
      "100%|███████████████████████████████████████████████████████████████████████████████| 218/218 [00:02<00:00, 100.47it/s]\n"
     ]
    },
    {
     "name": "stdout",
     "output_type": "stream",
     "text": [
      "TRAIN | AE Loss:  269.88007  | Recons:  269.85736  | L2_loss:  2268.6575\n",
      "VALID | AE Loss:  271.3692  | Recons:  271.3465\n",
      "total loss Patience count:  1\n",
      "EPOCH:  64\n"
     ]
    },
    {
     "name": "stderr",
     "output_type": "stream",
     "text": [
      "100%|████████████████████████████████████████████████████████████████████████████████| 875/875 [00:23<00:00, 37.02it/s]\n",
      "100%|███████████████████████████████████████████████████████████████████████████████| 218/218 [00:01<00:00, 117.52it/s]\n"
     ]
    },
    {
     "name": "stdout",
     "output_type": "stream",
     "text": [
      "TRAIN | AE Loss:  269.4365  | Recons:  269.41376  | L2_loss:  2274.8413\n",
      "VALID | AE Loss:  270.59628  | Recons:  270.57352\n",
      "EPOCH:  65\n"
     ]
    },
    {
     "name": "stderr",
     "output_type": "stream",
     "text": [
      "100%|████████████████████████████████████████████████████████████████████████████████| 875/875 [00:23<00:00, 36.56it/s]\n",
      "100%|███████████████████████████████████████████████████████████████████████████████| 218/218 [00:01<00:00, 113.13it/s]\n"
     ]
    },
    {
     "name": "stdout",
     "output_type": "stream",
     "text": [
      "TRAIN | AE Loss:  269.00665  | Recons:  268.98383  | L2_loss:  2281.103\n",
      "VALID | AE Loss:  270.3335  | Recons:  270.31067\n",
      "EPOCH:  66\n"
     ]
    },
    {
     "name": "stderr",
     "output_type": "stream",
     "text": [
      "100%|████████████████████████████████████████████████████████████████████████████████| 875/875 [00:23<00:00, 36.57it/s]\n",
      "100%|███████████████████████████████████████████████████████████████████████████████| 218/218 [00:02<00:00, 105.59it/s]\n"
     ]
    },
    {
     "name": "stdout",
     "output_type": "stream",
     "text": [
      "TRAIN | AE Loss:  268.5638  | Recons:  268.54095  | L2_loss:  2287.205\n",
      "VALID | AE Loss:  269.55057  | Recons:  269.52768\n",
      "EPOCH:  67\n"
     ]
    },
    {
     "name": "stderr",
     "output_type": "stream",
     "text": [
      "100%|████████████████████████████████████████████████████████████████████████████████| 875/875 [00:24<00:00, 35.55it/s]\n",
      "100%|███████████████████████████████████████████████████████████████████████████████| 218/218 [00:01<00:00, 109.35it/s]\n"
     ]
    },
    {
     "name": "stdout",
     "output_type": "stream",
     "text": [
      "TRAIN | AE Loss:  268.14206  | Recons:  268.11914  | L2_loss:  2293.338\n",
      "VALID | AE Loss:  268.81598  | Recons:  268.79303\n",
      "EPOCH:  68\n"
     ]
    },
    {
     "name": "stderr",
     "output_type": "stream",
     "text": [
      "100%|████████████████████████████████████████████████████████████████████████████████| 875/875 [00:24<00:00, 35.53it/s]\n",
      "100%|███████████████████████████████████████████████████████████████████████████████| 218/218 [00:02<00:00, 106.79it/s]\n"
     ]
    },
    {
     "name": "stdout",
     "output_type": "stream",
     "text": [
      "TRAIN | AE Loss:  267.73508  | Recons:  267.71207  | L2_loss:  2299.3318\n",
      "VALID | AE Loss:  269.166  | Recons:  269.143\n",
      "total loss Patience count:  1\n",
      "EPOCH:  69\n"
     ]
    },
    {
     "name": "stderr",
     "output_type": "stream",
     "text": [
      "100%|████████████████████████████████████████████████████████████████████████████████| 875/875 [00:24<00:00, 35.76it/s]\n",
      "100%|███████████████████████████████████████████████████████████████████████████████| 218/218 [00:02<00:00, 108.16it/s]\n"
     ]
    },
    {
     "name": "stdout",
     "output_type": "stream",
     "text": [
      "TRAIN | AE Loss:  267.33768  | Recons:  267.31464  | L2_loss:  2305.403\n",
      "VALID | AE Loss:  268.8645  | Recons:  268.8414\n",
      "total loss Patience count:  2\n",
      "EPOCH:  70\n"
     ]
    },
    {
     "name": "stderr",
     "output_type": "stream",
     "text": [
      "100%|████████████████████████████████████████████████████████████████████████████████| 875/875 [00:24<00:00, 35.74it/s]\n",
      "100%|███████████████████████████████████████████████████████████████████████████████| 218/218 [00:01<00:00, 109.55it/s]\n"
     ]
    },
    {
     "name": "stdout",
     "output_type": "stream",
     "text": [
      "TRAIN | AE Loss:  266.92834  | Recons:  266.90524  | L2_loss:  2311.2422\n",
      "VALID | AE Loss:  267.80734  | Recons:  267.78418\n",
      "EPOCH:  71\n"
     ]
    },
    {
     "name": "stderr",
     "output_type": "stream",
     "text": [
      "100%|████████████████████████████████████████████████████████████████████████████████| 875/875 [00:24<00:00, 35.54it/s]\n",
      "100%|███████████████████████████████████████████████████████████████████████████████| 218/218 [00:02<00:00, 105.66it/s]\n"
     ]
    },
    {
     "name": "stdout",
     "output_type": "stream",
     "text": [
      "TRAIN | AE Loss:  266.53845  | Recons:  266.51526  | L2_loss:  2317.2607\n",
      "VALID | AE Loss:  268.32092  | Recons:  268.29773\n",
      "total loss Patience count:  1\n",
      "EPOCH:  72\n"
     ]
    },
    {
     "name": "stderr",
     "output_type": "stream",
     "text": [
      "100%|████████████████████████████████████████████████████████████████████████████████| 875/875 [00:24<00:00, 38.01it/s]\n",
      "100%|███████████████████████████████████████████████████████████████████████████████| 218/218 [00:02<00:00, 107.04it/s]\n"
     ]
    },
    {
     "name": "stdout",
     "output_type": "stream",
     "text": [
      "TRAIN | AE Loss:  266.16357  | Recons:  266.14035  | L2_loss:  2323.0874\n",
      "VALID | AE Loss:  267.64767  | Recons:  267.62445\n",
      "EPOCH:  73\n"
     ]
    },
    {
     "name": "stderr",
     "output_type": "stream",
     "text": [
      "100%|████████████████████████████████████████████████████████████████████████████████| 875/875 [00:25<00:00, 33.93it/s]\n",
      "100%|███████████████████████████████████████████████████████████████████████████████| 218/218 [00:01<00:00, 121.18it/s]\n"
     ]
    },
    {
     "name": "stdout",
     "output_type": "stream",
     "text": [
      "TRAIN | AE Loss:  265.78812  | Recons:  265.76486  | L2_loss:  2329.0862\n",
      "VALID | AE Loss:  266.7311  | Recons:  266.7078\n",
      "EPOCH:  74\n"
     ]
    },
    {
     "name": "stderr",
     "output_type": "stream",
     "text": [
      "100%|████████████████████████████████████████████████████████████████████████████████| 875/875 [00:24<00:00, 35.34it/s]\n",
      "100%|███████████████████████████████████████████████████████████████████████████████| 218/218 [00:02<00:00, 107.71it/s]\n"
     ]
    },
    {
     "name": "stdout",
     "output_type": "stream",
     "text": [
      "TRAIN | AE Loss:  265.42987  | Recons:  265.4065  | L2_loss:  2334.924\n",
      "VALID | AE Loss:  267.94177  | Recons:  267.9184\n",
      "total loss Patience count:  1\n",
      "EPOCH:  75\n"
     ]
    },
    {
     "name": "stderr",
     "output_type": "stream",
     "text": [
      "100%|████████████████████████████████████████████████████████████████████████████████| 875/875 [00:24<00:00, 35.23it/s]\n",
      "100%|███████████████████████████████████████████████████████████████████████████████| 218/218 [00:01<00:00, 113.55it/s]\n"
     ]
    },
    {
     "name": "stdout",
     "output_type": "stream",
     "text": [
      "TRAIN | AE Loss:  265.0695  | Recons:  265.04608  | L2_loss:  2340.6348\n",
      "VALID | AE Loss:  266.30804  | Recons:  266.2846\n",
      "Saving model...\n",
      "WARNING:tensorflow:From C:\\ProgramData\\Anaconda34\\envs\\gpu_env\\lib\\site-packages\\tensorflow\\python\\training\\saver.py:966: remove_checkpoint (from tensorflow.python.training.checkpoint_management) is deprecated and will be removed in a future version.\n",
      "Instructions for updating:\n",
      "Use standard file APIs to delete files with this prefix.\n",
      "Model saved\n",
      "Generating Z Space ...\n",
      "Loading model checkpoint experiments\\checkpoint_dir\\AE_MNIST_latent_dim10_h_dim500_h_nl3\\-66500 ...\n",
      "\n",
      "INFO:tensorflow:Restoring parameters from experiments\\checkpoint_dir\\AE_MNIST_latent_dim10_h_dim500_h_nl3\\-66500\n",
      "Model loaded\n",
      "EPOCHS trained:  75\n"
     ]
    },
    {
     "name": "stderr",
     "output_type": "stream",
     "text": [
      "100%|███████████████████████████████████████████████████████████████████████████████| 875/875 [00:03<00:00, 274.16it/s]\n"
     ]
    },
    {
     "name": "stdout",
     "output_type": "stream",
     "text": [
      "Z space dimensions: (56000, 2)\n",
      "Ploting Z space ...\n",
      "data size (56000, 2)\n"
     ]
    },
    {
     "name": "stderr",
     "output_type": "stream",
     "text": [
      "100%|██████████████████████████████████████████████████████████████████████████| 56000/56000 [00:15<00:00, 3726.34it/s]\n"
     ]
    },
    {
     "name": "stdout",
     "output_type": "stream",
     "text": [
      "Saving Image experiments\\log_dir\\AE_MNIST_latent_dim10_h_dim500_h_nl3\\AE_MNIST_latent_dim10_h_dim500_h_nl3 Z space in epoch 75.jpg ...\n",
      "Generating Samples ...\n",
      "Loading model checkpoint experiments\\checkpoint_dir\\AE_MNIST_latent_dim10_h_dim500_h_nl3\\-66500 ...\n",
      "\n",
      "INFO:tensorflow:Restoring parameters from experiments\\checkpoint_dir\\AE_MNIST_latent_dim10_h_dim500_h_nl3\\-66500\n",
      "Model loaded\n",
      "EPOCHS trained:  75\n"
     ]
    },
    {
     "name": "stderr",
     "output_type": "stream",
     "text": [
      "2it [00:00, 40.51it/s]                                                                                                 \n"
     ]
    },
    {
     "name": "stdout",
     "output_type": "stream",
     "text": [
      "Loading model checkpoint experiments\\checkpoint_dir\\AE_MNIST_latent_dim10_h_dim500_h_nl3\\-66500 ...\n",
      "\n",
      "INFO:tensorflow:Restoring parameters from experiments\\checkpoint_dir\\AE_MNIST_latent_dim10_h_dim500_h_nl3\\-66500\n",
      "Model loaded\n",
      "EPOCHS trained:  75\n"
     ]
    },
    {
     "name": "stderr",
     "output_type": "stream",
     "text": [
      "2it [00:00, 128.07it/s]                                                                                                \n"
     ]
    },
    {
     "name": "stdout",
     "output_type": "stream",
     "text": [
      "Saving Image  experiments\\log_dir\\AE_MNIST_latent_dim10_h_dim500_h_nl3\\AE_MNIST_latent_dim10_h_dim500_h_nl3 samples generation in epoch 75.jpg\n",
      "EPOCH:  76\n"
     ]
    },
    {
     "name": "stderr",
     "output_type": "stream",
     "text": [
      "100%|████████████████████████████████████████████████████████████████████████████████| 875/875 [00:24<00:00, 33.10it/s]\n",
      "100%|███████████████████████████████████████████████████████████████████████████████| 218/218 [00:02<00:00, 105.29it/s]\n"
     ]
    },
    {
     "name": "stdout",
     "output_type": "stream",
     "text": [
      "TRAIN | AE Loss:  264.70105  | Recons:  264.67758  | L2_loss:  2346.4626\n",
      "VALID | AE Loss:  266.0282  | Recons:  266.0047\n",
      "EPOCH:  77\n"
     ]
    },
    {
     "name": "stderr",
     "output_type": "stream",
     "text": [
      "100%|████████████████████████████████████████████████████████████████████████████████| 875/875 [00:25<00:00, 35.02it/s]\n",
      "100%|████████████████████████████████████████████████████████████████████████████████| 218/218 [00:02<00:00, 98.75it/s]\n"
     ]
    },
    {
     "name": "stdout",
     "output_type": "stream",
     "text": [
      "TRAIN | AE Loss:  264.35654  | Recons:  264.333  | L2_loss:  2352.0342\n",
      "VALID | AE Loss:  266.0048  | Recons:  265.98126\n",
      "EPOCH:  78\n"
     ]
    },
    {
     "name": "stderr",
     "output_type": "stream",
     "text": [
      "100%|████████████████████████████████████████████████████████████████████████████████| 875/875 [00:24<00:00, 33.38it/s]\n",
      "100%|████████████████████████████████████████████████████████████████████████████████| 218/218 [00:02<00:00, 97.96it/s]\n"
     ]
    },
    {
     "name": "stdout",
     "output_type": "stream",
     "text": [
      "TRAIN | AE Loss:  264.0099  | Recons:  263.98633  | L2_loss:  2357.7097\n",
      "VALID | AE Loss:  264.46268  | Recons:  264.43906\n",
      "EPOCH:  79\n"
     ]
    },
    {
     "name": "stderr",
     "output_type": "stream",
     "text": [
      "100%|████████████████████████████████████████████████████████████████████████████████| 875/875 [00:24<00:00, 38.06it/s]\n",
      "100%|███████████████████████████████████████████████████████████████████████████████| 218/218 [00:02<00:00, 111.56it/s]\n"
     ]
    },
    {
     "name": "stdout",
     "output_type": "stream",
     "text": [
      "TRAIN | AE Loss:  263.67258  | Recons:  263.64893  | L2_loss:  2363.5203\n",
      "VALID | AE Loss:  266.84192  | Recons:  266.81827\n",
      "total loss Patience count:  1\n",
      "EPOCH:  80\n"
     ]
    },
    {
     "name": "stderr",
     "output_type": "stream",
     "text": [
      "100%|████████████████████████████████████████████████████████████████████████████████| 875/875 [00:23<00:00, 37.27it/s]\n",
      "100%|███████████████████████████████████████████████████████████████████████████████| 218/218 [00:01<00:00, 110.90it/s]\n"
     ]
    },
    {
     "name": "stdout",
     "output_type": "stream",
     "text": [
      "TRAIN | AE Loss:  263.34988  | Recons:  263.3262  | L2_loss:  2369.058\n",
      "VALID | AE Loss:  264.329  | Recons:  264.3053\n",
      "EPOCH:  81\n"
     ]
    },
    {
     "name": "stderr",
     "output_type": "stream",
     "text": [
      "100%|████████████████████████████████████████████████████████████████████████████████| 875/875 [00:23<00:00, 38.69it/s]\n",
      "100%|███████████████████████████████████████████████████████████████████████████████| 218/218 [00:01<00:00, 115.12it/s]\n"
     ]
    },
    {
     "name": "stdout",
     "output_type": "stream",
     "text": [
      "TRAIN | AE Loss:  263.02487  | Recons:  263.0011  | L2_loss:  2374.5117\n",
      "VALID | AE Loss:  264.94168  | Recons:  264.91794\n",
      "total loss Patience count:  1\n",
      "EPOCH:  82\n"
     ]
    },
    {
     "name": "stderr",
     "output_type": "stream",
     "text": [
      "100%|████████████████████████████████████████████████████████████████████████████████| 875/875 [00:23<00:00, 37.20it/s]\n",
      "100%|███████████████████████████████████████████████████████████████████████████████| 218/218 [00:01<00:00, 109.29it/s]\n"
     ]
    },
    {
     "name": "stdout",
     "output_type": "stream",
     "text": [
      "TRAIN | AE Loss:  262.71002  | Recons:  262.68625  | L2_loss:  2380.308\n",
      "VALID | AE Loss:  264.41678  | Recons:  264.39294\n",
      "total loss Patience count:  2\n",
      "EPOCH:  83\n"
     ]
    },
    {
     "name": "stderr",
     "output_type": "stream",
     "text": [
      "100%|████████████████████████████████████████████████████████████████████████████████| 875/875 [00:24<00:00, 36.44it/s]\n",
      "100%|███████████████████████████████████████████████████████████████████████████████| 218/218 [00:02<00:00, 107.57it/s]\n"
     ]
    },
    {
     "name": "stdout",
     "output_type": "stream",
     "text": [
      "TRAIN | AE Loss:  262.3952  | Recons:  262.37137  | L2_loss:  2385.652\n",
      "VALID | AE Loss:  264.50122  | Recons:  264.47733\n",
      "total loss Patience count:  3\n",
      "EPOCH:  84\n"
     ]
    },
    {
     "name": "stderr",
     "output_type": "stream",
     "text": [
      "100%|████████████████████████████████████████████████████████████████████████████████| 875/875 [00:24<00:00, 36.35it/s]\n",
      "100%|███████████████████████████████████████████████████████████████████████████████| 218/218 [00:02<00:00, 106.73it/s]\n"
     ]
    },
    {
     "name": "stdout",
     "output_type": "stream",
     "text": [
      "TRAIN | AE Loss:  262.08606  | Recons:  262.06213  | L2_loss:  2391.197\n",
      "VALID | AE Loss:  263.51694  | Recons:  263.493\n",
      "EPOCH:  85\n"
     ]
    },
    {
     "name": "stderr",
     "output_type": "stream",
     "text": [
      "100%|████████████████████████████████████████████████████████████████████████████████| 875/875 [00:24<00:00, 36.34it/s]\n",
      "100%|███████████████████████████████████████████████████████████████████████████████| 218/218 [00:02<00:00, 107.57it/s]\n"
     ]
    },
    {
     "name": "stdout",
     "output_type": "stream",
     "text": [
      "TRAIN | AE Loss:  261.78238  | Recons:  261.75842  | L2_loss:  2396.6885\n",
      "VALID | AE Loss:  263.1934  | Recons:  263.16943\n",
      "EPOCH:  86\n"
     ]
    },
    {
     "name": "stderr",
     "output_type": "stream",
     "text": [
      "100%|████████████████████████████████████████████████████████████████████████████████| 875/875 [00:24<00:00, 35.21it/s]\n",
      "100%|████████████████████████████████████████████████████████████████████████████████| 218/218 [00:02<00:00, 99.63it/s]\n"
     ]
    },
    {
     "name": "stdout",
     "output_type": "stream",
     "text": [
      "TRAIN | AE Loss:  261.49005  | Recons:  261.466  | L2_loss:  2402.1555\n",
      "VALID | AE Loss:  263.40546  | Recons:  263.3814\n",
      "total loss Patience count:  1\n",
      "EPOCH:  87\n"
     ]
    },
    {
     "name": "stderr",
     "output_type": "stream",
     "text": [
      "100%|████████████████████████████████████████████████████████████████████████████████| 875/875 [00:23<00:00, 37.43it/s]\n",
      "100%|███████████████████████████████████████████████████████████████████████████████| 218/218 [00:02<00:00, 106.63it/s]\n"
     ]
    },
    {
     "name": "stdout",
     "output_type": "stream",
     "text": [
      "TRAIN | AE Loss:  261.19836  | Recons:  261.1743  | L2_loss:  2407.5146\n",
      "VALID | AE Loss:  263.1759  | Recons:  263.15176\n",
      "EPOCH:  88\n"
     ]
    },
    {
     "name": "stderr",
     "output_type": "stream",
     "text": [
      "100%|████████████████████████████████████████████████████████████████████████████████| 875/875 [00:24<00:00, 36.14it/s]\n",
      "100%|███████████████████████████████████████████████████████████████████████████████| 218/218 [00:02<00:00, 107.57it/s]\n"
     ]
    },
    {
     "name": "stdout",
     "output_type": "stream",
     "text": [
      "TRAIN | AE Loss:  260.90137  | Recons:  260.87726  | L2_loss:  2412.9846\n",
      "VALID | AE Loss:  262.59546  | Recons:  262.57132\n",
      "EPOCH:  89\n"
     ]
    },
    {
     "name": "stderr",
     "output_type": "stream",
     "text": [
      "100%|████████████████████████████████████████████████████████████████████████████████| 875/875 [00:23<00:00, 36.48it/s]\n",
      "100%|███████████████████████████████████████████████████████████████████████████████| 218/218 [00:01<00:00, 109.29it/s]\n"
     ]
    },
    {
     "name": "stdout",
     "output_type": "stream",
     "text": [
      "TRAIN | AE Loss:  260.62277  | Recons:  260.5986  | L2_loss:  2418.381\n",
      "VALID | AE Loss:  262.38425  | Recons:  262.36002\n",
      "EPOCH:  90\n"
     ]
    },
    {
     "name": "stderr",
     "output_type": "stream",
     "text": [
      "100%|████████████████████████████████████████████████████████████████████████████████| 875/875 [00:24<00:00, 36.00it/s]\n",
      "100%|███████████████████████████████████████████████████████████████████████████████| 218/218 [00:02<00:00, 108.26it/s]\n"
     ]
    },
    {
     "name": "stdout",
     "output_type": "stream",
     "text": [
      "TRAIN | AE Loss:  260.33783  | Recons:  260.3136  | L2_loss:  2423.652\n",
      "VALID | AE Loss:  262.35944  | Recons:  262.33517\n",
      "Saving model...\n",
      "Model saved\n",
      "Generating Z Space ...\n",
      "Loading model checkpoint experiments\\checkpoint_dir\\AE_MNIST_latent_dim10_h_dim500_h_nl3\\-79625 ...\n",
      "\n",
      "INFO:tensorflow:Restoring parameters from experiments\\checkpoint_dir\\AE_MNIST_latent_dim10_h_dim500_h_nl3\\-79625\n",
      "Model loaded\n",
      "EPOCHS trained:  90\n"
     ]
    },
    {
     "name": "stderr",
     "output_type": "stream",
     "text": [
      "100%|███████████████████████████████████████████████████████████████████████████████| 875/875 [00:03<00:00, 279.32it/s]\n"
     ]
    },
    {
     "name": "stdout",
     "output_type": "stream",
     "text": [
      "Z space dimensions: (56000, 2)\n",
      "Ploting Z space ...\n",
      "data size (56000, 2)\n"
     ]
    },
    {
     "name": "stderr",
     "output_type": "stream",
     "text": [
      "100%|██████████████████████████████████████████████████████████████████████████| 56000/56000 [00:15<00:00, 3575.06it/s]\n"
     ]
    },
    {
     "name": "stdout",
     "output_type": "stream",
     "text": [
      "Saving Image experiments\\log_dir\\AE_MNIST_latent_dim10_h_dim500_h_nl3\\AE_MNIST_latent_dim10_h_dim500_h_nl3 Z space in epoch 90.jpg ...\n",
      "Generating Samples ...\n",
      "Loading model checkpoint experiments\\checkpoint_dir\\AE_MNIST_latent_dim10_h_dim500_h_nl3\\-79625 ...\n",
      "\n",
      "INFO:tensorflow:Restoring parameters from experiments\\checkpoint_dir\\AE_MNIST_latent_dim10_h_dim500_h_nl3\\-79625\n",
      "Model loaded\n",
      "EPOCHS trained:  90\n"
     ]
    },
    {
     "name": "stderr",
     "output_type": "stream",
     "text": [
      "2it [00:00, 37.14it/s]                                                                                                 \n"
     ]
    },
    {
     "name": "stdout",
     "output_type": "stream",
     "text": [
      "Loading model checkpoint experiments\\checkpoint_dir\\AE_MNIST_latent_dim10_h_dim500_h_nl3\\-79625 ...\n",
      "\n",
      "INFO:tensorflow:Restoring parameters from experiments\\checkpoint_dir\\AE_MNIST_latent_dim10_h_dim500_h_nl3\\-79625\n",
      "Model loaded\n",
      "EPOCHS trained:  90\n"
     ]
    },
    {
     "name": "stderr",
     "output_type": "stream",
     "text": [
      "2it [00:00, 64.69it/s]                                                                                                 \n"
     ]
    },
    {
     "name": "stdout",
     "output_type": "stream",
     "text": [
      "Saving Image  experiments\\log_dir\\AE_MNIST_latent_dim10_h_dim500_h_nl3\\AE_MNIST_latent_dim10_h_dim500_h_nl3 samples generation in epoch 90.jpg\n",
      "EPOCH:  91\n"
     ]
    },
    {
     "name": "stderr",
     "output_type": "stream",
     "text": [
      "100%|████████████████████████████████████████████████████████████████████████████████| 875/875 [00:24<00:00, 35.85it/s]\n",
      "100%|███████████████████████████████████████████████████████████████████████████████| 218/218 [00:02<00:00, 107.73it/s]\n"
     ]
    },
    {
     "name": "stdout",
     "output_type": "stream",
     "text": [
      "TRAIN | AE Loss:  260.06897  | Recons:  260.04468  | L2_loss:  2428.9846\n",
      "VALID | AE Loss:  261.23257  | Recons:  261.20825\n",
      "EPOCH:  92\n"
     ]
    },
    {
     "name": "stderr",
     "output_type": "stream",
     "text": [
      "100%|████████████████████████████████████████████████████████████████████████████████| 875/875 [00:24<00:00, 35.83it/s]\n",
      "100%|███████████████████████████████████████████████████████████████████████████████| 218/218 [00:02<00:00, 107.73it/s]\n"
     ]
    },
    {
     "name": "stdout",
     "output_type": "stream",
     "text": [
      "TRAIN | AE Loss:  259.79095  | Recons:  259.7666  | L2_loss:  2434.3394\n",
      "VALID | AE Loss:  262.21902  | Recons:  262.19464\n",
      "total loss Patience count:  1\n",
      "EPOCH:  93\n"
     ]
    },
    {
     "name": "stderr",
     "output_type": "stream",
     "text": [
      "100%|████████████████████████████████████████████████████████████████████████████████| 875/875 [00:23<00:00, 36.64it/s]\n",
      "100%|███████████████████████████████████████████████████████████████████████████████| 218/218 [00:02<00:00, 104.29it/s]\n"
     ]
    },
    {
     "name": "stdout",
     "output_type": "stream",
     "text": [
      "TRAIN | AE Loss:  259.5258  | Recons:  259.5014  | L2_loss:  2439.5762\n",
      "VALID | AE Loss:  261.992  | Recons:  261.9676\n",
      "total loss Patience count:  2\n",
      "EPOCH:  94\n"
     ]
    },
    {
     "name": "stderr",
     "output_type": "stream",
     "text": [
      "100%|████████████████████████████████████████████████████████████████████████████████| 875/875 [00:24<00:00, 38.66it/s]\n",
      "100%|███████████████████████████████████████████████████████████████████████████████| 218/218 [00:02<00:00, 107.68it/s]\n"
     ]
    },
    {
     "name": "stdout",
     "output_type": "stream",
     "text": [
      "TRAIN | AE Loss:  259.2506  | Recons:  259.22617  | L2_loss:  2444.9744\n",
      "VALID | AE Loss:  261.02838  | Recons:  261.0039\n",
      "EPOCH:  95\n"
     ]
    },
    {
     "name": "stderr",
     "output_type": "stream",
     "text": [
      "100%|████████████████████████████████████████████████████████████████████████████████| 875/875 [00:24<00:00, 36.38it/s]\n",
      "100%|███████████████████████████████████████████████████████████████████████████████| 218/218 [00:02<00:00, 106.11it/s]\n"
     ]
    },
    {
     "name": "stdout",
     "output_type": "stream",
     "text": [
      "TRAIN | AE Loss:  258.99936  | Recons:  258.97485  | L2_loss:  2450.165\n",
      "VALID | AE Loss:  261.05426  | Recons:  261.02975\n",
      "total loss Patience count:  1\n",
      "EPOCH:  96\n"
     ]
    },
    {
     "name": "stderr",
     "output_type": "stream",
     "text": [
      "100%|████████████████████████████████████████████████████████████████████████████████| 875/875 [00:24<00:00, 35.66it/s]\n",
      "100%|███████████████████████████████████████████████████████████████████████████████| 218/218 [00:02<00:00, 107.62it/s]\n"
     ]
    },
    {
     "name": "stdout",
     "output_type": "stream",
     "text": [
      "TRAIN | AE Loss:  258.73672  | Recons:  258.7122  | L2_loss:  2455.3442\n",
      "VALID | AE Loss:  260.97327  | Recons:  260.94867\n",
      "EPOCH:  97\n"
     ]
    },
    {
     "name": "stderr",
     "output_type": "stream",
     "text": [
      "100%|████████████████████████████████████████████████████████████████████████████████| 875/875 [00:24<00:00, 35.71it/s]\n",
      "100%|███████████████████████████████████████████████████████████████████████████████| 218/218 [00:02<00:00, 106.21it/s]\n"
     ]
    },
    {
     "name": "stdout",
     "output_type": "stream",
     "text": [
      "TRAIN | AE Loss:  258.48978  | Recons:  258.46518  | L2_loss:  2460.5908\n",
      "VALID | AE Loss:  259.98846  | Recons:  259.96384\n",
      "EPOCH:  98\n"
     ]
    },
    {
     "name": "stderr",
     "output_type": "stream",
     "text": [
      "100%|████████████████████████████████████████████████████████████████████████████████| 875/875 [00:24<00:00, 35.05it/s]\n",
      "100%|████████████████████████████████████████████████████████████████████████████████| 218/218 [00:02<00:00, 99.99it/s]\n"
     ]
    },
    {
     "name": "stdout",
     "output_type": "stream",
     "text": [
      "TRAIN | AE Loss:  258.2387  | Recons:  258.21405  | L2_loss:  2465.7397\n",
      "VALID | AE Loss:  259.95538  | Recons:  259.93066\n",
      "EPOCH:  99\n"
     ]
    },
    {
     "name": "stderr",
     "output_type": "stream",
     "text": [
      "100%|████████████████████████████████████████████████████████████████████████████████| 875/875 [00:25<00:00, 33.95it/s]\n",
      "100%|███████████████████████████████████████████████████████████████████████████████| 218/218 [00:02<00:00, 103.79it/s]\n"
     ]
    },
    {
     "name": "stdout",
     "output_type": "stream",
     "text": [
      "TRAIN | AE Loss:  257.99725  | Recons:  257.97256  | L2_loss:  2471.0408\n",
      "VALID | AE Loss:  261.40472  | Recons:  261.38\n",
      "total loss Patience count:  1\n",
      "EPOCH:  100\n"
     ]
    },
    {
     "name": "stderr",
     "output_type": "stream",
     "text": [
      "100%|████████████████████████████████████████████████████████████████████████████████| 875/875 [00:24<00:00, 35.62it/s]\n",
      "100%|███████████████████████████████████████████████████████████████████████████████| 218/218 [00:02<00:00, 106.85it/s]\n"
     ]
    },
    {
     "name": "stdout",
     "output_type": "stream",
     "text": [
      "TRAIN | AE Loss:  257.74756  | Recons:  257.7228  | L2_loss:  2475.9688\n",
      "VALID | AE Loss:  259.54254  | Recons:  259.51776\n",
      "EPOCH:  101\n"
     ]
    },
    {
     "name": "stderr",
     "output_type": "stream",
     "text": [
      "100%|████████████████████████████████████████████████████████████████████████████████| 875/875 [00:24<00:00, 35.66it/s]\n",
      "100%|███████████████████████████████████████████████████████████████████████████████| 218/218 [00:02<00:00, 106.26it/s]\n"
     ]
    },
    {
     "name": "stdout",
     "output_type": "stream",
     "text": [
      "TRAIN | AE Loss:  257.49667  | Recons:  257.47186  | L2_loss:  2481.2598\n",
      "VALID | AE Loss:  259.11472  | Recons:  259.08987\n",
      "EPOCH:  102\n"
     ]
    },
    {
     "name": "stderr",
     "output_type": "stream",
     "text": [
      "100%|████████████████████████████████████████████████████████████████████████████████| 875/875 [00:24<00:00, 37.58it/s]\n",
      "100%|███████████████████████████████████████████████████████████████████████████████| 218/218 [00:02<00:00, 104.29it/s]\n"
     ]
    },
    {
     "name": "stdout",
     "output_type": "stream",
     "text": [
      "TRAIN | AE Loss:  257.27094  | Recons:  257.2461  | L2_loss:  2486.257\n",
      "VALID | AE Loss:  260.6874  | Recons:  260.66254\n",
      "total loss Patience count:  1\n",
      "EPOCH:  103\n"
     ]
    },
    {
     "name": "stderr",
     "output_type": "stream",
     "text": [
      "100%|████████████████████████████████████████████████████████████████████████████████| 875/875 [00:24<00:00, 36.22it/s]\n",
      "100%|███████████████████████████████████████████████████████████████████████████████| 218/218 [00:02<00:00, 101.76it/s]\n"
     ]
    },
    {
     "name": "stdout",
     "output_type": "stream",
     "text": [
      "TRAIN | AE Loss:  257.02777  | Recons:  257.00287  | L2_loss:  2491.2686\n",
      "VALID | AE Loss:  258.22437  | Recons:  258.19946\n",
      "EPOCH:  104\n"
     ]
    },
    {
     "name": "stderr",
     "output_type": "stream",
     "text": [
      "100%|████████████████████████████████████████████████████████████████████████████████| 875/875 [00:24<00:00, 35.38it/s]\n",
      "100%|███████████████████████████████████████████████████████████████████████████████| 218/218 [00:02<00:00, 106.26it/s]\n"
     ]
    },
    {
     "name": "stdout",
     "output_type": "stream",
     "text": [
      "TRAIN | AE Loss:  256.80057  | Recons:  256.7756  | L2_loss:  2496.4138\n",
      "VALID | AE Loss:  259.40027  | Recons:  259.37527\n",
      "total loss Patience count:  1\n",
      "EPOCH:  105\n"
     ]
    },
    {
     "name": "stderr",
     "output_type": "stream",
     "text": [
      "100%|████████████████████████████████████████████████████████████████████████████████| 875/875 [00:24<00:00, 35.57it/s]\n",
      "100%|███████████████████████████████████████████████████████████████████████████████| 218/218 [00:02<00:00, 104.54it/s]\n"
     ]
    },
    {
     "name": "stdout",
     "output_type": "stream",
     "text": [
      "TRAIN | AE Loss:  256.57385  | Recons:  256.54886  | L2_loss:  2501.3206\n",
      "VALID | AE Loss:  258.9581  | Recons:  258.93304\n",
      "Saving model...\n",
      "Model saved\n",
      "Generating Z Space ...\n",
      "Loading model checkpoint experiments\\checkpoint_dir\\AE_MNIST_latent_dim10_h_dim500_h_nl3\\-92750 ...\n",
      "\n",
      "INFO:tensorflow:Restoring parameters from experiments\\checkpoint_dir\\AE_MNIST_latent_dim10_h_dim500_h_nl3\\-92750\n",
      "Model loaded\n",
      "EPOCHS trained:  105\n"
     ]
    },
    {
     "name": "stderr",
     "output_type": "stream",
     "text": [
      "100%|███████████████████████████████████████████████████████████████████████████████| 875/875 [00:03<00:00, 251.65it/s]\n"
     ]
    },
    {
     "name": "stdout",
     "output_type": "stream",
     "text": [
      "Z space dimensions: (56000, 2)\n",
      "Ploting Z space ...\n",
      "data size (56000, 2)\n"
     ]
    },
    {
     "name": "stderr",
     "output_type": "stream",
     "text": [
      "100%|██████████████████████████████████████████████████████████████████████████| 56000/56000 [00:16<00:00, 3419.69it/s]\n"
     ]
    },
    {
     "name": "stdout",
     "output_type": "stream",
     "text": [
      "Saving Image experiments\\log_dir\\AE_MNIST_latent_dim10_h_dim500_h_nl3\\AE_MNIST_latent_dim10_h_dim500_h_nl3 Z space in epoch 105.jpg ...\n",
      "Generating Samples ...\n",
      "Loading model checkpoint experiments\\checkpoint_dir\\AE_MNIST_latent_dim10_h_dim500_h_nl3\\-92750 ...\n",
      "\n",
      "INFO:tensorflow:Restoring parameters from experiments\\checkpoint_dir\\AE_MNIST_latent_dim10_h_dim500_h_nl3\\-92750\n",
      "Model loaded\n",
      "EPOCHS trained:  105\n"
     ]
    },
    {
     "name": "stderr",
     "output_type": "stream",
     "text": [
      "2it [00:00, 33.42it/s]                                                                                                 \n"
     ]
    },
    {
     "name": "stdout",
     "output_type": "stream",
     "text": [
      "Loading model checkpoint experiments\\checkpoint_dir\\AE_MNIST_latent_dim10_h_dim500_h_nl3\\-92750 ...\n",
      "\n",
      "INFO:tensorflow:Restoring parameters from experiments\\checkpoint_dir\\AE_MNIST_latent_dim10_h_dim500_h_nl3\\-92750\n",
      "Model loaded\n",
      "EPOCHS trained:  105\n"
     ]
    },
    {
     "name": "stderr",
     "output_type": "stream",
     "text": [
      "2it [00:00, 58.98it/s]                                                                                                 \n"
     ]
    },
    {
     "name": "stdout",
     "output_type": "stream",
     "text": [
      "Saving Image  experiments\\log_dir\\AE_MNIST_latent_dim10_h_dim500_h_nl3\\AE_MNIST_latent_dim10_h_dim500_h_nl3 samples generation in epoch 105.jpg\n",
      "total loss Patience count:  2\n",
      "EPOCH:  106\n"
     ]
    },
    {
     "name": "stderr",
     "output_type": "stream",
     "text": [
      "100%|████████████████████████████████████████████████████████████████████████████████| 875/875 [00:25<00:00, 34.19it/s]\n",
      "100%|███████████████████████████████████████████████████████████████████████████████| 218/218 [00:02<00:00, 111.19it/s]\n"
     ]
    },
    {
     "name": "stdout",
     "output_type": "stream",
     "text": [
      "TRAIN | AE Loss:  256.3463  | Recons:  256.3213  | L2_loss:  2506.3713\n",
      "VALID | AE Loss:  258.3591  | Recons:  258.334\n",
      "total loss Patience count:  3\n",
      "EPOCH:  107\n"
     ]
    },
    {
     "name": "stderr",
     "output_type": "stream",
     "text": [
      "100%|████████████████████████████████████████████████████████████████████████████████| 875/875 [00:25<00:00, 34.85it/s]\n",
      "100%|███████████████████████████████████████████████████████████████████████████████| 218/218 [00:02<00:00, 105.18it/s]\n"
     ]
    },
    {
     "name": "stdout",
     "output_type": "stream",
     "text": [
      "TRAIN | AE Loss:  256.13116  | Recons:  256.10608  | L2_loss:  2511.3965\n",
      "VALID | AE Loss:  258.37238  | Recons:  258.34723\n",
      "total loss Patience count:  4\n",
      "EPOCH:  108\n"
     ]
    },
    {
     "name": "stderr",
     "output_type": "stream",
     "text": [
      "100%|████████████████████████████████████████████████████████████████████████████████| 875/875 [00:24<00:00, 35.03it/s]\n",
      "100%|███████████████████████████████████████████████████████████████████████████████| 218/218 [00:02<00:00, 101.10it/s]\n"
     ]
    },
    {
     "name": "stdout",
     "output_type": "stream",
     "text": [
      "TRAIN | AE Loss:  255.90057  | Recons:  255.87541  | L2_loss:  2516.4587\n",
      "VALID | AE Loss:  258.48886  | Recons:  258.46368\n",
      "total loss Patience count:  5\n",
      "EPOCH:  109\n"
     ]
    },
    {
     "name": "stderr",
     "output_type": "stream",
     "text": [
      "100%|████████████████████████████████████████████████████████████████████████████████| 875/875 [00:25<00:00, 34.27it/s]\n",
      "100%|███████████████████████████████████████████████████████████████████████████████| 218/218 [00:02<00:00, 100.40it/s]\n"
     ]
    },
    {
     "name": "stdout",
     "output_type": "stream",
     "text": [
      "TRAIN | AE Loss:  255.67828  | Recons:  255.65308  | L2_loss:  2521.279\n",
      "VALID | AE Loss:  258.2461  | Recons:  258.22083\n",
      "total loss Patience count:  6\n",
      "EPOCH:  110\n"
     ]
    },
    {
     "name": "stderr",
     "output_type": "stream",
     "text": [
      "100%|████████████████████████████████████████████████████████████████████████████████| 875/875 [00:25<00:00, 37.37it/s]\n",
      "100%|████████████████████████████████████████████████████████████████████████████████| 218/218 [00:02<00:00, 93.48it/s]\n"
     ]
    },
    {
     "name": "stdout",
     "output_type": "stream",
     "text": [
      "TRAIN | AE Loss:  255.48126  | Recons:  255.456  | L2_loss:  2526.2263\n",
      "VALID | AE Loss:  257.4331  | Recons:  257.40778\n",
      "EPOCH:  111\n"
     ]
    },
    {
     "name": "stderr",
     "output_type": "stream",
     "text": [
      "100%|████████████████████████████████████████████████████████████████████████████████| 875/875 [00:26<00:00, 33.54it/s]\n",
      "100%|████████████████████████████████████████████████████████████████████████████████| 218/218 [00:02<00:00, 95.97it/s]\n"
     ]
    },
    {
     "name": "stdout",
     "output_type": "stream",
     "text": [
      "TRAIN | AE Loss:  255.26102  | Recons:  255.23572  | L2_loss:  2531.1562\n",
      "VALID | AE Loss:  257.2557  | Recons:  257.23035\n",
      "EPOCH:  112\n"
     ]
    },
    {
     "name": "stderr",
     "output_type": "stream",
     "text": [
      "100%|████████████████████████████████████████████████████████████████████████████████| 875/875 [00:25<00:00, 34.92it/s]\n",
      "100%|████████████████████████████████████████████████████████████████████████████████| 218/218 [00:02<00:00, 89.68it/s]\n"
     ]
    },
    {
     "name": "stdout",
     "output_type": "stream",
     "text": [
      "TRAIN | AE Loss:  255.04732  | Recons:  255.02196  | L2_loss:  2536.084\n",
      "VALID | AE Loss:  257.97678  | Recons:  257.95142\n",
      "total loss Patience count:  1\n",
      "EPOCH:  113\n"
     ]
    },
    {
     "name": "stderr",
     "output_type": "stream",
     "text": [
      "100%|████████████████████████████████████████████████████████████████████████████████| 875/875 [00:26<00:00, 32.51it/s]\n",
      "100%|███████████████████████████████████████████████████████████████████████████████| 218/218 [00:02<00:00, 104.74it/s]\n"
     ]
    },
    {
     "name": "stdout",
     "output_type": "stream",
     "text": [
      "TRAIN | AE Loss:  254.84554  | Recons:  254.82014  | L2_loss:  2540.9114\n",
      "VALID | AE Loss:  257.30392  | Recons:  257.2785\n",
      "total loss Patience count:  2\n",
      "EPOCH:  114\n"
     ]
    },
    {
     "name": "stderr",
     "output_type": "stream",
     "text": [
      "100%|████████████████████████████████████████████████████████████████████████████████| 875/875 [00:25<00:00, 34.58it/s]\n",
      "100%|███████████████████████████████████████████████████████████████████████████████| 218/218 [00:02<00:00, 105.03it/s]\n"
     ]
    },
    {
     "name": "stdout",
     "output_type": "stream",
     "text": [
      "TRAIN | AE Loss:  254.65086  | Recons:  254.6254  | L2_loss:  2545.7446\n",
      "VALID | AE Loss:  257.07938  | Recons:  257.0539\n",
      "EPOCH:  115\n"
     ]
    },
    {
     "name": "stderr",
     "output_type": "stream",
     "text": [
      "100%|████████████████████████████████████████████████████████████████████████████████| 875/875 [00:24<00:00, 34.21it/s]\n",
      "100%|███████████████████████████████████████████████████████████████████████████████| 218/218 [00:02<00:00, 104.25it/s]\n"
     ]
    },
    {
     "name": "stdout",
     "output_type": "stream",
     "text": [
      "TRAIN | AE Loss:  254.45018  | Recons:  254.42467  | L2_loss:  2550.5793\n",
      "VALID | AE Loss:  256.69724  | Recons:  256.6717\n",
      "EPOCH:  116\n"
     ]
    },
    {
     "name": "stderr",
     "output_type": "stream",
     "text": [
      "100%|████████████████████████████████████████████████████████████████████████████████| 875/875 [00:24<00:00, 35.38it/s]\n",
      "100%|███████████████████████████████████████████████████████████████████████████████| 218/218 [00:02<00:00, 104.28it/s]\n"
     ]
    },
    {
     "name": "stdout",
     "output_type": "stream",
     "text": [
      "TRAIN | AE Loss:  254.24571  | Recons:  254.22018  | L2_loss:  2555.4746\n",
      "VALID | AE Loss:  257.39377  | Recons:  257.3682\n",
      "total loss Patience count:  1\n",
      "EPOCH:  117\n"
     ]
    },
    {
     "name": "stderr",
     "output_type": "stream",
     "text": [
      "100%|████████████████████████████████████████████████████████████████████████████████| 875/875 [00:25<00:00, 34.50it/s]\n",
      "100%|███████████████████████████████████████████████████████████████████████████████| 218/218 [00:02<00:00, 107.31it/s]\n"
     ]
    },
    {
     "name": "stdout",
     "output_type": "stream",
     "text": [
      "TRAIN | AE Loss:  254.0493  | Recons:  254.0237  | L2_loss:  2560.2083\n",
      "VALID | AE Loss:  255.95775  | Recons:  255.93213\n",
      "EPOCH:  118\n"
     ]
    },
    {
     "name": "stderr",
     "output_type": "stream",
     "text": [
      "100%|████████████████████████████████████████████████████████████████████████████████| 875/875 [00:25<00:00, 36.00it/s]\n",
      "100%|███████████████████████████████████████████████████████████████████████████████| 218/218 [00:02<00:00, 104.81it/s]\n"
     ]
    },
    {
     "name": "stdout",
     "output_type": "stream",
     "text": [
      "TRAIN | AE Loss:  253.84529  | Recons:  253.81963  | L2_loss:  2564.9883\n",
      "VALID | AE Loss:  257.0545  | Recons:  257.02884\n",
      "total loss Patience count:  1\n",
      "EPOCH:  119\n"
     ]
    },
    {
     "name": "stderr",
     "output_type": "stream",
     "text": [
      "100%|████████████████████████████████████████████████████████████████████████████████| 875/875 [00:25<00:00, 34.56it/s]\n",
      "100%|███████████████████████████████████████████████████████████████████████████████| 218/218 [00:02<00:00, 105.68it/s]\n"
     ]
    },
    {
     "name": "stdout",
     "output_type": "stream",
     "text": [
      "TRAIN | AE Loss:  253.65952  | Recons:  253.63382  | L2_loss:  2569.7344\n",
      "VALID | AE Loss:  255.61472  | Recons:  255.58899\n",
      "EPOCH:  120\n"
     ]
    },
    {
     "name": "stderr",
     "output_type": "stream",
     "text": [
      "100%|████████████████████████████████████████████████████████████████████████████████| 875/875 [00:25<00:00, 34.07it/s]\n",
      "100%|████████████████████████████████████████████████████████████████████████████████| 218/218 [00:02<00:00, 98.22it/s]\n"
     ]
    },
    {
     "name": "stdout",
     "output_type": "stream",
     "text": [
      "TRAIN | AE Loss:  253.469  | Recons:  253.44325  | L2_loss:  2574.4937\n",
      "VALID | AE Loss:  256.65167  | Recons:  256.6259\n",
      "Saving model...\n",
      "Model saved\n",
      "Generating Z Space ...\n",
      "Loading model checkpoint experiments\\checkpoint_dir\\AE_MNIST_latent_dim10_h_dim500_h_nl3\\-105875 ...\n",
      "\n",
      "INFO:tensorflow:Restoring parameters from experiments\\checkpoint_dir\\AE_MNIST_latent_dim10_h_dim500_h_nl3\\-105875\n",
      "Model loaded\n",
      "EPOCHS trained:  120\n"
     ]
    },
    {
     "name": "stderr",
     "output_type": "stream",
     "text": [
      "100%|███████████████████████████████████████████████████████████████████████████████| 875/875 [00:03<00:00, 258.64it/s]\n"
     ]
    },
    {
     "name": "stdout",
     "output_type": "stream",
     "text": [
      "Z space dimensions: (56000, 2)\n",
      "Ploting Z space ...\n",
      "data size (56000, 2)\n"
     ]
    },
    {
     "name": "stderr",
     "output_type": "stream",
     "text": [
      "100%|██████████████████████████████████████████████████████████████████████████| 56000/56000 [00:16<00:00, 3421.41it/s]\n"
     ]
    },
    {
     "name": "stdout",
     "output_type": "stream",
     "text": [
      "Saving Image experiments\\log_dir\\AE_MNIST_latent_dim10_h_dim500_h_nl3\\AE_MNIST_latent_dim10_h_dim500_h_nl3 Z space in epoch 120.jpg ...\n",
      "Generating Samples ...\n",
      "Loading model checkpoint experiments\\checkpoint_dir\\AE_MNIST_latent_dim10_h_dim500_h_nl3\\-105875 ...\n",
      "\n",
      "INFO:tensorflow:Restoring parameters from experiments\\checkpoint_dir\\AE_MNIST_latent_dim10_h_dim500_h_nl3\\-105875\n",
      "Model loaded\n",
      "EPOCHS trained:  120\n"
     ]
    },
    {
     "name": "stderr",
     "output_type": "stream",
     "text": [
      "2it [00:00, 31.27it/s]                                                                                                 \n"
     ]
    },
    {
     "name": "stdout",
     "output_type": "stream",
     "text": [
      "Loading model checkpoint experiments\\checkpoint_dir\\AE_MNIST_latent_dim10_h_dim500_h_nl3\\-105875 ...\n",
      "\n",
      "INFO:tensorflow:Restoring parameters from experiments\\checkpoint_dir\\AE_MNIST_latent_dim10_h_dim500_h_nl3\\-105875\n",
      "Model loaded\n",
      "EPOCHS trained:  120\n"
     ]
    },
    {
     "name": "stderr",
     "output_type": "stream",
     "text": [
      "2it [00:00, 66.38it/s]                                                                                                 \n"
     ]
    },
    {
     "name": "stdout",
     "output_type": "stream",
     "text": [
      "Saving Image  experiments\\log_dir\\AE_MNIST_latent_dim10_h_dim500_h_nl3\\AE_MNIST_latent_dim10_h_dim500_h_nl3 samples generation in epoch 120.jpg\n",
      "total loss Patience count:  1\n",
      "EPOCH:  121\n"
     ]
    },
    {
     "name": "stderr",
     "output_type": "stream",
     "text": [
      "100%|████████████████████████████████████████████████████████████████████████████████| 875/875 [00:26<00:00, 33.62it/s]\n",
      "100%|███████████████████████████████████████████████████████████████████████████████| 218/218 [00:02<00:00, 101.71it/s]\n"
     ]
    },
    {
     "name": "stdout",
     "output_type": "stream",
     "text": [
      "TRAIN | AE Loss:  253.26097  | Recons:  253.23518  | L2_loss:  2579.22\n",
      "VALID | AE Loss:  256.33908  | Recons:  256.31326\n",
      "total loss Patience count:  2\n",
      "EPOCH:  122\n"
     ]
    },
    {
     "name": "stderr",
     "output_type": "stream",
     "text": [
      "100%|████████████████████████████████████████████████████████████████████████████████| 875/875 [00:26<00:00, 30.69it/s]\n",
      "100%|███████████████████████████████████████████████████████████████████████████████| 218/218 [00:01<00:00, 113.72it/s]\n"
     ]
    },
    {
     "name": "stdout",
     "output_type": "stream",
     "text": [
      "TRAIN | AE Loss:  253.09557  | Recons:  253.06973  | L2_loss:  2584.0525\n",
      "VALID | AE Loss:  255.00154  | Recons:  254.97568\n",
      "EPOCH:  123\n"
     ]
    },
    {
     "name": "stderr",
     "output_type": "stream",
     "text": [
      "100%|████████████████████████████████████████████████████████████████████████████████| 875/875 [00:26<00:00, 33.53it/s]\n",
      "100%|████████████████████████████████████████████████████████████████████████████████| 218/218 [00:02<00:00, 97.97it/s]\n"
     ]
    },
    {
     "name": "stdout",
     "output_type": "stream",
     "text": [
      "TRAIN | AE Loss:  252.90768  | Recons:  252.88179  | L2_loss:  2588.4543\n",
      "VALID | AE Loss:  255.10022  | Recons:  255.07433\n",
      "total loss Patience count:  1\n",
      "EPOCH:  124\n"
     ]
    },
    {
     "name": "stderr",
     "output_type": "stream",
     "text": [
      "100%|████████████████████████████████████████████████████████████████████████████████| 875/875 [00:24<00:00, 35.01it/s]\n",
      "100%|███████████████████████████████████████████████████████████████████████████████| 218/218 [00:02<00:00, 107.86it/s]\n"
     ]
    },
    {
     "name": "stdout",
     "output_type": "stream",
     "text": [
      "TRAIN | AE Loss:  252.71205  | Recons:  252.68611  | L2_loss:  2593.4685\n",
      "VALID | AE Loss:  255.58253  | Recons:  255.55655\n",
      "total loss Patience count:  2\n",
      "EPOCH:  125\n"
     ]
    },
    {
     "name": "stderr",
     "output_type": "stream",
     "text": [
      "100%|████████████████████████████████████████████████████████████████████████████████| 875/875 [00:24<00:00, 35.26it/s]\n",
      "100%|███████████████████████████████████████████████████████████████████████████████| 218/218 [00:02<00:00, 107.04it/s]\n"
     ]
    },
    {
     "name": "stdout",
     "output_type": "stream",
     "text": [
      "TRAIN | AE Loss:  252.53442  | Recons:  252.50845  | L2_loss:  2597.9497\n",
      "VALID | AE Loss:  255.16747  | Recons:  255.14145\n",
      "total loss Patience count:  3\n",
      "EPOCH:  126\n"
     ]
    },
    {
     "name": "stderr",
     "output_type": "stream",
     "text": [
      "100%|████████████████████████████████████████████████████████████████████████████████| 875/875 [00:24<00:00, 36.04it/s]\n",
      "100%|███████████████████████████████████████████████████████████████████████████████| 218/218 [00:02<00:00, 105.78it/s]\n"
     ]
    },
    {
     "name": "stdout",
     "output_type": "stream",
     "text": [
      "TRAIN | AE Loss:  252.35661  | Recons:  252.33057  | L2_loss:  2602.5918\n",
      "VALID | AE Loss:  254.96185  | Recons:  254.93579\n",
      "EPOCH:  127\n"
     ]
    },
    {
     "name": "stderr",
     "output_type": "stream",
     "text": [
      "100%|████████████████████████████████████████████████████████████████████████████████| 875/875 [00:24<00:00, 35.19it/s]\n",
      "100%|███████████████████████████████████████████████████████████████████████████████| 218/218 [00:02<00:00, 107.20it/s]\n"
     ]
    },
    {
     "name": "stdout",
     "output_type": "stream",
     "text": [
      "TRAIN | AE Loss:  252.20407  | Recons:  252.178  | L2_loss:  2607.1643\n",
      "VALID | AE Loss:  255.15266  | Recons:  255.12654\n",
      "total loss Patience count:  1\n",
      "EPOCH:  128\n"
     ]
    },
    {
     "name": "stderr",
     "output_type": "stream",
     "text": [
      "100%|████████████████████████████████████████████████████████████████████████████████| 875/875 [00:24<00:00, 35.33it/s]\n",
      "100%|███████████████████████████████████████████████████████████████████████████████| 218/218 [00:02<00:00, 100.31it/s]\n"
     ]
    },
    {
     "name": "stdout",
     "output_type": "stream",
     "text": [
      "TRAIN | AE Loss:  252.00664  | Recons:  251.98053  | L2_loss:  2611.7332\n",
      "VALID | AE Loss:  254.59511  | Recons:  254.56895\n",
      "EPOCH:  129\n"
     ]
    },
    {
     "name": "stderr",
     "output_type": "stream",
     "text": [
      "100%|████████████████████████████████████████████████████████████████████████████████| 875/875 [00:25<00:00, 34.99it/s]\n",
      "100%|███████████████████████████████████████████████████████████████████████████████| 218/218 [00:02<00:00, 101.06it/s]\n"
     ]
    },
    {
     "name": "stdout",
     "output_type": "stream",
     "text": [
      "TRAIN | AE Loss:  251.8296  | Recons:  251.80347  | L2_loss:  2616.3103\n",
      "VALID | AE Loss:  254.94676  | Recons:  254.92058\n",
      "total loss Patience count:  1\n",
      "EPOCH:  130\n"
     ]
    },
    {
     "name": "stderr",
     "output_type": "stream",
     "text": [
      "100%|████████████████████████████████████████████████████████████████████████████████| 875/875 [00:24<00:00, 35.23it/s]\n",
      "100%|███████████████████████████████████████████████████████████████████████████████| 218/218 [00:02<00:00, 105.06it/s]\n"
     ]
    },
    {
     "name": "stdout",
     "output_type": "stream",
     "text": [
      "TRAIN | AE Loss:  251.65172  | Recons:  251.62552  | L2_loss:  2621.0283\n",
      "VALID | AE Loss:  254.5143  | Recons:  254.48807\n",
      "EPOCH:  131\n"
     ]
    },
    {
     "name": "stderr",
     "output_type": "stream",
     "text": [
      "100%|████████████████████████████████████████████████████████████████████████████████| 875/875 [00:24<00:00, 35.67it/s]\n",
      "100%|███████████████████████████████████████████████████████████████████████████████| 218/218 [00:02<00:00, 104.97it/s]\n"
     ]
    },
    {
     "name": "stdout",
     "output_type": "stream",
     "text": [
      "TRAIN | AE Loss:  251.48264  | Recons:  251.45639  | L2_loss:  2625.5112\n",
      "VALID | AE Loss:  254.26682  | Recons:  254.24054\n",
      "EPOCH:  132\n"
     ]
    },
    {
     "name": "stderr",
     "output_type": "stream",
     "text": [
      "100%|████████████████████████████████████████████████████████████████████████████████| 875/875 [00:25<00:00, 34.37it/s]\n",
      "100%|███████████████████████████████████████████████████████████████████████████████| 218/218 [00:01<00:00, 117.56it/s]\n"
     ]
    },
    {
     "name": "stdout",
     "output_type": "stream",
     "text": [
      "TRAIN | AE Loss:  251.31703  | Recons:  251.29073  | L2_loss:  2630.097\n",
      "VALID | AE Loss:  254.25679  | Recons:  254.23047\n",
      "EPOCH:  133\n"
     ]
    },
    {
     "name": "stderr",
     "output_type": "stream",
     "text": [
      "100%|████████████████████████████████████████████████████████████████████████████████| 875/875 [00:24<00:00, 35.08it/s]\n",
      "100%|███████████████████████████████████████████████████████████████████████████████| 218/218 [00:02<00:00, 105.68it/s]\n"
     ]
    },
    {
     "name": "stdout",
     "output_type": "stream",
     "text": [
      "TRAIN | AE Loss:  251.1608  | Recons:  251.13446  | L2_loss:  2634.5032\n",
      "VALID | AE Loss:  253.60818  | Recons:  253.58185\n",
      "EPOCH:  134\n"
     ]
    },
    {
     "name": "stderr",
     "output_type": "stream",
     "text": [
      "100%|████████████████████████████████████████████████████████████████████████████████| 875/875 [00:25<00:00, 33.95it/s]\n",
      "100%|███████████████████████████████████████████████████████████████████████████████| 218/218 [00:02<00:00, 101.20it/s]\n"
     ]
    },
    {
     "name": "stdout",
     "output_type": "stream",
     "text": [
      "TRAIN | AE Loss:  250.98322  | Recons:  250.95682  | L2_loss:  2639.1396\n",
      "VALID | AE Loss:  254.6756  | Recons:  254.64923\n",
      "total loss Patience count:  1\n",
      "EPOCH:  135\n"
     ]
    },
    {
     "name": "stderr",
     "output_type": "stream",
     "text": [
      "100%|████████████████████████████████████████████████████████████████████████████████| 875/875 [00:24<00:00, 35.15it/s]\n",
      "100%|███████████████████████████████████████████████████████████████████████████████| 218/218 [00:02<00:00, 101.56it/s]\n"
     ]
    },
    {
     "name": "stdout",
     "output_type": "stream",
     "text": [
      "TRAIN | AE Loss:  250.82896  | Recons:  250.80252  | L2_loss:  2643.4922\n",
      "VALID | AE Loss:  252.61694  | Recons:  252.59048\n",
      "Saving model...\n",
      "Model saved\n",
      "Generating Z Space ...\n",
      "Loading model checkpoint experiments\\checkpoint_dir\\AE_MNIST_latent_dim10_h_dim500_h_nl3\\-119000 ...\n",
      "\n",
      "INFO:tensorflow:Restoring parameters from experiments\\checkpoint_dir\\AE_MNIST_latent_dim10_h_dim500_h_nl3\\-119000\n",
      "Model loaded\n",
      "EPOCHS trained:  135\n"
     ]
    },
    {
     "name": "stderr",
     "output_type": "stream",
     "text": [
      "100%|███████████████████████████████████████████████████████████████████████████████| 875/875 [00:03<00:00, 266.08it/s]\n"
     ]
    },
    {
     "name": "stdout",
     "output_type": "stream",
     "text": [
      "Z space dimensions: (56000, 2)\n",
      "Ploting Z space ...\n",
      "data size (56000, 2)\n"
     ]
    },
    {
     "name": "stderr",
     "output_type": "stream",
     "text": [
      "100%|██████████████████████████████████████████████████████████████████████████| 56000/56000 [00:15<00:00, 3519.89it/s]\n"
     ]
    },
    {
     "name": "stdout",
     "output_type": "stream",
     "text": [
      "Saving Image experiments\\log_dir\\AE_MNIST_latent_dim10_h_dim500_h_nl3\\AE_MNIST_latent_dim10_h_dim500_h_nl3 Z space in epoch 135.jpg ...\n",
      "Generating Samples ...\n",
      "Loading model checkpoint experiments\\checkpoint_dir\\AE_MNIST_latent_dim10_h_dim500_h_nl3\\-119000 ...\n",
      "\n",
      "INFO:tensorflow:Restoring parameters from experiments\\checkpoint_dir\\AE_MNIST_latent_dim10_h_dim500_h_nl3\\-119000\n",
      "Model loaded\n",
      "EPOCHS trained:  135\n"
     ]
    },
    {
     "name": "stderr",
     "output_type": "stream",
     "text": [
      "2it [00:00, 24.12it/s]                                                                                                 \n"
     ]
    },
    {
     "name": "stdout",
     "output_type": "stream",
     "text": [
      "Loading model checkpoint experiments\\checkpoint_dir\\AE_MNIST_latent_dim10_h_dim500_h_nl3\\-119000 ...\n",
      "\n",
      "INFO:tensorflow:Restoring parameters from experiments\\checkpoint_dir\\AE_MNIST_latent_dim10_h_dim500_h_nl3\\-119000\n",
      "Model loaded\n",
      "EPOCHS trained:  135\n"
     ]
    },
    {
     "name": "stderr",
     "output_type": "stream",
     "text": [
      "2it [00:00, 80.22it/s]                                                                                                 \n"
     ]
    },
    {
     "name": "stdout",
     "output_type": "stream",
     "text": [
      "Saving Image  experiments\\log_dir\\AE_MNIST_latent_dim10_h_dim500_h_nl3\\AE_MNIST_latent_dim10_h_dim500_h_nl3 samples generation in epoch 135.jpg\n",
      "EPOCH:  136\n"
     ]
    },
    {
     "name": "stderr",
     "output_type": "stream",
     "text": [
      "100%|████████████████████████████████████████████████████████████████████████████████| 875/875 [00:25<00:00, 34.78it/s]\n",
      "100%|███████████████████████████████████████████████████████████████████████████████| 218/218 [00:02<00:00, 103.42it/s]\n"
     ]
    },
    {
     "name": "stdout",
     "output_type": "stream",
     "text": [
      "TRAIN | AE Loss:  250.65915  | Recons:  250.63264  | L2_loss:  2648.015\n",
      "VALID | AE Loss:  253.97028  | Recons:  253.94377\n",
      "total loss Patience count:  1\n",
      "EPOCH:  137\n"
     ]
    },
    {
     "name": "stderr",
     "output_type": "stream",
     "text": [
      "100%|████████████████████████████████████████████████████████████████████████████████| 875/875 [00:25<00:00, 34.21it/s]\n",
      "100%|███████████████████████████████████████████████████████████████████████████████| 218/218 [00:02<00:00, 109.30it/s]\n"
     ]
    },
    {
     "name": "stdout",
     "output_type": "stream",
     "text": [
      "TRAIN | AE Loss:  250.50958  | Recons:  250.48305  | L2_loss:  2652.561\n",
      "VALID | AE Loss:  253.94725  | Recons:  253.92068\n",
      "total loss Patience count:  2\n",
      "EPOCH:  138\n"
     ]
    },
    {
     "name": "stderr",
     "output_type": "stream",
     "text": [
      "100%|████████████████████████████████████████████████████████████████████████████████| 875/875 [00:25<00:00, 35.50it/s]\n",
      "100%|███████████████████████████████████████████████████████████████████████████████| 218/218 [00:02<00:00, 106.91it/s]\n"
     ]
    },
    {
     "name": "stdout",
     "output_type": "stream",
     "text": [
      "TRAIN | AE Loss:  250.34839  | Recons:  250.32182  | L2_loss:  2656.9016\n",
      "VALID | AE Loss:  252.57224  | Recons:  252.54565\n",
      "EPOCH:  139\n"
     ]
    },
    {
     "name": "stderr",
     "output_type": "stream",
     "text": [
      "100%|████████████████████████████████████████████████████████████████████████████████| 875/875 [00:25<00:00, 34.96it/s]\n",
      "100%|███████████████████████████████████████████████████████████████████████████████| 218/218 [00:02<00:00, 102.17it/s]\n"
     ]
    },
    {
     "name": "stdout",
     "output_type": "stream",
     "text": [
      "TRAIN | AE Loss:  250.18993  | Recons:  250.16331  | L2_loss:  2661.3682\n",
      "VALID | AE Loss:  253.9036  | Recons:  253.87695\n",
      "total loss Patience count:  1\n",
      "EPOCH:  140\n"
     ]
    },
    {
     "name": "stderr",
     "output_type": "stream",
     "text": [
      "100%|████████████████████████████████████████████████████████████████████████████████| 875/875 [00:25<00:00, 35.43it/s]\n",
      "100%|███████████████████████████████████████████████████████████████████████████████| 218/218 [00:02<00:00, 104.59it/s]\n"
     ]
    },
    {
     "name": "stdout",
     "output_type": "stream",
     "text": [
      "TRAIN | AE Loss:  250.02696  | Recons:  250.0003  | L2_loss:  2665.724\n",
      "VALID | AE Loss:  252.37364  | Recons:  252.34697\n",
      "EPOCH:  141\n"
     ]
    },
    {
     "name": "stderr",
     "output_type": "stream",
     "text": [
      "100%|████████████████████████████████████████████████████████████████████████████████| 875/875 [00:25<00:00, 34.05it/s]\n",
      "100%|███████████████████████████████████████████████████████████████████████████████| 218/218 [00:02<00:00, 103.71it/s]\n"
     ]
    },
    {
     "name": "stdout",
     "output_type": "stream",
     "text": [
      "TRAIN | AE Loss:  249.87535  | Recons:  249.84866  | L2_loss:  2670.202\n",
      "VALID | AE Loss:  253.0634  | Recons:  253.03668\n",
      "total loss Patience count:  1\n",
      "EPOCH:  142\n"
     ]
    },
    {
     "name": "stderr",
     "output_type": "stream",
     "text": [
      "100%|████████████████████████████████████████████████████████████████████████████████| 875/875 [00:25<00:00, 34.34it/s]\n",
      "100%|███████████████████████████████████████████████████████████████████████████████| 218/218 [00:02<00:00, 104.35it/s]\n"
     ]
    },
    {
     "name": "stdout",
     "output_type": "stream",
     "text": [
      "TRAIN | AE Loss:  249.72612  | Recons:  249.69937  | L2_loss:  2674.5515\n",
      "VALID | AE Loss:  252.09326  | Recons:  252.06648\n",
      "EPOCH:  143\n"
     ]
    },
    {
     "name": "stderr",
     "output_type": "stream",
     "text": [
      "100%|████████████████████████████████████████████████████████████████████████████████| 875/875 [00:26<00:00, 42.90it/s]\n",
      "100%|███████████████████████████████████████████████████████████████████████████████| 218/218 [00:02<00:00, 106.61it/s]\n"
     ]
    },
    {
     "name": "stdout",
     "output_type": "stream",
     "text": [
      "TRAIN | AE Loss:  249.57643  | Recons:  249.54964  | L2_loss:  2678.913\n",
      "VALID | AE Loss:  253.5196  | Recons:  253.4928\n",
      "total loss Patience count:  1\n",
      "EPOCH:  144\n"
     ]
    },
    {
     "name": "stderr",
     "output_type": "stream",
     "text": [
      "100%|████████████████████████████████████████████████████████████████████████████████| 875/875 [00:25<00:00, 34.86it/s]\n",
      "100%|███████████████████████████████████████████████████████████████████████████████| 218/218 [00:02<00:00, 100.33it/s]\n"
     ]
    },
    {
     "name": "stdout",
     "output_type": "stream",
     "text": [
      "TRAIN | AE Loss:  249.4224  | Recons:  249.39555  | L2_loss:  2683.328\n",
      "VALID | AE Loss:  252.66292  | Recons:  252.63606\n",
      "total loss Patience count:  2\n",
      "EPOCH:  145\n"
     ]
    },
    {
     "name": "stderr",
     "output_type": "stream",
     "text": [
      "100%|████████████████████████████████████████████████████████████████████████████████| 875/875 [00:25<00:00, 34.21it/s]\n",
      "100%|███████████████████████████████████████████████████████████████████████████████| 218/218 [00:02<00:00, 103.34it/s]\n"
     ]
    },
    {
     "name": "stdout",
     "output_type": "stream",
     "text": [
      "TRAIN | AE Loss:  249.2795  | Recons:  249.25261  | L2_loss:  2687.704\n",
      "VALID | AE Loss:  251.03178  | Recons:  251.00487\n",
      "EPOCH:  146\n"
     ]
    },
    {
     "name": "stderr",
     "output_type": "stream",
     "text": [
      "100%|████████████████████████████████████████████████████████████████████████████████| 875/875 [00:25<00:00, 34.61it/s]\n",
      "100%|███████████████████████████████████████████████████████████████████████████████| 218/218 [00:02<00:00, 103.32it/s]\n"
     ]
    },
    {
     "name": "stdout",
     "output_type": "stream",
     "text": [
      "TRAIN | AE Loss:  249.13403  | Recons:  249.1071  | L2_loss:  2691.848\n",
      "VALID | AE Loss:  253.7756  | Recons:  253.74867\n",
      "total loss Patience count:  1\n",
      "EPOCH:  147\n"
     ]
    },
    {
     "name": "stderr",
     "output_type": "stream",
     "text": [
      "100%|████████████████████████████████████████████████████████████████████████████████| 875/875 [00:25<00:00, 34.45it/s]\n",
      "100%|███████████████████████████████████████████████████████████████████████████████| 218/218 [00:02<00:00, 103.82it/s]\n"
     ]
    },
    {
     "name": "stdout",
     "output_type": "stream",
     "text": [
      "TRAIN | AE Loss:  248.98912  | Recons:  248.96216  | L2_loss:  2696.2866\n",
      "VALID | AE Loss:  251.64137  | Recons:  251.6144\n",
      "total loss Patience count:  2\n",
      "EPOCH:  148\n"
     ]
    },
    {
     "name": "stderr",
     "output_type": "stream",
     "text": [
      "100%|████████████████████████████████████████████████████████████████████████████████| 875/875 [00:25<00:00, 33.79it/s]\n",
      "100%|███████████████████████████████████████████████████████████████████████████████| 218/218 [00:02<00:00, 100.59it/s]\n"
     ]
    },
    {
     "name": "stdout",
     "output_type": "stream",
     "text": [
      "TRAIN | AE Loss:  248.84637  | Recons:  248.81935  | L2_loss:  2700.676\n",
      "VALID | AE Loss:  252.68039  | Recons:  252.65335\n",
      "total loss Patience count:  3\n",
      "EPOCH:  149\n"
     ]
    },
    {
     "name": "stderr",
     "output_type": "stream",
     "text": [
      "100%|████████████████████████████████████████████████████████████████████████████████| 875/875 [00:25<00:00, 34.15it/s]\n",
      "100%|███████████████████████████████████████████████████████████████████████████████| 218/218 [00:02<00:00, 103.82it/s]\n"
     ]
    },
    {
     "name": "stdout",
     "output_type": "stream",
     "text": [
      "TRAIN | AE Loss:  248.70618  | Recons:  248.67914  | L2_loss:  2704.9365\n",
      "VALID | AE Loss:  251.70909  | Recons:  251.68202\n",
      "total loss Patience count:  4\n",
      "EPOCH:  150\n"
     ]
    },
    {
     "name": "stderr",
     "output_type": "stream",
     "text": [
      "100%|████████████████████████████████████████████████████████████████████████████████| 875/875 [00:25<00:00, 33.94it/s]\n",
      "100%|████████████████████████████████████████████████████████████████████████████████| 218/218 [00:02<00:00, 99.11it/s]\n"
     ]
    },
    {
     "name": "stdout",
     "output_type": "stream",
     "text": [
      "TRAIN | AE Loss:  248.55704  | Recons:  248.52992  | L2_loss:  2709.1423\n",
      "VALID | AE Loss:  250.96869  | Recons:  250.94159\n",
      "Saving model...\n",
      "Model saved\n",
      "Generating Z Space ...\n",
      "Loading model checkpoint experiments\\checkpoint_dir\\AE_MNIST_latent_dim10_h_dim500_h_nl3\\-132125 ...\n",
      "\n",
      "INFO:tensorflow:Restoring parameters from experiments\\checkpoint_dir\\AE_MNIST_latent_dim10_h_dim500_h_nl3\\-132125\n",
      "Model loaded\n",
      "EPOCHS trained:  150\n"
     ]
    },
    {
     "name": "stderr",
     "output_type": "stream",
     "text": [
      "100%|███████████████████████████████████████████████████████████████████████████████| 875/875 [00:03<00:00, 260.69it/s]\n"
     ]
    },
    {
     "name": "stdout",
     "output_type": "stream",
     "text": [
      "Z space dimensions: (56000, 2)\n",
      "Ploting Z space ...\n",
      "data size (56000, 2)\n"
     ]
    },
    {
     "name": "stderr",
     "output_type": "stream",
     "text": [
      "100%|██████████████████████████████████████████████████████████████████████████| 56000/56000 [00:15<00:00, 3521.29it/s]\n"
     ]
    },
    {
     "name": "stdout",
     "output_type": "stream",
     "text": [
      "Saving Image experiments\\log_dir\\AE_MNIST_latent_dim10_h_dim500_h_nl3\\AE_MNIST_latent_dim10_h_dim500_h_nl3 Z space in epoch 150.jpg ...\n",
      "Generating Samples ...\n",
      "Loading model checkpoint experiments\\checkpoint_dir\\AE_MNIST_latent_dim10_h_dim500_h_nl3\\-132125 ...\n",
      "\n",
      "INFO:tensorflow:Restoring parameters from experiments\\checkpoint_dir\\AE_MNIST_latent_dim10_h_dim500_h_nl3\\-132125\n",
      "Model loaded\n",
      "EPOCHS trained:  150\n"
     ]
    },
    {
     "name": "stderr",
     "output_type": "stream",
     "text": [
      "2it [00:00, 40.16it/s]                                                                                                 \n"
     ]
    },
    {
     "name": "stdout",
     "output_type": "stream",
     "text": [
      "Loading model checkpoint experiments\\checkpoint_dir\\AE_MNIST_latent_dim10_h_dim500_h_nl3\\-132125 ...\n",
      "\n",
      "INFO:tensorflow:Restoring parameters from experiments\\checkpoint_dir\\AE_MNIST_latent_dim10_h_dim500_h_nl3\\-132125\n",
      "Model loaded\n",
      "EPOCHS trained:  150\n"
     ]
    },
    {
     "name": "stderr",
     "output_type": "stream",
     "text": [
      "2it [00:00, 100.19it/s]                                                                                                \n"
     ]
    },
    {
     "name": "stdout",
     "output_type": "stream",
     "text": [
      "Saving Image  experiments\\log_dir\\AE_MNIST_latent_dim10_h_dim500_h_nl3\\AE_MNIST_latent_dim10_h_dim500_h_nl3 samples generation in epoch 150.jpg\n",
      "EPOCH:  151\n"
     ]
    },
    {
     "name": "stderr",
     "output_type": "stream",
     "text": [
      "100%|████████████████████████████████████████████████████████████████████████████████| 875/875 [00:22<00:00, 38.70it/s]\n",
      "100%|███████████████████████████████████████████████████████████████████████████████| 218/218 [00:02<00:00, 103.52it/s]\n"
     ]
    },
    {
     "name": "stdout",
     "output_type": "stream",
     "text": [
      "TRAIN | AE Loss:  248.41696  | Recons:  248.38985  | L2_loss:  2713.308\n",
      "VALID | AE Loss:  252.10287  | Recons:  252.07573\n",
      "total loss Patience count:  1\n",
      "EPOCH:  152\n"
     ]
    },
    {
     "name": "stderr",
     "output_type": "stream",
     "text": [
      "100%|████████████████████████████████████████████████████████████████████████████████| 875/875 [00:26<00:00, 33.23it/s]\n",
      "100%|████████████████████████████████████████████████████████████████████████████████| 218/218 [00:02<00:00, 97.70it/s]\n"
     ]
    },
    {
     "name": "stdout",
     "output_type": "stream",
     "text": [
      "TRAIN | AE Loss:  248.27667  | Recons:  248.2495  | L2_loss:  2717.6223\n",
      "VALID | AE Loss:  251.55591  | Recons:  251.5287\n",
      "total loss Patience count:  2\n",
      "EPOCH:  153\n"
     ]
    },
    {
     "name": "stderr",
     "output_type": "stream",
     "text": [
      "100%|████████████████████████████████████████████████████████████████████████████████| 875/875 [00:26<00:00, 33.38it/s]\n",
      "100%|███████████████████████████████████████████████████████████████████████████████| 218/218 [00:02<00:00, 103.14it/s]\n"
     ]
    },
    {
     "name": "stdout",
     "output_type": "stream",
     "text": [
      "TRAIN | AE Loss:  248.1469  | Recons:  248.11967  | L2_loss:  2721.839\n",
      "VALID | AE Loss:  251.79225  | Recons:  251.76501\n",
      "total loss Patience count:  3\n",
      "EPOCH:  154\n"
     ]
    },
    {
     "name": "stderr",
     "output_type": "stream",
     "text": [
      "100%|████████████████████████████████████████████████████████████████████████████████| 875/875 [00:25<00:00, 34.01it/s]\n",
      "100%|███████████████████████████████████████████████████████████████████████████████| 218/218 [00:02<00:00, 102.08it/s]\n"
     ]
    },
    {
     "name": "stdout",
     "output_type": "stream",
     "text": [
      "TRAIN | AE Loss:  247.9994  | Recons:  247.97214  | L2_loss:  2725.9087\n",
      "VALID | AE Loss:  251.30533  | Recons:  251.27806\n",
      "total loss Patience count:  4\n",
      "EPOCH:  155\n"
     ]
    },
    {
     "name": "stderr",
     "output_type": "stream",
     "text": [
      "100%|████████████████████████████████████████████████████████████████████████████████| 875/875 [00:25<00:00, 33.87it/s]\n",
      "100%|███████████████████████████████████████████████████████████████████████████████| 218/218 [00:02<00:00, 102.10it/s]\n"
     ]
    },
    {
     "name": "stdout",
     "output_type": "stream",
     "text": [
      "TRAIN | AE Loss:  247.87587  | Recons:  247.84857  | L2_loss:  2730.372\n",
      "VALID | AE Loss:  250.3006  | Recons:  250.27327\n",
      "EPOCH:  156\n"
     ]
    },
    {
     "name": "stderr",
     "output_type": "stream",
     "text": [
      "100%|████████████████████████████████████████████████████████████████████████████████| 875/875 [00:25<00:00, 34.27it/s]\n",
      "100%|███████████████████████████████████████████████████████████████████████████████| 218/218 [00:02<00:00, 102.08it/s]\n"
     ]
    },
    {
     "name": "stdout",
     "output_type": "stream",
     "text": [
      "TRAIN | AE Loss:  247.73148  | Recons:  247.70415  | L2_loss:  2734.517\n",
      "VALID | AE Loss:  251.69514  | Recons:  251.66779\n",
      "total loss Patience count:  1\n",
      "EPOCH:  157\n"
     ]
    },
    {
     "name": "stderr",
     "output_type": "stream",
     "text": [
      "100%|████████████████████████████████████████████████████████████████████████████████| 875/875 [00:25<00:00, 34.45it/s]\n",
      "100%|███████████████████████████████████████████████████████████████████████████████| 218/218 [00:02<00:00, 104.46it/s]\n"
     ]
    },
    {
     "name": "stdout",
     "output_type": "stream",
     "text": [
      "TRAIN | AE Loss:  247.61371  | Recons:  247.58632  | L2_loss:  2738.6353\n",
      "VALID | AE Loss:  251.36073  | Recons:  251.33333\n",
      "total loss Patience count:  2\n",
      "EPOCH:  158\n"
     ]
    },
    {
     "name": "stderr",
     "output_type": "stream",
     "text": [
      "100%|████████████████████████████████████████████████████████████████████████████████| 875/875 [00:25<00:00, 34.46it/s]\n",
      "100%|███████████████████████████████████████████████████████████████████████████████| 218/218 [00:02<00:00, 100.71it/s]\n"
     ]
    },
    {
     "name": "stdout",
     "output_type": "stream",
     "text": [
      "TRAIN | AE Loss:  247.47014  | Recons:  247.44272  | L2_loss:  2742.8052\n",
      "VALID | AE Loss:  250.3641  | Recons:  250.33667\n",
      "total loss Patience count:  3\n",
      "EPOCH:  159\n"
     ]
    },
    {
     "name": "stderr",
     "output_type": "stream",
     "text": [
      "100%|████████████████████████████████████████████████████████████████████████████████| 875/875 [00:25<00:00, 34.20it/s]\n",
      "100%|███████████████████████████████████████████████████████████████████████████████| 218/218 [00:02<00:00, 103.59it/s]\n"
     ]
    },
    {
     "name": "stdout",
     "output_type": "stream",
     "text": [
      "TRAIN | AE Loss:  247.33781  | Recons:  247.31036  | L2_loss:  2747.0269\n",
      "VALID | AE Loss:  250.45581  | Recons:  250.42834\n",
      "total loss Patience count:  4\n",
      "EPOCH:  160\n"
     ]
    },
    {
     "name": "stderr",
     "output_type": "stream",
     "text": [
      "100%|████████████████████████████████████████████████████████████████████████████████| 875/875 [00:26<00:00, 33.59it/s]\n",
      "100%|███████████████████████████████████████████████████████████████████████████████| 218/218 [00:02<00:00, 102.43it/s]\n"
     ]
    },
    {
     "name": "stdout",
     "output_type": "stream",
     "text": [
      "TRAIN | AE Loss:  247.22083  | Recons:  247.19333  | L2_loss:  2750.9944\n",
      "VALID | AE Loss:  250.31522  | Recons:  250.2877\n",
      "total loss Patience count:  5\n",
      "EPOCH:  161\n"
     ]
    },
    {
     "name": "stderr",
     "output_type": "stream",
     "text": [
      "100%|████████████████████████████████████████████████████████████████████████████████| 875/875 [00:25<00:00, 33.97it/s]\n",
      "100%|████████████████████████████████████████████████████████████████████████████████| 218/218 [00:02<00:00, 98.29it/s]\n"
     ]
    },
    {
     "name": "stdout",
     "output_type": "stream",
     "text": [
      "TRAIN | AE Loss:  247.09355  | Recons:  247.066  | L2_loss:  2755.276\n",
      "VALID | AE Loss:  251.23033  | Recons:  251.20274\n",
      "total loss Patience count:  6\n",
      "EPOCH:  162\n"
     ]
    },
    {
     "name": "stderr",
     "output_type": "stream",
     "text": [
      "100%|████████████████████████████████████████████████████████████████████████████████| 875/875 [00:25<00:00, 34.12it/s]\n",
      "100%|███████████████████████████████████████████████████████████████████████████████| 218/218 [00:02<00:00, 102.99it/s]\n"
     ]
    },
    {
     "name": "stdout",
     "output_type": "stream",
     "text": [
      "TRAIN | AE Loss:  246.95227  | Recons:  246.92468  | L2_loss:  2759.2864\n",
      "VALID | AE Loss:  250.10704  | Recons:  250.07942\n",
      "EPOCH:  163\n"
     ]
    },
    {
     "name": "stderr",
     "output_type": "stream",
     "text": [
      "100%|████████████████████████████████████████████████████████████████████████████████| 875/875 [00:25<00:00, 34.69it/s]\n",
      "100%|███████████████████████████████████████████████████████████████████████████████| 218/218 [00:02<00:00, 104.42it/s]\n"
     ]
    },
    {
     "name": "stdout",
     "output_type": "stream",
     "text": [
      "TRAIN | AE Loss:  246.84178  | Recons:  246.81415  | L2_loss:  2763.567\n",
      "VALID | AE Loss:  249.35602  | Recons:  249.32837\n",
      "EPOCH:  164\n"
     ]
    },
    {
     "name": "stderr",
     "output_type": "stream",
     "text": [
      "100%|████████████████████████████████████████████████████████████████████████████████| 875/875 [00:25<00:00, 34.23it/s]\n",
      "100%|███████████████████████████████████████████████████████████████████████████████| 218/218 [00:02<00:00, 104.26it/s]\n"
     ]
    },
    {
     "name": "stdout",
     "output_type": "stream",
     "text": [
      "TRAIN | AE Loss:  246.71315  | Recons:  246.68547  | L2_loss:  2767.5876\n",
      "VALID | AE Loss:  250.68004  | Recons:  250.65234\n",
      "total loss Patience count:  1\n",
      "EPOCH:  165\n"
     ]
    },
    {
     "name": "stderr",
     "output_type": "stream",
     "text": [
      "100%|████████████████████████████████████████████████████████████████████████████████| 875/875 [00:25<00:00, 34.32it/s]\n",
      "100%|████████████████████████████████████████████████████████████████████████████████| 218/218 [00:02<00:00, 98.97it/s]\n"
     ]
    },
    {
     "name": "stdout",
     "output_type": "stream",
     "text": [
      "TRAIN | AE Loss:  246.58757  | Recons:  246.55984  | L2_loss:  2771.619\n",
      "VALID | AE Loss:  250.12859  | Recons:  250.10085\n",
      "Saving model...\n",
      "Model saved\n",
      "Generating Z Space ...\n",
      "Loading model checkpoint experiments\\checkpoint_dir\\AE_MNIST_latent_dim10_h_dim500_h_nl3\\-145250 ...\n",
      "\n",
      "INFO:tensorflow:Restoring parameters from experiments\\checkpoint_dir\\AE_MNIST_latent_dim10_h_dim500_h_nl3\\-145250\n",
      "Model loaded\n",
      "EPOCHS trained:  165\n"
     ]
    },
    {
     "name": "stderr",
     "output_type": "stream",
     "text": [
      "100%|███████████████████████████████████████████████████████████████████████████████| 875/875 [00:03<00:00, 262.25it/s]\n"
     ]
    },
    {
     "name": "stdout",
     "output_type": "stream",
     "text": [
      "Z space dimensions: (56000, 2)\n",
      "Ploting Z space ...\n",
      "data size (56000, 2)\n"
     ]
    },
    {
     "name": "stderr",
     "output_type": "stream",
     "text": [
      "100%|██████████████████████████████████████████████████████████████████████████| 56000/56000 [00:15<00:00, 3521.86it/s]\n"
     ]
    },
    {
     "name": "stdout",
     "output_type": "stream",
     "text": [
      "Saving Image experiments\\log_dir\\AE_MNIST_latent_dim10_h_dim500_h_nl3\\AE_MNIST_latent_dim10_h_dim500_h_nl3 Z space in epoch 165.jpg ...\n",
      "Generating Samples ...\n",
      "Loading model checkpoint experiments\\checkpoint_dir\\AE_MNIST_latent_dim10_h_dim500_h_nl3\\-145250 ...\n",
      "\n",
      "INFO:tensorflow:Restoring parameters from experiments\\checkpoint_dir\\AE_MNIST_latent_dim10_h_dim500_h_nl3\\-145250\n",
      "Model loaded\n",
      "EPOCHS trained:  165\n"
     ]
    },
    {
     "name": "stderr",
     "output_type": "stream",
     "text": [
      "2it [00:00, 26.93it/s]                                                                                                 \n"
     ]
    },
    {
     "name": "stdout",
     "output_type": "stream",
     "text": [
      "Loading model checkpoint experiments\\checkpoint_dir\\AE_MNIST_latent_dim10_h_dim500_h_nl3\\-145250 ...\n",
      "\n",
      "INFO:tensorflow:Restoring parameters from experiments\\checkpoint_dir\\AE_MNIST_latent_dim10_h_dim500_h_nl3\\-145250\n",
      "Model loaded\n",
      "EPOCHS trained:  165\n"
     ]
    },
    {
     "name": "stderr",
     "output_type": "stream",
     "text": [
      "2it [00:00, 58.59it/s]                                                                                                 \n"
     ]
    },
    {
     "name": "stdout",
     "output_type": "stream",
     "text": [
      "Saving Image  experiments\\log_dir\\AE_MNIST_latent_dim10_h_dim500_h_nl3\\AE_MNIST_latent_dim10_h_dim500_h_nl3 samples generation in epoch 165.jpg\n",
      "total loss Patience count:  2\n",
      "EPOCH:  166\n"
     ]
    },
    {
     "name": "stderr",
     "output_type": "stream",
     "text": [
      "100%|████████████████████████████████████████████████████████████████████████████████| 875/875 [00:25<00:00, 35.61it/s]\n",
      "100%|███████████████████████████████████████████████████████████████████████████████| 218/218 [00:02<00:00, 102.43it/s]\n"
     ]
    },
    {
     "name": "stdout",
     "output_type": "stream",
     "text": [
      "TRAIN | AE Loss:  246.44518  | Recons:  246.4174  | L2_loss:  2775.7388\n",
      "VALID | AE Loss:  249.75038  | Recons:  249.72258\n",
      "total loss Patience count:  3\n",
      "EPOCH:  167\n"
     ]
    },
    {
     "name": "stderr",
     "output_type": "stream",
     "text": [
      "100%|████████████████████████████████████████████████████████████████████████████████| 875/875 [00:25<00:00, 34.19it/s]\n",
      "100%|████████████████████████████████████████████████████████████████████████████████| 218/218 [00:02<00:00, 83.83it/s]\n"
     ]
    },
    {
     "name": "stdout",
     "output_type": "stream",
     "text": [
      "TRAIN | AE Loss:  246.32982  | Recons:  246.30202  | L2_loss:  2779.819\n",
      "VALID | AE Loss:  249.67068  | Recons:  249.64285\n",
      "total loss Patience count:  4\n",
      "EPOCH:  168\n"
     ]
    },
    {
     "name": "stderr",
     "output_type": "stream",
     "text": [
      "100%|████████████████████████████████████████████████████████████████████████████████| 875/875 [00:26<00:00, 33.49it/s]\n",
      "100%|████████████████████████████████████████████████████████████████████████████████| 218/218 [00:02<00:00, 97.64it/s]\n"
     ]
    },
    {
     "name": "stdout",
     "output_type": "stream",
     "text": [
      "TRAIN | AE Loss:  246.2129  | Recons:  246.18507  | L2_loss:  2783.8445\n",
      "VALID | AE Loss:  250.01407  | Recons:  249.9862\n",
      "total loss Patience count:  5\n",
      "EPOCH:  169\n"
     ]
    },
    {
     "name": "stderr",
     "output_type": "stream",
     "text": [
      "100%|████████████████████████████████████████████████████████████████████████████████| 875/875 [00:26<00:00, 32.95it/s]\n",
      "100%|███████████████████████████████████████████████████████████████████████████████| 218/218 [00:02<00:00, 102.20it/s]\n"
     ]
    },
    {
     "name": "stdout",
     "output_type": "stream",
     "text": [
      "TRAIN | AE Loss:  246.09268  | Recons:  246.0648  | L2_loss:  2787.8052\n",
      "VALID | AE Loss:  250.68234  | Recons:  250.65443\n",
      "total loss Patience count:  6\n",
      "EPOCH:  170\n"
     ]
    },
    {
     "name": "stderr",
     "output_type": "stream",
     "text": [
      "100%|████████████████████████████████████████████████████████████████████████████████| 875/875 [00:26<00:00, 32.62it/s]\n",
      "100%|███████████████████████████████████████████████████████████████████████████████| 218/218 [00:02<00:00, 101.72it/s]\n"
     ]
    },
    {
     "name": "stdout",
     "output_type": "stream",
     "text": [
      "TRAIN | AE Loss:  245.98276  | Recons:  245.95483  | L2_loss:  2792.0286\n",
      "VALID | AE Loss:  248.7453  | Recons:  248.71735\n",
      "EPOCH:  171\n"
     ]
    },
    {
     "name": "stderr",
     "output_type": "stream",
     "text": [
      "100%|████████████████████████████████████████████████████████████████████████████████| 875/875 [00:26<00:00, 33.54it/s]\n",
      "100%|███████████████████████████████████████████████████████████████████████████████| 218/218 [00:02<00:00, 102.20it/s]\n"
     ]
    },
    {
     "name": "stdout",
     "output_type": "stream",
     "text": [
      "TRAIN | AE Loss:  245.86732  | Recons:  245.83936  | L2_loss:  2795.9526\n",
      "VALID | AE Loss:  250.29974  | Recons:  250.27179\n",
      "total loss Patience count:  1\n",
      "EPOCH:  172\n"
     ]
    },
    {
     "name": "stderr",
     "output_type": "stream",
     "text": [
      "100%|████████████████████████████████████████████████████████████████████████████████| 875/875 [00:25<00:00, 33.79it/s]\n",
      "100%|████████████████████████████████████████████████████████████████████████████████| 218/218 [00:02<00:00, 98.42it/s]\n"
     ]
    },
    {
     "name": "stdout",
     "output_type": "stream",
     "text": [
      "TRAIN | AE Loss:  245.74345  | Recons:  245.71542  | L2_loss:  2800.0667\n",
      "VALID | AE Loss:  247.99577  | Recons:  247.96774\n",
      "EPOCH:  173\n"
     ]
    },
    {
     "name": "stderr",
     "output_type": "stream",
     "text": [
      "100%|████████████████████████████████████████████████████████████████████████████████| 875/875 [00:25<00:00, 33.89it/s]\n",
      "100%|████████████████████████████████████████████████████████████████████████████████| 218/218 [00:02<00:00, 99.82it/s]\n"
     ]
    },
    {
     "name": "stdout",
     "output_type": "stream",
     "text": [
      "TRAIN | AE Loss:  245.616  | Recons:  245.58797  | L2_loss:  2804.0085\n",
      "VALID | AE Loss:  250.09322  | Recons:  250.06516\n",
      "total loss Patience count:  1\n",
      "EPOCH:  174\n"
     ]
    },
    {
     "name": "stderr",
     "output_type": "stream",
     "text": [
      "100%|████████████████████████████████████████████████████████████████████████████████| 875/875 [00:25<00:00, 33.73it/s]\n",
      "100%|███████████████████████████████████████████████████████████████████████████████| 218/218 [00:02<00:00, 101.54it/s]\n"
     ]
    },
    {
     "name": "stdout",
     "output_type": "stream",
     "text": [
      "TRAIN | AE Loss:  245.51099  | Recons:  245.4829  | L2_loss:  2808.0085\n",
      "VALID | AE Loss:  248.9092  | Recons:  248.88107\n",
      "total loss Patience count:  2\n",
      "EPOCH:  175\n"
     ]
    },
    {
     "name": "stderr",
     "output_type": "stream",
     "text": [
      "100%|████████████████████████████████████████████████████████████████████████████████| 875/875 [00:26<00:00, 34.96it/s]\n",
      "100%|███████████████████████████████████████████████████████████████████████████████| 218/218 [00:02<00:00, 105.27it/s]\n"
     ]
    },
    {
     "name": "stdout",
     "output_type": "stream",
     "text": [
      "TRAIN | AE Loss:  245.38112  | Recons:  245.353  | L2_loss:  2812.0046\n",
      "VALID | AE Loss:  249.05801  | Recons:  249.02988\n",
      "total loss Patience count:  3\n",
      "EPOCH:  176\n"
     ]
    },
    {
     "name": "stderr",
     "output_type": "stream",
     "text": [
      "100%|████████████████████████████████████████████████████████████████████████████████| 875/875 [00:25<00:00, 34.03it/s]\n",
      "100%|███████████████████████████████████████████████████████████████████████████████| 218/218 [00:02<00:00, 100.91it/s]\n"
     ]
    },
    {
     "name": "stdout",
     "output_type": "stream",
     "text": [
      "TRAIN | AE Loss:  245.29585  | Recons:  245.26772  | L2_loss:  2815.936\n",
      "VALID | AE Loss:  248.27158  | Recons:  248.2434\n",
      "total loss Patience count:  4\n",
      "EPOCH:  177\n"
     ]
    },
    {
     "name": "stderr",
     "output_type": "stream",
     "text": [
      "100%|████████████████████████████████████████████████████████████████████████████████| 875/875 [00:25<00:00, 34.01it/s]\n",
      "100%|███████████████████████████████████████████████████████████████████████████████| 218/218 [00:02<00:00, 102.70it/s]\n"
     ]
    },
    {
     "name": "stdout",
     "output_type": "stream",
     "text": [
      "TRAIN | AE Loss:  245.15953  | Recons:  245.13132  | L2_loss:  2819.8687\n",
      "VALID | AE Loss:  249.08736  | Recons:  249.05914\n",
      "total loss Patience count:  5\n",
      "EPOCH:  178\n"
     ]
    },
    {
     "name": "stderr",
     "output_type": "stream",
     "text": [
      "100%|████████████████████████████████████████████████████████████████████████████████| 875/875 [00:24<00:00, 34.88it/s]\n",
      "100%|███████████████████████████████████████████████████████████████████████████████| 218/218 [00:02<00:00, 107.06it/s]\n"
     ]
    },
    {
     "name": "stdout",
     "output_type": "stream",
     "text": [
      "TRAIN | AE Loss:  245.05336  | Recons:  245.02513  | L2_loss:  2823.7866\n",
      "VALID | AE Loss:  249.39452  | Recons:  249.36626\n",
      "total loss Patience count:  6\n",
      "EPOCH:  179\n"
     ]
    },
    {
     "name": "stderr",
     "output_type": "stream",
     "text": [
      "100%|████████████████████████████████████████████████████████████████████████████████| 875/875 [00:25<00:00, 33.92it/s]\n",
      "100%|███████████████████████████████████████████████████████████████████████████████| 218/218 [00:02<00:00, 104.16it/s]\n"
     ]
    },
    {
     "name": "stdout",
     "output_type": "stream",
     "text": [
      "TRAIN | AE Loss:  244.94089  | Recons:  244.91261  | L2_loss:  2827.867\n",
      "VALID | AE Loss:  248.36421  | Recons:  248.33592\n",
      "total loss Patience count:  7\n",
      "EPOCH:  180\n"
     ]
    },
    {
     "name": "stderr",
     "output_type": "stream",
     "text": [
      "100%|████████████████████████████████████████████████████████████████████████████████| 875/875 [00:24<00:00, 36.42it/s]\n",
      "100%|███████████████████████████████████████████████████████████████████████████████| 218/218 [00:02<00:00, 111.49it/s]\n"
     ]
    },
    {
     "name": "stdout",
     "output_type": "stream",
     "text": [
      "TRAIN | AE Loss:  244.82982  | Recons:  244.8015  | L2_loss:  2831.7344\n",
      "VALID | AE Loss:  248.17241  | Recons:  248.14406\n",
      "Saving model...\n",
      "Model saved\n",
      "Generating Z Space ...\n",
      "Loading model checkpoint experiments\\checkpoint_dir\\AE_MNIST_latent_dim10_h_dim500_h_nl3\\-158375 ...\n",
      "\n",
      "INFO:tensorflow:Restoring parameters from experiments\\checkpoint_dir\\AE_MNIST_latent_dim10_h_dim500_h_nl3\\-158375\n",
      "Model loaded\n",
      "EPOCHS trained:  180\n"
     ]
    },
    {
     "name": "stderr",
     "output_type": "stream",
     "text": [
      "100%|███████████████████████████████████████████████████████████████████████████████| 875/875 [00:03<00:00, 262.24it/s]\n"
     ]
    },
    {
     "name": "stdout",
     "output_type": "stream",
     "text": [
      "Z space dimensions: (56000, 2)\n",
      "Ploting Z space ...\n",
      "data size (56000, 2)\n"
     ]
    },
    {
     "name": "stderr",
     "output_type": "stream",
     "text": [
      "100%|██████████████████████████████████████████████████████████████████████████| 56000/56000 [00:15<00:00, 3695.22it/s]\n"
     ]
    },
    {
     "name": "stdout",
     "output_type": "stream",
     "text": [
      "Saving Image experiments\\log_dir\\AE_MNIST_latent_dim10_h_dim500_h_nl3\\AE_MNIST_latent_dim10_h_dim500_h_nl3 Z space in epoch 180.jpg ...\n",
      "Generating Samples ...\n",
      "Loading model checkpoint experiments\\checkpoint_dir\\AE_MNIST_latent_dim10_h_dim500_h_nl3\\-158375 ...\n",
      "\n",
      "INFO:tensorflow:Restoring parameters from experiments\\checkpoint_dir\\AE_MNIST_latent_dim10_h_dim500_h_nl3\\-158375\n",
      "Model loaded\n",
      "EPOCHS trained:  180\n"
     ]
    },
    {
     "name": "stderr",
     "output_type": "stream",
     "text": [
      "2it [00:00, 26.04it/s]                                                                                                 \n"
     ]
    },
    {
     "name": "stdout",
     "output_type": "stream",
     "text": [
      "Loading model checkpoint experiments\\checkpoint_dir\\AE_MNIST_latent_dim10_h_dim500_h_nl3\\-158375 ...\n",
      "\n",
      "INFO:tensorflow:Restoring parameters from experiments\\checkpoint_dir\\AE_MNIST_latent_dim10_h_dim500_h_nl3\\-158375\n",
      "Model loaded\n",
      "EPOCHS trained:  180\n"
     ]
    },
    {
     "name": "stderr",
     "output_type": "stream",
     "text": [
      "2it [00:00, 43.59it/s]                                                                                                 \n"
     ]
    },
    {
     "name": "stdout",
     "output_type": "stream",
     "text": [
      "Saving Image  experiments\\log_dir\\AE_MNIST_latent_dim10_h_dim500_h_nl3\\AE_MNIST_latent_dim10_h_dim500_h_nl3 samples generation in epoch 180.jpg\n",
      "total loss Patience count:  8\n",
      "EPOCH:  181\n"
     ]
    },
    {
     "name": "stderr",
     "output_type": "stream",
     "text": [
      "100%|████████████████████████████████████████████████████████████████████████████████| 875/875 [00:25<00:00, 34.47it/s]\n",
      "100%|███████████████████████████████████████████████████████████████████████████████| 218/218 [00:02<00:00, 106.16it/s]\n"
     ]
    },
    {
     "name": "stdout",
     "output_type": "stream",
     "text": [
      "TRAIN | AE Loss:  244.72565  | Recons:  244.69728  | L2_loss:  2835.711\n",
      "VALID | AE Loss:  248.85307  | Recons:  248.82469\n",
      "total loss Patience count:  9\n",
      "EPOCH:  182\n"
     ]
    },
    {
     "name": "stderr",
     "output_type": "stream",
     "text": [
      "100%|████████████████████████████████████████████████████████████████████████████████| 875/875 [00:25<00:00, 34.05it/s]\n",
      "100%|███████████████████████████████████████████████████████████████████████████████| 218/218 [00:02<00:00, 103.91it/s]\n"
     ]
    },
    {
     "name": "stdout",
     "output_type": "stream",
     "text": [
      "TRAIN | AE Loss:  244.61874  | Recons:  244.59036  | L2_loss:  2839.576\n",
      "VALID | AE Loss:  248.10661  | Recons:  248.0782\n",
      "total loss Patience count:  10\n",
      "EPOCH:  183\n"
     ]
    },
    {
     "name": "stderr",
     "output_type": "stream",
     "text": [
      "100%|████████████████████████████████████████████████████████████████████████████████| 875/875 [00:25<00:00, 34.54it/s]\n",
      "100%|███████████████████████████████████████████████████████████████████████████████| 218/218 [00:02<00:00, 102.13it/s]\n"
     ]
    },
    {
     "name": "stdout",
     "output_type": "stream",
     "text": [
      "TRAIN | AE Loss:  244.50072  | Recons:  244.47229  | L2_loss:  2843.587\n",
      "VALID | AE Loss:  247.87883  | Recons:  247.85042\n",
      "EPOCH:  184\n"
     ]
    },
    {
     "name": "stderr",
     "output_type": "stream",
     "text": [
      "100%|████████████████████████████████████████████████████████████████████████████████| 875/875 [00:25<00:00, 34.51it/s]\n",
      "100%|███████████████████████████████████████████████████████████████████████████████| 218/218 [00:02<00:00, 103.96it/s]\n"
     ]
    },
    {
     "name": "stdout",
     "output_type": "stream",
     "text": [
      "TRAIN | AE Loss:  244.40312  | Recons:  244.37465  | L2_loss:  2847.4514\n",
      "VALID | AE Loss:  249.2307  | Recons:  249.20221\n",
      "total loss Patience count:  1\n",
      "EPOCH:  185\n"
     ]
    },
    {
     "name": "stderr",
     "output_type": "stream",
     "text": [
      "100%|████████████████████████████████████████████████████████████████████████████████| 875/875 [00:25<00:00, 33.07it/s]\n",
      "100%|████████████████████████████████████████████████████████████████████████████████| 218/218 [00:02<00:00, 98.19it/s]\n"
     ]
    },
    {
     "name": "stdout",
     "output_type": "stream",
     "text": [
      "TRAIN | AE Loss:  244.28418  | Recons:  244.25565  | L2_loss:  2851.4348\n",
      "VALID | AE Loss:  247.80641  | Recons:  247.77788\n",
      "EPOCH:  186\n"
     ]
    },
    {
     "name": "stderr",
     "output_type": "stream",
     "text": [
      "100%|████████████████████████████████████████████████████████████████████████████████| 875/875 [00:24<00:00, 35.07it/s]\n",
      "100%|███████████████████████████████████████████████████████████████████████████████| 218/218 [00:02<00:00, 108.82it/s]\n"
     ]
    },
    {
     "name": "stdout",
     "output_type": "stream",
     "text": [
      "TRAIN | AE Loss:  244.18816  | Recons:  244.1596  | L2_loss:  2855.2544\n",
      "VALID | AE Loss:  247.7309  | Recons:  247.70232\n",
      "EPOCH:  187\n"
     ]
    },
    {
     "name": "stderr",
     "output_type": "stream",
     "text": [
      "100%|████████████████████████████████████████████████████████████████████████████████| 875/875 [00:24<00:00, 35.29it/s]\n",
      "100%|███████████████████████████████████████████████████████████████████████████████| 218/218 [00:02<00:00, 107.38it/s]\n"
     ]
    },
    {
     "name": "stdout",
     "output_type": "stream",
     "text": [
      "TRAIN | AE Loss:  244.07701  | Recons:  244.04843  | L2_loss:  2859.2678\n",
      "VALID | AE Loss:  248.18803  | Recons:  248.15942\n",
      "total loss Patience count:  1\n",
      "EPOCH:  188\n"
     ]
    },
    {
     "name": "stderr",
     "output_type": "stream",
     "text": [
      "100%|████████████████████████████████████████████████████████████████████████████████| 875/875 [00:24<00:00, 35.31it/s]\n",
      "100%|███████████████████████████████████████████████████████████████████████████████| 218/218 [00:02<00:00, 104.09it/s]\n"
     ]
    },
    {
     "name": "stdout",
     "output_type": "stream",
     "text": [
      "TRAIN | AE Loss:  243.97734  | Recons:  243.94872  | L2_loss:  2863.1143\n",
      "VALID | AE Loss:  248.09973  | Recons:  248.07106\n",
      "total loss Patience count:  2\n",
      "EPOCH:  189\n"
     ]
    },
    {
     "name": "stderr",
     "output_type": "stream",
     "text": [
      "100%|████████████████████████████████████████████████████████████████████████████████| 875/875 [00:25<00:00, 36.47it/s]\n",
      "100%|███████████████████████████████████████████████████████████████████████████████| 218/218 [00:02<00:00, 107.65it/s]\n"
     ]
    },
    {
     "name": "stdout",
     "output_type": "stream",
     "text": [
      "TRAIN | AE Loss:  243.86777  | Recons:  243.83911  | L2_loss:  2866.9265\n",
      "VALID | AE Loss:  247.7104  | Recons:  247.68172\n",
      "EPOCH:  190\n"
     ]
    },
    {
     "name": "stderr",
     "output_type": "stream",
     "text": [
      "100%|████████████████████████████████████████████████████████████████████████████████| 875/875 [00:24<00:00, 35.47it/s]\n",
      "100%|███████████████████████████████████████████████████████████████████████████████| 218/218 [00:02<00:00, 105.48it/s]\n"
     ]
    },
    {
     "name": "stdout",
     "output_type": "stream",
     "text": [
      "TRAIN | AE Loss:  243.76382  | Recons:  243.7351  | L2_loss:  2870.8054\n",
      "VALID | AE Loss:  247.00504  | Recons:  246.97632\n",
      "EPOCH:  191\n"
     ]
    },
    {
     "name": "stderr",
     "output_type": "stream",
     "text": [
      "100%|████████████████████████████████████████████████████████████████████████████████| 875/875 [00:24<00:00, 35.65it/s]\n",
      "100%|███████████████████████████████████████████████████████████████████████████████| 218/218 [00:02<00:00, 106.68it/s]\n"
     ]
    },
    {
     "name": "stdout",
     "output_type": "stream",
     "text": [
      "TRAIN | AE Loss:  243.66743  | Recons:  243.63867  | L2_loss:  2874.6482\n",
      "VALID | AE Loss:  247.93654  | Recons:  247.90776\n",
      "total loss Patience count:  1\n",
      "EPOCH:  192\n"
     ]
    },
    {
     "name": "stderr",
     "output_type": "stream",
     "text": [
      "100%|████████████████████████████████████████████████████████████████████████████████| 875/875 [00:24<00:00, 35.71it/s]\n",
      "100%|███████████████████████████████████████████████████████████████████████████████| 218/218 [00:02<00:00, 108.21it/s]\n"
     ]
    },
    {
     "name": "stdout",
     "output_type": "stream",
     "text": [
      "TRAIN | AE Loss:  243.56856  | Recons:  243.53976  | L2_loss:  2878.528\n",
      "VALID | AE Loss:  247.23781  | Recons:  247.20901\n",
      "total loss Patience count:  2\n",
      "EPOCH:  193\n"
     ]
    },
    {
     "name": "stderr",
     "output_type": "stream",
     "text": [
      "100%|████████████████████████████████████████████████████████████████████████████████| 875/875 [00:24<00:00, 35.57it/s]\n",
      "100%|███████████████████████████████████████████████████████████████████████████████| 218/218 [00:02<00:00, 106.30it/s]\n"
     ]
    },
    {
     "name": "stdout",
     "output_type": "stream",
     "text": [
      "TRAIN | AE Loss:  243.4534  | Recons:  243.42458  | L2_loss:  2882.3857\n",
      "VALID | AE Loss:  248.31654  | Recons:  248.28772\n",
      "total loss Patience count:  3\n",
      "EPOCH:  194\n"
     ]
    },
    {
     "name": "stderr",
     "output_type": "stream",
     "text": [
      "100%|████████████████████████████████████████████████████████████████████████████████| 875/875 [00:24<00:00, 35.33it/s]\n",
      "100%|███████████████████████████████████████████████████████████████████████████████| 218/218 [00:02<00:00, 103.46it/s]\n"
     ]
    },
    {
     "name": "stdout",
     "output_type": "stream",
     "text": [
      "TRAIN | AE Loss:  243.38116  | Recons:  243.35228  | L2_loss:  2886.29\n",
      "VALID | AE Loss:  247.849  | Recons:  247.8201\n",
      "total loss Patience count:  4\n",
      "EPOCH:  195\n"
     ]
    },
    {
     "name": "stderr",
     "output_type": "stream",
     "text": [
      "100%|████████████████████████████████████████████████████████████████████████████████| 875/875 [00:24<00:00, 35.33it/s]\n",
      "100%|███████████████████████████████████████████████████████████████████████████████| 218/218 [00:02<00:00, 103.11it/s]\n"
     ]
    },
    {
     "name": "stdout",
     "output_type": "stream",
     "text": [
      "TRAIN | AE Loss:  243.26787  | Recons:  243.23897  | L2_loss:  2890.0603\n",
      "VALID | AE Loss:  246.62837  | Recons:  246.59944\n",
      "Saving model...\n",
      "Model saved\n",
      "Generating Z Space ...\n",
      "Loading model checkpoint experiments\\checkpoint_dir\\AE_MNIST_latent_dim10_h_dim500_h_nl3\\-171500 ...\n",
      "\n",
      "INFO:tensorflow:Restoring parameters from experiments\\checkpoint_dir\\AE_MNIST_latent_dim10_h_dim500_h_nl3\\-171500\n",
      "Model loaded\n",
      "EPOCHS trained:  195\n"
     ]
    },
    {
     "name": "stderr",
     "output_type": "stream",
     "text": [
      "100%|███████████████████████████████████████████████████████████████████████████████| 875/875 [00:03<00:00, 267.37it/s]\n"
     ]
    },
    {
     "name": "stdout",
     "output_type": "stream",
     "text": [
      "Z space dimensions: (56000, 2)\n",
      "Ploting Z space ...\n",
      "data size (56000, 2)\n"
     ]
    },
    {
     "name": "stderr",
     "output_type": "stream",
     "text": [
      "100%|██████████████████████████████████████████████████████████████████████████| 56000/56000 [00:15<00:00, 3693.00it/s]\n"
     ]
    },
    {
     "name": "stdout",
     "output_type": "stream",
     "text": [
      "Saving Image experiments\\log_dir\\AE_MNIST_latent_dim10_h_dim500_h_nl3\\AE_MNIST_latent_dim10_h_dim500_h_nl3 Z space in epoch 195.jpg ...\n",
      "Generating Samples ...\n",
      "Loading model checkpoint experiments\\checkpoint_dir\\AE_MNIST_latent_dim10_h_dim500_h_nl3\\-171500 ...\n",
      "\n",
      "INFO:tensorflow:Restoring parameters from experiments\\checkpoint_dir\\AE_MNIST_latent_dim10_h_dim500_h_nl3\\-171500\n",
      "Model loaded\n",
      "EPOCHS trained:  195\n"
     ]
    },
    {
     "name": "stderr",
     "output_type": "stream",
     "text": [
      "2it [00:00, 22.87it/s]                                                                                                 \n"
     ]
    },
    {
     "name": "stdout",
     "output_type": "stream",
     "text": [
      "Loading model checkpoint experiments\\checkpoint_dir\\AE_MNIST_latent_dim10_h_dim500_h_nl3\\-171500 ...\n",
      "\n",
      "INFO:tensorflow:Restoring parameters from experiments\\checkpoint_dir\\AE_MNIST_latent_dim10_h_dim500_h_nl3\\-171500\n",
      "Model loaded\n",
      "EPOCHS trained:  195\n"
     ]
    },
    {
     "name": "stderr",
     "output_type": "stream",
     "text": [
      "2it [00:00, 55.70it/s]                                                                                                 \n"
     ]
    },
    {
     "name": "stdout",
     "output_type": "stream",
     "text": [
      "Saving Image  experiments\\log_dir\\AE_MNIST_latent_dim10_h_dim500_h_nl3\\AE_MNIST_latent_dim10_h_dim500_h_nl3 samples generation in epoch 195.jpg\n",
      "EPOCH:  196\n"
     ]
    },
    {
     "name": "stderr",
     "output_type": "stream",
     "text": [
      "100%|████████████████████████████████████████████████████████████████████████████████| 875/875 [00:25<00:00, 34.45it/s]\n",
      "100%|███████████████████████████████████████████████████████████████████████████████| 218/218 [00:02<00:00, 105.18it/s]\n"
     ]
    },
    {
     "name": "stdout",
     "output_type": "stream",
     "text": [
      "TRAIN | AE Loss:  243.16948  | Recons:  243.14053  | L2_loss:  2893.8555\n",
      "VALID | AE Loss:  247.00285  | Recons:  246.97388\n",
      "total loss Patience count:  1\n",
      "EPOCH:  197\n"
     ]
    },
    {
     "name": "stderr",
     "output_type": "stream",
     "text": [
      "100%|████████████████████████████████████████████████████████████████████████████████| 875/875 [00:25<00:00, 34.56it/s]\n",
      "100%|███████████████████████████████████████████████████████████████████████████████| 218/218 [00:02<00:00, 103.59it/s]\n"
     ]
    },
    {
     "name": "stdout",
     "output_type": "stream",
     "text": [
      "TRAIN | AE Loss:  243.07819  | Recons:  243.04921  | L2_loss:  2897.7986\n",
      "VALID | AE Loss:  247.49722  | Recons:  247.46825\n",
      "total loss Patience count:  2\n",
      "EPOCH:  198\n"
     ]
    },
    {
     "name": "stderr",
     "output_type": "stream",
     "text": [
      "100%|████████████████████████████████████████████████████████████████████████████████| 875/875 [00:25<00:00, 34.21it/s]\n",
      "100%|███████████████████████████████████████████████████████████████████████████████| 218/218 [00:02<00:00, 104.94it/s]\n"
     ]
    },
    {
     "name": "stdout",
     "output_type": "stream",
     "text": [
      "TRAIN | AE Loss:  242.97894  | Recons:  242.94995  | L2_loss:  2901.4536\n",
      "VALID | AE Loss:  246.77275  | Recons:  246.74374\n",
      "total loss Patience count:  3\n",
      "EPOCH:  199\n"
     ]
    },
    {
     "name": "stderr",
     "output_type": "stream",
     "text": [
      "100%|████████████████████████████████████████████████████████████████████████████████| 875/875 [00:25<00:00, 33.77it/s]\n",
      "100%|███████████████████████████████████████████████████████████████████████████████| 218/218 [00:02<00:00, 100.76it/s]\n"
     ]
    },
    {
     "name": "stdout",
     "output_type": "stream",
     "text": [
      "TRAIN | AE Loss:  242.88005  | Recons:  242.851  | L2_loss:  2905.2344\n",
      "VALID | AE Loss:  247.4557  | Recons:  247.42664\n",
      "total loss Patience count:  4\n",
      "EPOCH:  200\n"
     ]
    },
    {
     "name": "stderr",
     "output_type": "stream",
     "text": [
      "100%|████████████████████████████████████████████████████████████████████████████████| 875/875 [00:25<00:00, 34.44it/s]\n",
      "100%|███████████████████████████████████████████████████████████████████████████████| 218/218 [00:02<00:00, 102.64it/s]\n"
     ]
    },
    {
     "name": "stdout",
     "output_type": "stream",
     "text": [
      "TRAIN | AE Loss:  242.7825  | Recons:  242.75339  | L2_loss:  2909.0515\n",
      "VALID | AE Loss:  247.10898  | Recons:  247.07988\n",
      "total loss Patience count:  5\n",
      "EPOCH:  201\n"
     ]
    },
    {
     "name": "stderr",
     "output_type": "stream",
     "text": [
      "100%|████████████████████████████████████████████████████████████████████████████████| 875/875 [00:25<00:00, 34.20it/s]\n",
      "100%|███████████████████████████████████████████████████████████████████████████████| 218/218 [00:02<00:00, 106.52it/s]\n"
     ]
    },
    {
     "name": "stdout",
     "output_type": "stream",
     "text": [
      "TRAIN | AE Loss:  242.6878  | Recons:  242.65866  | L2_loss:  2912.788\n",
      "VALID | AE Loss:  245.90672  | Recons:  245.87758\n",
      "EPOCH:  202\n"
     ]
    },
    {
     "name": "stderr",
     "output_type": "stream",
     "text": [
      "100%|████████████████████████████████████████████████████████████████████████████████| 875/875 [00:25<00:00, 34.35it/s]\n",
      "100%|███████████████████████████████████████████████████████████████████████████████| 218/218 [00:02<00:00, 103.54it/s]\n"
     ]
    },
    {
     "name": "stdout",
     "output_type": "stream",
     "text": [
      "TRAIN | AE Loss:  242.59218  | Recons:  242.56303  | L2_loss:  2916.6062\n",
      "VALID | AE Loss:  246.66292  | Recons:  246.63371\n",
      "total loss Patience count:  1\n",
      "EPOCH:  203\n"
     ]
    },
    {
     "name": "stderr",
     "output_type": "stream",
     "text": [
      "100%|████████████████████████████████████████████████████████████████████████████████| 875/875 [00:25<00:00, 35.08it/s]\n",
      "100%|███████████████████████████████████████████████████████████████████████████████| 218/218 [00:02<00:00, 103.12it/s]\n"
     ]
    },
    {
     "name": "stdout",
     "output_type": "stream",
     "text": [
      "TRAIN | AE Loss:  242.50333  | Recons:  242.4741  | L2_loss:  2920.3054\n",
      "VALID | AE Loss:  247.07791  | Recons:  247.04869\n",
      "total loss Patience count:  2\n",
      "EPOCH:  204\n"
     ]
    },
    {
     "name": "stderr",
     "output_type": "stream",
     "text": [
      "100%|████████████████████████████████████████████████████████████████████████████████| 875/875 [00:25<00:00, 34.45it/s]\n",
      "100%|███████████████████████████████████████████████████████████████████████████████| 218/218 [00:02<00:00, 105.37it/s]\n"
     ]
    },
    {
     "name": "stdout",
     "output_type": "stream",
     "text": [
      "TRAIN | AE Loss:  242.40817  | Recons:  242.37892  | L2_loss:  2924.1072\n",
      "VALID | AE Loss:  246.16621  | Recons:  246.13695\n",
      "total loss Patience count:  3\n",
      "EPOCH:  205\n"
     ]
    },
    {
     "name": "stderr",
     "output_type": "stream",
     "text": [
      "100%|████████████████████████████████████████████████████████████████████████████████| 875/875 [00:25<00:00, 34.31it/s]\n",
      "100%|███████████████████████████████████████████████████████████████████████████████| 218/218 [00:02<00:00, 101.54it/s]\n"
     ]
    },
    {
     "name": "stdout",
     "output_type": "stream",
     "text": [
      "TRAIN | AE Loss:  242.3123  | Recons:  242.28304  | L2_loss:  2927.7473\n",
      "VALID | AE Loss:  246.44589  | Recons:  246.4166\n",
      "total loss Patience count:  4\n",
      "EPOCH:  206\n"
     ]
    },
    {
     "name": "stderr",
     "output_type": "stream",
     "text": [
      "100%|████████████████████████████████████████████████████████████████████████████████| 875/875 [00:25<00:00, 34.46it/s]\n",
      "100%|████████████████████████████████████████████████████████████████████████████████| 218/218 [00:02<00:00, 98.60it/s]\n"
     ]
    },
    {
     "name": "stdout",
     "output_type": "stream",
     "text": [
      "TRAIN | AE Loss:  242.22826  | Recons:  242.19893  | L2_loss:  2931.4395\n",
      "VALID | AE Loss:  246.76212  | Recons:  246.7328\n",
      "total loss Patience count:  5\n",
      "EPOCH:  207\n"
     ]
    },
    {
     "name": "stderr",
     "output_type": "stream",
     "text": [
      "100%|████████████████████████████████████████████████████████████████████████████████| 875/875 [00:25<00:00, 34.69it/s]\n",
      "100%|███████████████████████████████████████████████████████████████████████████████| 218/218 [00:02<00:00, 105.58it/s]\n"
     ]
    },
    {
     "name": "stdout",
     "output_type": "stream",
     "text": [
      "TRAIN | AE Loss:  242.12508  | Recons:  242.09573  | L2_loss:  2935.139\n",
      "VALID | AE Loss:  246.66643  | Recons:  246.63704\n",
      "total loss Patience count:  6\n",
      "EPOCH:  208\n"
     ]
    },
    {
     "name": "stderr",
     "output_type": "stream",
     "text": [
      "100%|████████████████████████████████████████████████████████████████████████████████| 875/875 [00:25<00:00, 33.66it/s]\n",
      "100%|███████████████████████████████████████████████████████████████████████████████| 218/218 [00:02<00:00, 104.20it/s]\n"
     ]
    },
    {
     "name": "stdout",
     "output_type": "stream",
     "text": [
      "TRAIN | AE Loss:  242.04518  | Recons:  242.01581  | L2_loss:  2938.956\n",
      "VALID | AE Loss:  245.97043  | Recons:  245.94101\n",
      "total loss Patience count:  7\n",
      "EPOCH:  209\n"
     ]
    },
    {
     "name": "stderr",
     "output_type": "stream",
     "text": [
      "100%|████████████████████████████████████████████████████████████████████████████████| 875/875 [00:25<00:00, 34.65it/s]\n",
      "100%|███████████████████████████████████████████████████████████████████████████████| 218/218 [00:02<00:00, 101.53it/s]\n"
     ]
    },
    {
     "name": "stdout",
     "output_type": "stream",
     "text": [
      "TRAIN | AE Loss:  241.95908  | Recons:  241.92966  | L2_loss:  2942.6328\n",
      "VALID | AE Loss:  246.16626  | Recons:  246.13683\n",
      "total loss Patience count:  8\n",
      "EPOCH:  210\n"
     ]
    },
    {
     "name": "stderr",
     "output_type": "stream",
     "text": [
      "100%|████████████████████████████████████████████████████████████████████████████████| 875/875 [00:25<00:00, 34.78it/s]\n",
      "100%|███████████████████████████████████████████████████████████████████████████████| 218/218 [00:02<00:00, 102.32it/s]\n"
     ]
    },
    {
     "name": "stdout",
     "output_type": "stream",
     "text": [
      "TRAIN | AE Loss:  241.85878  | Recons:  241.8293  | L2_loss:  2946.3018\n",
      "VALID | AE Loss:  245.96297  | Recons:  245.93349\n",
      "Saving model...\n",
      "Model saved\n",
      "Generating Z Space ...\n",
      "Loading model checkpoint experiments\\checkpoint_dir\\AE_MNIST_latent_dim10_h_dim500_h_nl3\\-184625 ...\n",
      "\n",
      "INFO:tensorflow:Restoring parameters from experiments\\checkpoint_dir\\AE_MNIST_latent_dim10_h_dim500_h_nl3\\-184625\n",
      "Model loaded\n",
      "EPOCHS trained:  210\n"
     ]
    },
    {
     "name": "stderr",
     "output_type": "stream",
     "text": [
      "100%|███████████████████████████████████████████████████████████████████████████████| 875/875 [00:03<00:00, 267.51it/s]\n"
     ]
    },
    {
     "name": "stdout",
     "output_type": "stream",
     "text": [
      "Z space dimensions: (56000, 2)\n",
      "Ploting Z space ...\n",
      "data size (56000, 2)\n"
     ]
    },
    {
     "name": "stderr",
     "output_type": "stream",
     "text": [
      "100%|██████████████████████████████████████████████████████████████████████████| 56000/56000 [00:15<00:00, 3691.37it/s]\n"
     ]
    },
    {
     "name": "stdout",
     "output_type": "stream",
     "text": [
      "Saving Image experiments\\log_dir\\AE_MNIST_latent_dim10_h_dim500_h_nl3\\AE_MNIST_latent_dim10_h_dim500_h_nl3 Z space in epoch 210.jpg ...\n",
      "Generating Samples ...\n",
      "Loading model checkpoint experiments\\checkpoint_dir\\AE_MNIST_latent_dim10_h_dim500_h_nl3\\-184625 ...\n",
      "\n",
      "INFO:tensorflow:Restoring parameters from experiments\\checkpoint_dir\\AE_MNIST_latent_dim10_h_dim500_h_nl3\\-184625\n",
      "Model loaded\n",
      "EPOCHS trained:  210\n"
     ]
    },
    {
     "name": "stderr",
     "output_type": "stream",
     "text": [
      "2it [00:00, 22.44it/s]                                                                                                 \n"
     ]
    },
    {
     "name": "stdout",
     "output_type": "stream",
     "text": [
      "Loading model checkpoint experiments\\checkpoint_dir\\AE_MNIST_latent_dim10_h_dim500_h_nl3\\-184625 ...\n",
      "\n",
      "INFO:tensorflow:Restoring parameters from experiments\\checkpoint_dir\\AE_MNIST_latent_dim10_h_dim500_h_nl3\\-184625\n",
      "Model loaded\n",
      "EPOCHS trained:  210\n"
     ]
    },
    {
     "name": "stderr",
     "output_type": "stream",
     "text": [
      "2it [00:00, 34.22it/s]                                                                                                 \n"
     ]
    },
    {
     "name": "stdout",
     "output_type": "stream",
     "text": [
      "Saving Image  experiments\\log_dir\\AE_MNIST_latent_dim10_h_dim500_h_nl3\\AE_MNIST_latent_dim10_h_dim500_h_nl3 samples generation in epoch 210.jpg\n",
      "total loss Patience count:  9\n",
      "EPOCH:  211\n"
     ]
    },
    {
     "name": "stderr",
     "output_type": "stream",
     "text": [
      "100%|████████████████████████████████████████████████████████████████████████████████| 875/875 [00:25<00:00, 34.26it/s]\n",
      "100%|███████████████████████████████████████████████████████████████████████████████| 218/218 [00:02<00:00, 101.79it/s]\n"
     ]
    },
    {
     "name": "stdout",
     "output_type": "stream",
     "text": [
      "TRAIN | AE Loss:  241.76183  | Recons:  241.73235  | L2_loss:  2949.99\n",
      "VALID | AE Loss:  246.1833  | Recons:  246.1538\n",
      "total loss Patience count:  10\n",
      "EPOCH:  212\n"
     ]
    },
    {
     "name": "stderr",
     "output_type": "stream",
     "text": [
      "100%|████████████████████████████████████████████████████████████████████████████████| 875/875 [00:25<00:00, 33.99it/s]\n",
      "100%|███████████████████████████████████████████████████████████████████████████████| 218/218 [00:02<00:00, 103.19it/s]\n"
     ]
    },
    {
     "name": "stdout",
     "output_type": "stream",
     "text": [
      "TRAIN | AE Loss:  241.68239  | Recons:  241.65286  | L2_loss:  2953.6396\n",
      "VALID | AE Loss:  245.2608  | Recons:  245.23126\n",
      "EPOCH:  213\n"
     ]
    },
    {
     "name": "stderr",
     "output_type": "stream",
     "text": [
      "100%|████████████████████████████████████████████████████████████████████████████████| 875/875 [00:25<00:00, 33.94it/s]\n",
      "100%|████████████████████████████████████████████████████████████████████████████████| 218/218 [00:02<00:00, 95.90it/s]\n"
     ]
    },
    {
     "name": "stdout",
     "output_type": "stream",
     "text": [
      "TRAIN | AE Loss:  241.59787  | Recons:  241.5683  | L2_loss:  2957.233\n",
      "VALID | AE Loss:  246.95827  | Recons:  246.92868\n",
      "total loss Patience count:  1\n",
      "EPOCH:  214\n"
     ]
    },
    {
     "name": "stderr",
     "output_type": "stream",
     "text": [
      "100%|████████████████████████████████████████████████████████████████████████████████| 875/875 [00:25<00:00, 33.88it/s]\n",
      "100%|███████████████████████████████████████████████████████████████████████████████| 218/218 [00:02<00:00, 100.34it/s]\n"
     ]
    },
    {
     "name": "stdout",
     "output_type": "stream",
     "text": [
      "TRAIN | AE Loss:  241.51761  | Recons:  241.488  | L2_loss:  2961.0283\n",
      "VALID | AE Loss:  245.89572  | Recons:  245.86612\n",
      "total loss Patience count:  2\n",
      "EPOCH:  215\n"
     ]
    },
    {
     "name": "stderr",
     "output_type": "stream",
     "text": [
      "100%|████████████████████████████████████████████████████████████████████████████████| 875/875 [00:26<00:00, 33.62it/s]\n",
      "100%|███████████████████████████████████████████████████████████████████████████████| 218/218 [00:02<00:00, 100.72it/s]\n"
     ]
    },
    {
     "name": "stdout",
     "output_type": "stream",
     "text": [
      "TRAIN | AE Loss:  241.42303  | Recons:  241.39339  | L2_loss:  2964.5854\n",
      "VALID | AE Loss:  245.38876  | Recons:  245.35909\n",
      "total loss Patience count:  3\n",
      "EPOCH:  216\n"
     ]
    },
    {
     "name": "stderr",
     "output_type": "stream",
     "text": [
      "100%|████████████████████████████████████████████████████████████████████████████████| 875/875 [00:25<00:00, 33.75it/s]\n",
      "100%|████████████████████████████████████████████████████████████████████████████████| 218/218 [00:02<00:00, 98.76it/s]\n"
     ]
    },
    {
     "name": "stdout",
     "output_type": "stream",
     "text": [
      "TRAIN | AE Loss:  241.3358  | Recons:  241.3061  | L2_loss:  2968.3806\n",
      "VALID | AE Loss:  246.18935  | Recons:  246.15964\n",
      "total loss Patience count:  4\n",
      "EPOCH:  217\n"
     ]
    },
    {
     "name": "stderr",
     "output_type": "stream",
     "text": [
      "100%|████████████████████████████████████████████████████████████████████████████████| 875/875 [00:26<00:00, 32.89it/s]\n",
      "100%|████████████████████████████████████████████████████████████████████████████████| 218/218 [00:02<00:00, 98.12it/s]\n"
     ]
    },
    {
     "name": "stdout",
     "output_type": "stream",
     "text": [
      "TRAIN | AE Loss:  241.25276  | Recons:  241.22304  | L2_loss:  2972.0278\n",
      "VALID | AE Loss:  245.33612  | Recons:  245.30637\n",
      "total loss Patience count:  5\n",
      "EPOCH:  218\n"
     ]
    },
    {
     "name": "stderr",
     "output_type": "stream",
     "text": [
      "100%|████████████████████████████████████████████████████████████████████████████████| 875/875 [00:25<00:00, 33.38it/s]\n",
      "100%|████████████████████████████████████████████████████████████████████████████████| 218/218 [00:02<00:00, 96.09it/s]\n"
     ]
    },
    {
     "name": "stdout",
     "output_type": "stream",
     "text": [
      "TRAIN | AE Loss:  241.16678  | Recons:  241.13702  | L2_loss:  2975.726\n",
      "VALID | AE Loss:  245.12856  | Recons:  245.09879\n",
      "EPOCH:  219\n"
     ]
    },
    {
     "name": "stderr",
     "output_type": "stream",
     "text": [
      "100%|████████████████████████████████████████████████████████████████████████████████| 875/875 [00:25<00:00, 33.67it/s]\n",
      "100%|███████████████████████████████████████████████████████████████████████████████| 218/218 [00:02<00:00, 101.10it/s]\n"
     ]
    },
    {
     "name": "stdout",
     "output_type": "stream",
     "text": [
      "TRAIN | AE Loss:  241.07883  | Recons:  241.04901  | L2_loss:  2979.3657\n",
      "VALID | AE Loss:  245.33623  | Recons:  245.3064\n",
      "total loss Patience count:  1\n",
      "EPOCH:  220\n"
     ]
    },
    {
     "name": "stderr",
     "output_type": "stream",
     "text": [
      "100%|████████████████████████████████████████████████████████████████████████████████| 875/875 [00:25<00:00, 33.87it/s]\n",
      "100%|████████████████████████████████████████████████████████████████████████████████| 218/218 [00:02<00:00, 97.13it/s]\n"
     ]
    },
    {
     "name": "stdout",
     "output_type": "stream",
     "text": [
      "TRAIN | AE Loss:  240.98746  | Recons:  240.95764  | L2_loss:  2982.9258\n",
      "VALID | AE Loss:  245.91008  | Recons:  245.88023\n",
      "total loss Patience count:  2\n",
      "EPOCH:  221\n"
     ]
    },
    {
     "name": "stderr",
     "output_type": "stream",
     "text": [
      "100%|████████████████████████████████████████████████████████████████████████████████| 875/875 [00:25<00:00, 34.03it/s]\n",
      "100%|████████████████████████████████████████████████████████████████████████████████| 218/218 [00:02<00:00, 99.53it/s]\n"
     ]
    },
    {
     "name": "stdout",
     "output_type": "stream",
     "text": [
      "TRAIN | AE Loss:  240.91093  | Recons:  240.88107  | L2_loss:  2986.5464\n",
      "VALID | AE Loss:  245.51666  | Recons:  245.48677\n",
      "total loss Patience count:  3\n",
      "EPOCH:  222\n"
     ]
    },
    {
     "name": "stderr",
     "output_type": "stream",
     "text": [
      "100%|████████████████████████████████████████████████████████████████████████████████| 875/875 [00:25<00:00, 33.89it/s]\n",
      "100%|███████████████████████████████████████████████████████████████████████████████| 218/218 [00:02<00:00, 101.31it/s]\n"
     ]
    },
    {
     "name": "stdout",
     "output_type": "stream",
     "text": [
      "TRAIN | AE Loss:  240.83722  | Recons:  240.8073  | L2_loss:  2990.2488\n",
      "VALID | AE Loss:  245.27762  | Recons:  245.24771\n",
      "total loss Patience count:  4\n",
      "EPOCH:  223\n"
     ]
    },
    {
     "name": "stderr",
     "output_type": "stream",
     "text": [
      "100%|████████████████████████████████████████████████████████████████████████████████| 875/875 [00:25<00:00, 33.76it/s]\n",
      "100%|███████████████████████████████████████████████████████████████████████████████| 218/218 [00:02<00:00, 100.93it/s]\n"
     ]
    },
    {
     "name": "stdout",
     "output_type": "stream",
     "text": [
      "TRAIN | AE Loss:  240.74635  | Recons:  240.71643  | L2_loss:  2993.7366\n",
      "VALID | AE Loss:  245.28421  | Recons:  245.25423\n",
      "total loss Patience count:  5\n",
      "EPOCH:  224\n"
     ]
    },
    {
     "name": "stderr",
     "output_type": "stream",
     "text": [
      "100%|████████████████████████████████████████████████████████████████████████████████| 875/875 [00:25<00:00, 33.85it/s]\n",
      "100%|███████████████████████████████████████████████████████████████████████████████| 218/218 [00:02<00:00, 101.10it/s]\n"
     ]
    },
    {
     "name": "stdout",
     "output_type": "stream",
     "text": [
      "TRAIN | AE Loss:  240.66464  | Recons:  240.63467  | L2_loss:  2997.3704\n",
      "VALID | AE Loss:  244.86577  | Recons:  244.8358\n",
      "EPOCH:  225\n"
     ]
    },
    {
     "name": "stderr",
     "output_type": "stream",
     "text": [
      "100%|████████████████████████████████████████████████████████████████████████████████| 875/875 [00:26<00:00, 32.09it/s]\n",
      "100%|████████████████████████████████████████████████████████████████████████████████| 218/218 [00:02<00:00, 86.77it/s]\n"
     ]
    },
    {
     "name": "stdout",
     "output_type": "stream",
     "text": [
      "TRAIN | AE Loss:  240.58858  | Recons:  240.55853  | L2_loss:  3001.1108\n",
      "VALID | AE Loss:  245.67015  | Recons:  245.64012\n",
      "Saving model...\n",
      "Model saved\n",
      "Generating Z Space ...\n",
      "Loading model checkpoint experiments\\checkpoint_dir\\AE_MNIST_latent_dim10_h_dim500_h_nl3\\-197750 ...\n",
      "\n",
      "INFO:tensorflow:Restoring parameters from experiments\\checkpoint_dir\\AE_MNIST_latent_dim10_h_dim500_h_nl3\\-197750\n",
      "Model loaded\n",
      "EPOCHS trained:  225\n"
     ]
    },
    {
     "name": "stderr",
     "output_type": "stream",
     "text": [
      "100%|███████████████████████████████████████████████████████████████████████████████| 875/875 [00:03<00:00, 257.65it/s]\n"
     ]
    },
    {
     "name": "stdout",
     "output_type": "stream",
     "text": [
      "Z space dimensions: (56000, 2)\n",
      "Ploting Z space ...\n",
      "data size (56000, 2)\n"
     ]
    },
    {
     "name": "stderr",
     "output_type": "stream",
     "text": [
      "100%|██████████████████████████████████████████████████████████████████████████| 56000/56000 [00:15<00:00, 3694.88it/s]\n"
     ]
    },
    {
     "name": "stdout",
     "output_type": "stream",
     "text": [
      "Saving Image experiments\\log_dir\\AE_MNIST_latent_dim10_h_dim500_h_nl3\\AE_MNIST_latent_dim10_h_dim500_h_nl3 Z space in epoch 225.jpg ...\n",
      "Generating Samples ...\n",
      "Loading model checkpoint experiments\\checkpoint_dir\\AE_MNIST_latent_dim10_h_dim500_h_nl3\\-197750 ...\n",
      "\n",
      "INFO:tensorflow:Restoring parameters from experiments\\checkpoint_dir\\AE_MNIST_latent_dim10_h_dim500_h_nl3\\-197750\n",
      "Model loaded\n",
      "EPOCHS trained:  225\n"
     ]
    },
    {
     "name": "stderr",
     "output_type": "stream",
     "text": [
      "2it [00:00, 23.70it/s]                                                                                                 \n"
     ]
    },
    {
     "name": "stdout",
     "output_type": "stream",
     "text": [
      "Loading model checkpoint experiments\\checkpoint_dir\\AE_MNIST_latent_dim10_h_dim500_h_nl3\\-197750 ...\n",
      "\n",
      "INFO:tensorflow:Restoring parameters from experiments\\checkpoint_dir\\AE_MNIST_latent_dim10_h_dim500_h_nl3\\-197750\n",
      "Model loaded\n",
      "EPOCHS trained:  225\n"
     ]
    },
    {
     "name": "stderr",
     "output_type": "stream",
     "text": [
      "2it [00:00, 43.68it/s]                                                                                                 \n"
     ]
    },
    {
     "name": "stdout",
     "output_type": "stream",
     "text": [
      "Saving Image  experiments\\log_dir\\AE_MNIST_latent_dim10_h_dim500_h_nl3\\AE_MNIST_latent_dim10_h_dim500_h_nl3 samples generation in epoch 225.jpg\n",
      "total loss Patience count:  1\n",
      "EPOCH:  226\n"
     ]
    },
    {
     "name": "stderr",
     "output_type": "stream",
     "text": [
      "100%|████████████████████████████████████████████████████████████████████████████████| 875/875 [00:26<00:00, 32.77it/s]\n",
      "100%|████████████████████████████████████████████████████████████████████████████████| 218/218 [00:02<00:00, 98.73it/s]\n"
     ]
    },
    {
     "name": "stdout",
     "output_type": "stream",
     "text": [
      "TRAIN | AE Loss:  240.5149  | Recons:  240.48486  | L2_loss:  3004.4917\n",
      "VALID | AE Loss:  244.16998  | Recons:  244.13992\n",
      "EPOCH:  227\n"
     ]
    },
    {
     "name": "stderr",
     "output_type": "stream",
     "text": [
      "100%|████████████████████████████████████████████████████████████████████████████████| 875/875 [00:26<00:00, 32.68it/s]\n",
      "100%|████████████████████████████████████████████████████████████████████████████████| 218/218 [00:02<00:00, 96.38it/s]\n"
     ]
    },
    {
     "name": "stdout",
     "output_type": "stream",
     "text": [
      "TRAIN | AE Loss:  240.4212  | Recons:  240.39111  | L2_loss:  3008.1582\n",
      "VALID | AE Loss:  244.98462  | Recons:  244.95453\n",
      "total loss Patience count:  1\n",
      "EPOCH:  228\n"
     ]
    },
    {
     "name": "stderr",
     "output_type": "stream",
     "text": [
      "100%|████████████████████████████████████████████████████████████████████████████████| 875/875 [00:26<00:00, 33.26it/s]\n",
      "100%|████████████████████████████████████████████████████████████████████████████████| 218/218 [00:02<00:00, 99.06it/s]\n"
     ]
    },
    {
     "name": "stdout",
     "output_type": "stream",
     "text": [
      "TRAIN | AE Loss:  240.3539  | Recons:  240.32376  | L2_loss:  3011.7292\n",
      "VALID | AE Loss:  245.17471  | Recons:  245.14456\n",
      "total loss Patience count:  2\n",
      "EPOCH:  229\n"
     ]
    },
    {
     "name": "stderr",
     "output_type": "stream",
     "text": [
      "100%|████████████████████████████████████████████████████████████████████████████████| 875/875 [00:26<00:00, 33.03it/s]\n",
      "100%|████████████████████████████████████████████████████████████████████████████████| 218/218 [00:02<00:00, 99.69it/s]\n"
     ]
    },
    {
     "name": "stdout",
     "output_type": "stream",
     "text": [
      "TRAIN | AE Loss:  240.279  | Recons:  240.24884  | L2_loss:  3015.276\n",
      "VALID | AE Loss:  245.50523  | Recons:  245.47504\n",
      "total loss Patience count:  3\n",
      "EPOCH:  230\n"
     ]
    },
    {
     "name": "stderr",
     "output_type": "stream",
     "text": [
      "100%|████████████████████████████████████████████████████████████████████████████████| 875/875 [00:26<00:00, 33.09it/s]\n",
      "100%|████████████████████████████████████████████████████████████████████████████████| 218/218 [00:02<00:00, 97.56it/s]\n"
     ]
    },
    {
     "name": "stdout",
     "output_type": "stream",
     "text": [
      "TRAIN | AE Loss:  240.19429  | Recons:  240.1641  | L2_loss:  3018.841\n",
      "VALID | AE Loss:  244.06454  | Recons:  244.03435\n",
      "EPOCH:  231\n"
     ]
    },
    {
     "name": "stderr",
     "output_type": "stream",
     "text": [
      "100%|████████████████████████████████████████████████████████████████████████████████| 875/875 [00:26<00:00, 33.24it/s]\n",
      "100%|████████████████████████████████████████████████████████████████████████████████| 218/218 [00:02<00:00, 97.60it/s]\n"
     ]
    },
    {
     "name": "stdout",
     "output_type": "stream",
     "text": [
      "TRAIN | AE Loss:  240.10832  | Recons:  240.0781  | L2_loss:  3022.5403\n",
      "VALID | AE Loss:  244.43152  | Recons:  244.40128\n",
      "total loss Patience count:  1\n",
      "EPOCH:  232\n"
     ]
    },
    {
     "name": "stderr",
     "output_type": "stream",
     "text": [
      "100%|████████████████████████████████████████████████████████████████████████████████| 875/875 [00:26<00:00, 32.96it/s]\n",
      "100%|████████████████████████████████████████████████████████████████████████████████| 218/218 [00:02<00:00, 99.97it/s]\n"
     ]
    },
    {
     "name": "stdout",
     "output_type": "stream",
     "text": [
      "TRAIN | AE Loss:  240.02505  | Recons:  239.99478  | L2_loss:  3025.808\n",
      "VALID | AE Loss:  245.4033  | Recons:  245.37303\n",
      "total loss Patience count:  2\n",
      "EPOCH:  233\n"
     ]
    },
    {
     "name": "stderr",
     "output_type": "stream",
     "text": [
      "100%|████████████████████████████████████████████████████████████████████████████████| 875/875 [00:26<00:00, 33.00it/s]\n",
      "100%|████████████████████████████████████████████████████████████████████████████████| 218/218 [00:02<00:00, 95.98it/s]\n"
     ]
    },
    {
     "name": "stdout",
     "output_type": "stream",
     "text": [
      "TRAIN | AE Loss:  239.96475  | Recons:  239.93446  | L2_loss:  3029.5469\n",
      "VALID | AE Loss:  244.60205  | Recons:  244.57173\n",
      "total loss Patience count:  3\n",
      "EPOCH:  234\n"
     ]
    },
    {
     "name": "stderr",
     "output_type": "stream",
     "text": [
      "100%|████████████████████████████████████████████████████████████████████████████████| 875/875 [00:27<00:00, 34.20it/s]\n",
      "100%|████████████████████████████████████████████████████████████████████████████████| 218/218 [00:02<00:00, 99.00it/s]\n"
     ]
    },
    {
     "name": "stdout",
     "output_type": "stream",
     "text": [
      "TRAIN | AE Loss:  239.86665  | Recons:  239.83633  | L2_loss:  3033.044\n",
      "VALID | AE Loss:  244.12325  | Recons:  244.0929\n",
      "total loss Patience count:  4\n",
      "EPOCH:  235\n"
     ]
    },
    {
     "name": "stderr",
     "output_type": "stream",
     "text": [
      "100%|████████████████████████████████████████████████████████████████████████████████| 875/875 [00:26<00:00, 32.94it/s]\n",
      "100%|████████████████████████████████████████████████████████████████████████████████| 218/218 [00:02<00:00, 99.09it/s]\n"
     ]
    },
    {
     "name": "stdout",
     "output_type": "stream",
     "text": [
      "TRAIN | AE Loss:  239.797  | Recons:  239.76665  | L2_loss:  3036.5942\n",
      "VALID | AE Loss:  245.17245  | Recons:  245.14206\n",
      "total loss Patience count:  5\n",
      "EPOCH:  236\n"
     ]
    },
    {
     "name": "stderr",
     "output_type": "stream",
     "text": [
      "100%|████████████████████████████████████████████████████████████████████████████████| 875/875 [00:26<00:00, 33.29it/s]\n",
      "100%|████████████████████████████████████████████████████████████████████████████████| 218/218 [00:02<00:00, 99.93it/s]\n"
     ]
    },
    {
     "name": "stdout",
     "output_type": "stream",
     "text": [
      "TRAIN | AE Loss:  239.72504  | Recons:  239.69464  | L2_loss:  3040.0884\n",
      "VALID | AE Loss:  243.12144  | Recons:  243.091\n",
      "EPOCH:  237\n"
     ]
    },
    {
     "name": "stderr",
     "output_type": "stream",
     "text": [
      "100%|████████████████████████████████████████████████████████████████████████████████| 875/875 [00:26<00:00, 33.31it/s]\n",
      "100%|████████████████████████████████████████████████████████████████████████████████| 218/218 [00:02<00:00, 99.58it/s]\n"
     ]
    },
    {
     "name": "stdout",
     "output_type": "stream",
     "text": [
      "TRAIN | AE Loss:  239.64474  | Recons:  239.61432  | L2_loss:  3043.672\n",
      "VALID | AE Loss:  245.5296  | Recons:  245.49915\n",
      "total loss Patience count:  1\n",
      "EPOCH:  238\n"
     ]
    },
    {
     "name": "stderr",
     "output_type": "stream",
     "text": [
      "100%|████████████████████████████████████████████████████████████████████████████████| 875/875 [00:26<00:00, 33.27it/s]\n",
      "100%|████████████████████████████████████████████████████████████████████████████████| 218/218 [00:02<00:00, 98.37it/s]\n"
     ]
    },
    {
     "name": "stdout",
     "output_type": "stream",
     "text": [
      "TRAIN | AE Loss:  239.57782  | Recons:  239.54736  | L2_loss:  3047.1992\n",
      "VALID | AE Loss:  243.67892  | Recons:  243.64842\n",
      "total loss Patience count:  2\n",
      "EPOCH:  239\n"
     ]
    },
    {
     "name": "stderr",
     "output_type": "stream",
     "text": [
      "100%|████████████████████████████████████████████████████████████████████████████████| 875/875 [00:26<00:00, 33.32it/s]\n",
      "100%|████████████████████████████████████████████████████████████████████████████████| 218/218 [00:02<00:00, 98.91it/s]\n"
     ]
    },
    {
     "name": "stdout",
     "output_type": "stream",
     "text": [
      "TRAIN | AE Loss:  239.49751  | Recons:  239.467  | L2_loss:  3050.656\n",
      "VALID | AE Loss:  244.46227  | Recons:  244.43172\n",
      "total loss Patience count:  3\n",
      "EPOCH:  240\n"
     ]
    },
    {
     "name": "stderr",
     "output_type": "stream",
     "text": [
      "100%|████████████████████████████████████████████████████████████████████████████████| 875/875 [00:26<00:00, 33.33it/s]\n",
      "100%|████████████████████████████████████████████████████████████████████████████████| 218/218 [00:02<00:00, 95.15it/s]\n"
     ]
    },
    {
     "name": "stdout",
     "output_type": "stream",
     "text": [
      "TRAIN | AE Loss:  239.4309  | Recons:  239.40036  | L2_loss:  3054.2866\n",
      "VALID | AE Loss:  244.44356  | Recons:  244.413\n",
      "Saving model...\n",
      "Model saved\n",
      "Generating Z Space ...\n",
      "Loading model checkpoint experiments\\checkpoint_dir\\AE_MNIST_latent_dim10_h_dim500_h_nl3\\-210875 ...\n",
      "\n",
      "INFO:tensorflow:Restoring parameters from experiments\\checkpoint_dir\\AE_MNIST_latent_dim10_h_dim500_h_nl3\\-210875\n",
      "Model loaded\n",
      "EPOCHS trained:  240\n"
     ]
    },
    {
     "name": "stderr",
     "output_type": "stream",
     "text": [
      "100%|███████████████████████████████████████████████████████████████████████████████| 875/875 [00:03<00:00, 252.62it/s]\n"
     ]
    },
    {
     "name": "stdout",
     "output_type": "stream",
     "text": [
      "Z space dimensions: (56000, 2)\n",
      "Ploting Z space ...\n",
      "data size (56000, 2)\n"
     ]
    },
    {
     "name": "stderr",
     "output_type": "stream",
     "text": [
      "100%|██████████████████████████████████████████████████████████████████████████| 56000/56000 [00:15<00:00, 3732.87it/s]\n"
     ]
    },
    {
     "name": "stdout",
     "output_type": "stream",
     "text": [
      "Saving Image experiments\\log_dir\\AE_MNIST_latent_dim10_h_dim500_h_nl3\\AE_MNIST_latent_dim10_h_dim500_h_nl3 Z space in epoch 240.jpg ...\n",
      "Generating Samples ...\n",
      "Loading model checkpoint experiments\\checkpoint_dir\\AE_MNIST_latent_dim10_h_dim500_h_nl3\\-210875 ...\n",
      "\n",
      "INFO:tensorflow:Restoring parameters from experiments\\checkpoint_dir\\AE_MNIST_latent_dim10_h_dim500_h_nl3\\-210875\n",
      "Model loaded\n",
      "EPOCHS trained:  240\n"
     ]
    },
    {
     "name": "stderr",
     "output_type": "stream",
     "text": [
      "2it [00:00, 31.33it/s]                                                                                                 \n"
     ]
    },
    {
     "name": "stdout",
     "output_type": "stream",
     "text": [
      "Loading model checkpoint experiments\\checkpoint_dir\\AE_MNIST_latent_dim10_h_dim500_h_nl3\\-210875 ...\n",
      "\n",
      "INFO:tensorflow:Restoring parameters from experiments\\checkpoint_dir\\AE_MNIST_latent_dim10_h_dim500_h_nl3\\-210875\n",
      "Model loaded\n",
      "EPOCHS trained:  240\n"
     ]
    },
    {
     "name": "stderr",
     "output_type": "stream",
     "text": [
      "2it [00:00, 60.77it/s]                                                                                                 \n"
     ]
    },
    {
     "name": "stdout",
     "output_type": "stream",
     "text": [
      "Saving Image  experiments\\log_dir\\AE_MNIST_latent_dim10_h_dim500_h_nl3\\AE_MNIST_latent_dim10_h_dim500_h_nl3 samples generation in epoch 240.jpg\n",
      "total loss Patience count:  4\n",
      "EPOCH:  241\n"
     ]
    },
    {
     "name": "stderr",
     "output_type": "stream",
     "text": [
      "100%|████████████████████████████████████████████████████████████████████████████████| 875/875 [00:27<00:00, 32.55it/s]\n",
      "100%|████████████████████████████████████████████████████████████████████████████████| 218/218 [00:02<00:00, 98.44it/s]\n"
     ]
    },
    {
     "name": "stdout",
     "output_type": "stream",
     "text": [
      "TRAIN | AE Loss:  239.3488  | Recons:  239.31824  | L2_loss:  3057.7097\n",
      "VALID | AE Loss:  243.73332  | Recons:  243.70273\n",
      "total loss Patience count:  5\n",
      "EPOCH:  242\n"
     ]
    },
    {
     "name": "stderr",
     "output_type": "stream",
     "text": [
      "100%|████████████████████████████████████████████████████████████████████████████████| 875/875 [00:26<00:00, 32.60it/s]\n",
      "100%|████████████████████████████████████████████████████████████████████████████████| 218/218 [00:02<00:00, 95.25it/s]\n"
     ]
    },
    {
     "name": "stdout",
     "output_type": "stream",
     "text": [
      "TRAIN | AE Loss:  239.28967  | Recons:  239.25908  | L2_loss:  3061.14\n",
      "VALID | AE Loss:  244.07977  | Recons:  244.04913\n",
      "total loss Patience count:  6\n",
      "EPOCH:  243\n"
     ]
    },
    {
     "name": "stderr",
     "output_type": "stream",
     "text": [
      "100%|████████████████████████████████████████████████████████████████████████████████| 875/875 [00:26<00:00, 32.82it/s]\n",
      "100%|████████████████████████████████████████████████████████████████████████████████| 218/218 [00:02<00:00, 96.88it/s]\n"
     ]
    },
    {
     "name": "stdout",
     "output_type": "stream",
     "text": [
      "TRAIN | AE Loss:  239.20729  | Recons:  239.17664  | L2_loss:  3064.6428\n",
      "VALID | AE Loss:  244.19904  | Recons:  244.16838\n",
      "total loss Patience count:  7\n",
      "EPOCH:  244\n"
     ]
    },
    {
     "name": "stderr",
     "output_type": "stream",
     "text": [
      "100%|████████████████████████████████████████████████████████████████████████████████| 875/875 [00:27<00:00, 32.37it/s]\n",
      "100%|████████████████████████████████████████████████████████████████████████████████| 218/218 [00:02<00:00, 98.78it/s]\n"
     ]
    },
    {
     "name": "stdout",
     "output_type": "stream",
     "text": [
      "TRAIN | AE Loss:  239.12155  | Recons:  239.09085  | L2_loss:  3068.2551\n",
      "VALID | AE Loss:  243.89357  | Recons:  243.86285\n",
      "total loss Patience count:  8\n",
      "EPOCH:  245\n"
     ]
    },
    {
     "name": "stderr",
     "output_type": "stream",
     "text": [
      "100%|████████████████████████████████████████████████████████████████████████████████| 875/875 [00:26<00:00, 32.43it/s]\n",
      "100%|████████████████████████████████████████████████████████████████████████████████| 218/218 [00:02<00:00, 94.35it/s]\n"
     ]
    },
    {
     "name": "stdout",
     "output_type": "stream",
     "text": [
      "TRAIN | AE Loss:  239.06259  | Recons:  239.03188  | L2_loss:  3071.6287\n",
      "VALID | AE Loss:  244.48518  | Recons:  244.45447\n",
      "total loss Patience count:  9\n",
      "EPOCH:  246\n"
     ]
    },
    {
     "name": "stderr",
     "output_type": "stream",
     "text": [
      "100%|████████████████████████████████████████████████████████████████████████████████| 875/875 [00:26<00:00, 33.01it/s]\n",
      "100%|████████████████████████████████████████████████████████████████████████████████| 218/218 [00:02<00:00, 95.69it/s]\n"
     ]
    },
    {
     "name": "stdout",
     "output_type": "stream",
     "text": [
      "TRAIN | AE Loss:  238.98618  | Recons:  238.95543  | L2_loss:  3075.1548\n",
      "VALID | AE Loss:  243.47154  | Recons:  243.44077\n",
      "total loss Patience count:  10\n",
      "EPOCH:  247\n"
     ]
    },
    {
     "name": "stderr",
     "output_type": "stream",
     "text": [
      "100%|████████████████████████████████████████████████████████████████████████████████| 875/875 [00:27<00:00, 31.82it/s]\n",
      "100%|████████████████████████████████████████████████████████████████████████████████| 218/218 [00:02<00:00, 97.88it/s]\n"
     ]
    },
    {
     "name": "stdout",
     "output_type": "stream",
     "text": [
      "TRAIN | AE Loss:  238.91357  | Recons:  238.8828  | L2_loss:  3078.5803\n",
      "VALID | AE Loss:  243.14966  | Recons:  243.11882\n",
      "total loss Patience count:  11\n",
      "EPOCH:  248\n"
     ]
    },
    {
     "name": "stderr",
     "output_type": "stream",
     "text": [
      "100%|████████████████████████████████████████████████████████████████████████████████| 875/875 [00:26<00:00, 32.42it/s]\n",
      "100%|████████████████████████████████████████████████████████████████████████████████| 218/218 [00:02<00:00, 94.97it/s]\n"
     ]
    },
    {
     "name": "stdout",
     "output_type": "stream",
     "text": [
      "TRAIN | AE Loss:  238.85634  | Recons:  238.82553  | L2_loss:  3081.9995\n",
      "VALID | AE Loss:  244.19617  | Recons:  244.16533\n",
      "total loss Patience count:  12\n",
      "EPOCH:  249\n"
     ]
    },
    {
     "name": "stderr",
     "output_type": "stream",
     "text": [
      "100%|████████████████████████████████████████████████████████████████████████████████| 875/875 [00:26<00:00, 32.65it/s]\n",
      "100%|████████████████████████████████████████████████████████████████████████████████| 218/218 [00:02<00:00, 97.75it/s]\n"
     ]
    },
    {
     "name": "stdout",
     "output_type": "stream",
     "text": [
      "TRAIN | AE Loss:  238.78178  | Recons:  238.75096  | L2_loss:  3085.4275\n",
      "VALID | AE Loss:  243.5616  | Recons:  243.53073\n",
      "total loss Patience count:  13\n",
      "EPOCH:  250\n"
     ]
    },
    {
     "name": "stderr",
     "output_type": "stream",
     "text": [
      "100%|████████████████████████████████████████████████████████████████████████████████| 875/875 [00:27<00:00, 33.68it/s]\n",
      "100%|████████████████████████████████████████████████████████████████████████████████| 218/218 [00:02<00:00, 92.81it/s]\n"
     ]
    },
    {
     "name": "stdout",
     "output_type": "stream",
     "text": [
      "TRAIN | AE Loss:  238.69077  | Recons:  238.6599  | L2_loss:  3088.9822\n",
      "VALID | AE Loss:  243.56999  | Recons:  243.5391\n",
      "total loss Patience count:  14\n",
      "EPOCH:  251\n"
     ]
    },
    {
     "name": "stderr",
     "output_type": "stream",
     "text": [
      "100%|████████████████████████████████████████████████████████████████████████████████| 875/875 [00:26<00:00, 32.46it/s]\n",
      "100%|████████████████████████████████████████████████████████████████████████████████| 218/218 [00:02<00:00, 94.42it/s]\n"
     ]
    },
    {
     "name": "stdout",
     "output_type": "stream",
     "text": [
      "TRAIN | AE Loss:  238.64279  | Recons:  238.61186  | L2_loss:  3092.4229\n",
      "VALID | AE Loss:  243.4818  | Recons:  243.45084\n",
      "total loss Patience count:  15\n",
      "EPOCH:  252\n"
     ]
    },
    {
     "name": "stderr",
     "output_type": "stream",
     "text": [
      "100%|████████████████████████████████████████████████████████████████████████████████| 875/875 [00:26<00:00, 32.42it/s]\n",
      "100%|████████████████████████████████████████████████████████████████████████████████| 218/218 [00:02<00:00, 93.42it/s]\n"
     ]
    },
    {
     "name": "stdout",
     "output_type": "stream",
     "text": [
      "TRAIN | AE Loss:  238.56384  | Recons:  238.5329  | L2_loss:  3095.796\n",
      "VALID | AE Loss:  243.47931  | Recons:  243.44833\n",
      "total loss Patience count:  16\n",
      "Early Stopping!\n",
      "Saving model...\n",
      "Model saved\n",
      "Generating Z Space ...\n",
      "Loading model checkpoint experiments\\checkpoint_dir\\AE_MNIST_latent_dim10_h_dim500_h_nl3\\-221375 ...\n",
      "\n",
      "INFO:tensorflow:Restoring parameters from experiments\\checkpoint_dir\\AE_MNIST_latent_dim10_h_dim500_h_nl3\\-221375\n",
      "Model loaded\n",
      "EPOCHS trained:  253\n"
     ]
    },
    {
     "name": "stderr",
     "output_type": "stream",
     "text": [
      "100%|███████████████████████████████████████████████████████████████████████████████| 875/875 [00:03<00:00, 250.65it/s]\n"
     ]
    },
    {
     "name": "stdout",
     "output_type": "stream",
     "text": [
      "Z space dimensions: (56000, 2)\n",
      "Ploting Z space ...\n",
      "data size (56000, 2)\n"
     ]
    },
    {
     "name": "stderr",
     "output_type": "stream",
     "text": [
      "100%|██████████████████████████████████████████████████████████████████████████| 56000/56000 [00:15<00:00, 3610.47it/s]\n"
     ]
    },
    {
     "name": "stdout",
     "output_type": "stream",
     "text": [
      "Saving Image experiments\\log_dir\\AE_MNIST_latent_dim10_h_dim500_h_nl3\\AE_MNIST_latent_dim10_h_dim500_h_nl3 Z space in epoch 252.jpg ...\n"
     ]
    }
   ],
   "source": [
    "ae.fit(X,y)"
   ]
  },
  {
   "cell_type": "code",
   "execution_count": 46,
   "metadata": {},
   "outputs": [],
   "source": [
    "from IPython.display import display"
   ]
  },
  {
   "cell_type": "code",
   "execution_count": 65,
   "metadata": {},
   "outputs": [],
   "source": [
    "m1, m2 = ae.animate()"
   ]
  },
  {
   "cell_type": "code",
   "execution_count": null,
   "metadata": {},
   "outputs": [],
   "source": [
    "display(m1)"
   ]
  },
  {
   "cell_type": "code",
   "execution_count": null,
   "metadata": {},
   "outputs": [],
   "source": [
    "display(m2)"
   ]
  },
  {
   "cell_type": "code",
   "execution_count": 68,
   "metadata": {},
   "outputs": [],
   "source": [
    "import matplotlib.pyplot as plt"
   ]
  },
  {
   "cell_type": "code",
   "execution_count": 69,
   "metadata": {},
   "outputs": [
    {
     "data": {
      "text/plain": [
       "(-0.5, 27.5, 27.5, -0.5)"
      ]
     },
     "execution_count": 69,
     "metadata": {},
     "output_type": "execute_result"
    },
    {
     "data": {
      "image/png": "[encoded data removed]",
      "text/plain": [
       "<matplotlib.figure.Figure at 0x14013fe8eb8>"
      ]
     },
     "metadata": {
      "needs_background": "light"
     },
     "output_type": "display_data"
    }
   ],
   "source": [
    "plt.imshow(X[0])\n",
    "plt.axis('off')"
   ]
  },
  {
   "cell_type": "code",
   "execution_count": 70,
   "metadata": {
    "scrolled": true
   },
   "outputs": [
    {
     "name": "stdout",
     "output_type": "stream",
     "text": [
      "Scaling dataset\n",
      "Loading model checkpoint experiments\\checkpoint_dir\\AE_MNIST_latent_dim10_h_dim500_h_nl3\\-221375 ...\n",
      "\n",
      "INFO:tensorflow:Restoring parameters from experiments\\checkpoint_dir\\AE_MNIST_latent_dim10_h_dim500_h_nl3\\-221375\n",
      "Model loaded\n",
      "EPOCHS trained:  253\n"
     ]
    },
    {
     "name": "stderr",
     "output_type": "stream",
     "text": [
      "1it [00:00,  4.64it/s]\n"
     ]
    }
   ],
   "source": [
    "z1 = ae.encode(X[0:1])"
   ]
  },
  {
   "cell_type": "code",
   "execution_count": 71,
   "metadata": {
    "scrolled": true
   },
   "outputs": [
    {
     "data": {
      "text/plain": [
       "(1, 10)"
      ]
     },
     "execution_count": 71,
     "metadata": {},
     "output_type": "execute_result"
    }
   ],
   "source": [
    "z1.shape"
   ]
  },
  {
   "cell_type": "code",
   "execution_count": null,
   "metadata": {},
   "outputs": [
    {
     "name": "stdout",
     "output_type": "stream",
     "text": [
      "Loading model checkpoint experiments\\checkpoint_dir\\AE_MNIST_latent_dim10_h_dim500_h_nl3\\-221375 ...\n",
      "\n",
      "INFO:tensorflow:Restoring parameters from experiments\\checkpoint_dir\\AE_MNIST_latent_dim10_h_dim500_h_nl3\\-221375\n",
      "Model loaded\n",
      "EPOCHS trained:  253\n"
     ]
    },
    {
     "name": "stderr",
     "output_type": "stream",
     "text": [
      "1it [00:00,  9.55it/s]\n"
     ]
    }
   ],
   "source": [
    "x1_const = ae.decode(z1)"
   ]
  },
  {
   "cell_type": "code",
   "execution_count": null,
   "metadata": {},
   "outputs": [
    {
     "data": {
      "text/plain": [
       "(-0.5, 27.5, 27.5, -0.5)"
      ]
     },
     "execution_count": 73,
     "metadata": {},
     "output_type": "execute_result"
    },
    {
     "data": {
      "image/png": "[encoded data removed]",
      "text/plain": [
       "<matplotlib.figure.Figure at 0x140137474e0>"
      ]
     },
     "metadata": {
      "needs_background": "light"
     },
     "output_type": "display_data"
    }
   ],
   "source": [
    "plt.imshow(x1_const[0])\n",
    "plt.axis('off')"
   ]
  },
  {
   "cell_type": "code",
   "execution_count": null,
   "metadata": {},
   "outputs": [
    {
     "name": "stdout",
     "output_type": "stream",
     "text": [
      "Scaling dataset\n",
      "Loading model checkpoint experiments\\checkpoint_dir\\AE_MNIST_latent_dim10_h_dim500_h_nl3\\-221375 ...\n",
      "\n",
      "INFO:tensorflow:Restoring parameters from experiments\\checkpoint_dir\\AE_MNIST_latent_dim10_h_dim500_h_nl3\\-221375\n",
      "Model loaded\n",
      "EPOCHS trained:  253\n"
     ]
    },
    {
     "name": "stderr",
     "output_type": "stream",
     "text": [
      "2it [00:00, 11.53it/s]                                                                                                 \n"
     ]
    }
   ],
   "source": [
    "pred = ae.reconst_loss(X[0:100])"
   ]
  },
  {
   "cell_type": "code",
   "execution_count": null,
   "metadata": {},
   "outputs": [
    {
     "data": {
      "text/plain": [
       "(100, 1)"
      ]
     },
     "execution_count": 75,
     "metadata": {},
     "output_type": "execute_result"
    }
   ],
   "source": [
    "pred.shape"
   ]
  },
  {
   "cell_type": "code",
   "execution_count": null,
   "metadata": {},
   "outputs": [
    {
     "data": {
      "text/plain": [
       "(-0.5, 27.5, 27.5, -0.5)"
      ]
     },
     "execution_count": 76,
     "metadata": {},
     "output_type": "execute_result"
    },
    {
     "data": {
      "image/png": "[encoded data removed]",
      "text/plain": [
       "<matplotlib.figure.Figure at 0x140157d9550>"
      ]
     },
     "metadata": {
      "needs_background": "light"
     },
     "output_type": "display_data"
    }
   ],
   "source": [
    "plt.imshow(X[1])\n",
    "plt.axis('off')"
   ]
  },
  {
   "cell_type": "code",
   "execution_count": null,
   "metadata": {
    "scrolled": true
   },
   "outputs": [
    {
     "name": "stdout",
     "output_type": "stream",
     "text": [
      "Scaling dataset\n",
      "Scaling dataset\n",
      "Loading model checkpoint experiments\\checkpoint_dir\\AE_MNIST_latent_dim10_h_dim500_h_nl3\\-221375 ...\n",
      "\n",
      "INFO:tensorflow:Restoring parameters from experiments\\checkpoint_dir\\AE_MNIST_latent_dim10_h_dim500_h_nl3\\-221375\n",
      "Model loaded\n",
      "EPOCHS trained:  253\n"
     ]
    },
    {
     "name": "stderr",
     "output_type": "stream",
     "text": [
      "2it [00:00,  8.68it/s]                                                                                                 \n"
     ]
    },
    {
     "name": "stdout",
     "output_type": "stream",
     "text": [
      "Loading model checkpoint experiments\\checkpoint_dir\\AE_MNIST_latent_dim10_h_dim500_h_nl3\\-221375 ...\n",
      "\n",
      "INFO:tensorflow:Restoring parameters from experiments\\checkpoint_dir\\AE_MNIST_latent_dim10_h_dim500_h_nl3\\-221375\n",
      "Model loaded\n",
      "EPOCHS trained:  253\n"
     ]
    },
    {
     "name": "stderr",
     "output_type": "stream",
     "text": [
      "2it [00:00,  8.91it/s]                                                                                                 \n"
     ]
    },
    {
     "name": "stdout",
     "output_type": "stream",
     "text": [
      "Loading model checkpoint experiments\\checkpoint_dir\\AE_MNIST_latent_dim10_h_dim500_h_nl3\\-221375 ...\n",
      "\n",
      "INFO:tensorflow:Restoring parameters from experiments\\checkpoint_dir\\AE_MNIST_latent_dim10_h_dim500_h_nl3\\-221375\n",
      "Model loaded\n",
      "EPOCHS trained:  253\n"
     ]
    },
    {
     "name": "stderr",
     "output_type": "stream",
     "text": [
      "2it [00:00, 13.28it/s]                                                                                                 \n"
     ]
    },
    {
     "name": "stdout",
     "output_type": "stream",
     "text": [
      "Loading model checkpoint experiments\\checkpoint_dir\\AE_MNIST_latent_dim10_h_dim500_h_nl3\\-221375 ...\n",
      "\n",
      "INFO:tensorflow:Restoring parameters from experiments\\checkpoint_dir\\AE_MNIST_latent_dim10_h_dim500_h_nl3\\-221375\n",
      "Model loaded\n",
      "EPOCHS trained:  253\n"
     ]
    },
    {
     "name": "stderr",
     "output_type": "stream",
     "text": [
      "2it [00:00, 17.75it/s]                                                                                                 \n"
     ]
    },
    {
     "name": "stdout",
     "output_type": "stream",
     "text": [
      "Loading model checkpoint experiments\\checkpoint_dir\\AE_MNIST_latent_dim10_h_dim500_h_nl3\\-221375 ...\n",
      "\n",
      "INFO:tensorflow:Restoring parameters from experiments\\checkpoint_dir\\AE_MNIST_latent_dim10_h_dim500_h_nl3\\-221375\n",
      "Model loaded\n",
      "EPOCHS trained:  253\n"
     ]
    },
    {
     "name": "stderr",
     "output_type": "stream",
     "text": [
      "2it [00:00, 17.14it/s]                                                                                                 \n"
     ]
    },
    {
     "name": "stdout",
     "output_type": "stream",
     "text": [
      "Loading model checkpoint experiments\\checkpoint_dir\\AE_MNIST_latent_dim10_h_dim500_h_nl3\\-221375 ...\n",
      "\n",
      "INFO:tensorflow:Restoring parameters from experiments\\checkpoint_dir\\AE_MNIST_latent_dim10_h_dim500_h_nl3\\-221375\n",
      "Model loaded\n",
      "EPOCHS trained:  253\n"
     ]
    },
    {
     "name": "stderr",
     "output_type": "stream",
     "text": [
      "2it [00:00, 18.92it/s]                                                                                                 \n"
     ]
    },
    {
     "name": "stdout",
     "output_type": "stream",
     "text": [
      "Loading model checkpoint experiments\\checkpoint_dir\\AE_MNIST_latent_dim10_h_dim500_h_nl3\\-221375 ...\n",
      "\n",
      "INFO:tensorflow:Restoring parameters from experiments\\checkpoint_dir\\AE_MNIST_latent_dim10_h_dim500_h_nl3\\-221375\n",
      "Model loaded\n",
      "EPOCHS trained:  253\n"
     ]
    },
    {
     "name": "stderr",
     "output_type": "stream",
     "text": [
      "2it [00:00, 23.05it/s]                                                                                                 \n"
     ]
    },
    {
     "name": "stdout",
     "output_type": "stream",
     "text": [
      "Loading model checkpoint experiments\\checkpoint_dir\\AE_MNIST_latent_dim10_h_dim500_h_nl3\\-221375 ...\n",
      "\n",
      "INFO:tensorflow:Restoring parameters from experiments\\checkpoint_dir\\AE_MNIST_latent_dim10_h_dim500_h_nl3\\-221375\n",
      "Model loaded\n",
      "EPOCHS trained:  253\n"
     ]
    },
    {
     "name": "stderr",
     "output_type": "stream",
     "text": [
      "2it [00:00, 17.59it/s]                                                                                                 \n"
     ]
    },
    {
     "name": "stdout",
     "output_type": "stream",
     "text": [
      "Loading model checkpoint experiments\\checkpoint_dir\\AE_MNIST_latent_dim10_h_dim500_h_nl3\\-221375 ...\n",
      "\n",
      "INFO:tensorflow:Restoring parameters from experiments\\checkpoint_dir\\AE_MNIST_latent_dim10_h_dim500_h_nl3\\-221375\n",
      "Model loaded\n",
      "EPOCHS trained:  253\n"
     ]
    },
    {
     "name": "stderr",
     "output_type": "stream",
     "text": [
      "2it [00:00, 18.40it/s]                                                                                                 \n"
     ]
    },
    {
     "name": "stdout",
     "output_type": "stream",
     "text": [
      "Loading model checkpoint experiments\\checkpoint_dir\\AE_MNIST_latent_dim10_h_dim500_h_nl3\\-221375 ...\n",
      "\n",
      "INFO:tensorflow:Restoring parameters from experiments\\checkpoint_dir\\AE_MNIST_latent_dim10_h_dim500_h_nl3\\-221375\n",
      "Model loaded\n",
      "EPOCHS trained:  253\n"
     ]
    },
    {
     "name": "stderr",
     "output_type": "stream",
     "text": [
      "2it [00:00, 18.07it/s]                                                                                                 \n"
     ]
    },
    {
     "name": "stdout",
     "output_type": "stream",
     "text": [
      "Loading model checkpoint experiments\\checkpoint_dir\\AE_MNIST_latent_dim10_h_dim500_h_nl3\\-221375 ...\n",
      "\n",
      "INFO:tensorflow:Restoring parameters from experiments\\checkpoint_dir\\AE_MNIST_latent_dim10_h_dim500_h_nl3\\-221375\n",
      "Model loaded\n",
      "EPOCHS trained:  253\n"
     ]
    },
    {
     "name": "stderr",
     "output_type": "stream",
     "text": [
      "2it [00:00, 19.85it/s]                                                                                                 \n"
     ]
    },
    {
     "name": "stdout",
     "output_type": "stream",
     "text": [
      "Loading model checkpoint experiments\\checkpoint_dir\\AE_MNIST_latent_dim10_h_dim500_h_nl3\\-221375 ...\n",
      "\n",
      "INFO:tensorflow:Restoring parameters from experiments\\checkpoint_dir\\AE_MNIST_latent_dim10_h_dim500_h_nl3\\-221375\n",
      "Model loaded\n",
      "EPOCHS trained:  253\n"
     ]
    },
    {
     "name": "stderr",
     "output_type": "stream",
     "text": [
      "2it [00:00, 20.67it/s]                                                                                                 \n"
     ]
    }
   ],
   "source": [
    "imgs = ae.interpolate(X[0:100], X[200:300])"
   ]
  },
  {
   "cell_type": "code",
   "execution_count": null,
   "metadata": {},
   "outputs": [],
   "source": [
    "from _utils.plots import merge\n",
    "from scipy.misc import imresize"
   ]
  },
  {
   "cell_type": "code",
   "execution_count": null,
   "metadata": {},
   "outputs": [
    {
     "data": {
      "text/plain": [
       "100"
      ]
     },
     "execution_count": 79,
     "metadata": {},
     "output_type": "execute_result"
    }
   ],
   "source": [
    "len(imgs)"
   ]
  },
  {
   "cell_type": "code",
   "execution_count": null,
   "metadata": {},
   "outputs": [],
   "source": [
    "scale = 5\n",
    "im = merge(np.vstack(imgs), (len(imgs),12))\n",
    "fig_width = int(im.shape[0] * scale)\n",
    "fig_height = int(im.shape[1] * scale)\n",
    "\n",
    "im = imresize(im, (fig_width, fig_height, 3))"
   ]
  },
  {
   "cell_type": "code",
   "execution_count": null,
   "metadata": {},
   "outputs": [],
   "source": [
    "plt.figure(figsize = (len(imgs),12), dpi=300)\n",
    "plt.imshow(im)\n",
    "plt.axis('off')"
   ]
  },
  {
   "cell_type": "code",
   "execution_count": null,
   "metadata": {},
   "outputs": [],
   "source": [
    "import scipy.misc\n",
    "scipy.misc.imsave(ae.model.summary_dir+'\\\\interpolate.jpg', im)"
   ]
  },
  {
   "cell_type": "code",
   "execution_count": null,
   "metadata": {},
   "outputs": [],
   "source": []
  },
  {
   "cell_type": "code",
   "execution_count": null,
   "metadata": {},
   "outputs": [],
   "source": []
  },
  {
   "cell_type": "code",
   "execution_count": null,
   "metadata": {},
   "outputs": [],
   "source": []
  }
 ],
 "metadata": {
  "kernelspec": {
   "display_name": "Python 3",
   "language": "python",
   "name": "python3"
  },
  "language_info": {
   "codemirror_mode": {
    "name": "ipython",
    "version": 3
   },
   "file_extension": ".py",
   "mimetype": "text/x-python",
   "name": "python",
   "nbconvert_exporter": "python",
   "pygments_lexer": "ipython3",
   "version": "3.6.7"
  }
 },
 "nbformat": 4,
 "nbformat_minor": 2
}
